{
  "nbformat": 4,
  "nbformat_minor": 0,
  "metadata": {
    "colab": {
      "provenance": [],
      "include_colab_link": true
    },
    "kernelspec": {
      "name": "python3",
      "display_name": "Python 3"
    },
    "language_info": {
      "name": "python"
    }
  },
  "cells": [
    {
      "cell_type": "markdown",
      "metadata": {
        "id": "view-in-github",
        "colab_type": "text"
      },
      "source": [
        "<a href=\"https://colab.research.google.com/github/Omolabak5/data-and-python/blob/main/Copy_of_D_05b_numpy_statistics.ipynb\" target=\"_parent\"><img src=\"https://colab.research.google.com/assets/colab-badge.svg\" alt=\"Open In Colab\"/></a>"
      ]
    },
    {
      "cell_type": "markdown",
      "metadata": {
        "id": "M21YTen340ZU"
      },
      "source": [
        "# Numpy for Statistical Analysis\n",
        "\n",
        "---"
      ]
    },
    {
      "cell_type": "markdown",
      "source": [
        "The exercises in this worksheet will use data on income in certain US states. Run the cell below to import the data, which will be available for you to use as `df`"
      ],
      "metadata": {
        "id": "GytGlqOd9TQr"
      }
    },
    {
      "cell_type": "code",
      "source": [
        "import pandas as pd\n",
        "import numpy as np\n",
        "\n",
        "url = 'https://github.com/futureCodersSE/python-programming-for-data/blob/main/Datasets/Income-Data.xlsx?raw=True'\n",
        "df = pd.read_excel(url)\n"
      ],
      "metadata": {
        "id": "w52hl5pHSxzb"
      },
      "execution_count": 3,
      "outputs": []
    },
    {
      "cell_type": "markdown",
      "metadata": {
        "id": "qf3xj2T9CRmT"
      },
      "source": [
        "---\n",
        "### Exercise 1 - get some statistics from a numpy array created from a data series\n",
        "\n",
        "\n",
        "Write a function which will create a numpy array from the `Age` column in the income dataset and will print the following:\n",
        "\n",
        "*  the average (mean) age of those surveyed  \n",
        "*  the median age of those surveyed\n",
        "*  the age of the oldest person\n",
        "*  the age of the youngest person\n",
        "\n",
        "Expected output:  \n",
        "```\n",
        "29.88888888888889\n",
        "28.0\n",
        "42\n",
        "22\n",
        "```\n",
        "\n",
        "     "
      ]
    },
    {
      "cell_type": "code",
      "metadata": {
        "id": "27UpVktxC_VX",
        "colab": {
          "base_uri": "https://localhost:8080/"
        },
        "outputId": "e98feae7-22ca-420a-8716-e2192e1e9eae"
      },
      "source": [
        "import pandas as pd\n",
        "import numpy as np\n",
        "\n",
        "def get_age_stats():\n",
        "  # add your code below here to create a numpy array from the Age column, calculate and print the statistics\n",
        "  # create a numpy array from the Age colunm\n",
        "  age = df['Age'].to_numpy(np.float64)\n",
        "\n",
        "  #calculate the statistics; mean,median, age of oldest and youngest\n",
        "  mean_age = np.mean(age)\n",
        "  median_age = np.median(age)\n",
        "  age_of_oldest = np.max(age)\n",
        "  age_of_youngest = np.min(age)\n",
        "\n",
        "  #print the result\n",
        "  print(mean_age)\n",
        "  print(median_age)\n",
        "  print(age_of_oldest)\n",
        "  print(age_of_youngest)\n",
        "\n",
        "\n",
        "\n",
        "# run the function and test against the expected output.\n",
        "get_age_stats()"
      ],
      "execution_count": 2,
      "outputs": [
        {
          "output_type": "stream",
          "name": "stdout",
          "text": [
            "29.88888888888889\n",
            "28.0\n",
            "42.0\n",
            "22.0\n"
          ]
        }
      ]
    },
    {
      "cell_type": "markdown",
      "source": [
        "### Exercise 2 - find the mode value from a numpy array\n",
        "\n",
        "Write a function that will create a numpy array from the `Age` column in the income dataset and will print the mode value.\n",
        "\n",
        "*There is only one mode in this data range, but as an extra challenge, include code in your function that will check there is only one value equal to the maximum and print 'more than one mode' if multiple modes are found.*\n",
        "\n",
        "Expected output:\n",
        "\n",
        "25"
      ],
      "metadata": {
        "id": "CBzecUkJxr_E"
      }
    },
    {
      "cell_type": "code",
      "source": [
        "def get_mode():\n",
        "  # add your code below to read create a numpy array from the Age column and compute the mode\n",
        "  # create a numpy array from the Age colunm\n",
        "  age = df['Age'].to_numpy(np.float64)\n",
        "  try:\n",
        "    #counts the occurence of each value, return the values and their counts\n",
        "   values,counts = np.unique(age, return_counts = True)\n",
        "   #print(values)\n",
        "   #print(counts)\n",
        "   max_count = np.max(counts) #get the highest counts\n",
        "   max_count_index = list(counts).index(max_count)  #get the position of the highest counts\n",
        "   mode_value = values[max_count_index]  #get the corresponding value in the highest counts position\n",
        "   return mode_value\n",
        "  except:\n",
        "    #return \"more than one mode\" if there are more than one value\n",
        "    return \"more than one mode\"\n",
        "\n",
        "\n",
        "\n",
        "get_mode()"
      ],
      "metadata": {
        "id": "gCPWMwjl910Y",
        "colab": {
          "base_uri": "https://localhost:8080/"
        },
        "outputId": "47e36cb8-f038-4a26-c9e1-5f24c9255b42"
      },
      "execution_count": 4,
      "outputs": [
        {
          "output_type": "execute_result",
          "data": {
            "text/plain": [
              "25.0"
            ]
          },
          "metadata": {},
          "execution_count": 4
        }
      ]
    },
    {
      "cell_type": "markdown",
      "metadata": {
        "id": "DDVIHbrnFjwz"
      },
      "source": [
        "---\n",
        "### Exercise 3 - find the mean and standard deviation of wages\n",
        "\n",
        "This exercise will again use data on income in certain US states.  \n",
        "\n",
        "Write a function which will create a numpy array from the `Income` column in the income dataset and will print the following:\n",
        "\n",
        "*  the mean income of those surveyed  \n",
        "*  the standard deviation of income\n",
        "*  the highest income\n",
        "*  the lowest income as a percentage of the mean (lowest / mean * 100)\n",
        "\n",
        "\n",
        "Expected output:  \n",
        "```\n",
        "63.388888888888886\n",
        "13.936916958961463\n",
        "81\n",
        "34.70639789658195\n",
        "```\n",
        "\n"
      ]
    },
    {
      "cell_type": "code",
      "metadata": {
        "id": "YB72q998EWkF",
        "colab": {
          "base_uri": "https://localhost:8080/"
        },
        "outputId": "9789e254-3f9f-4065-dd01-69012b1ca06c"
      },
      "source": [
        "import pandas as pd\n",
        "import numpy as np\n",
        "\n",
        "def get_income_stats():\n",
        "  # add your code below to calculate the stats\n",
        "  # create a numpy array from the Income colunm\n",
        "  income = df['Income'].to_numpy(np.float16)\n",
        "\n",
        "  #calculate the summary statistics\n",
        "  mean_income = np.mean(income)\n",
        "  std_income = np.std(income)\n",
        "  highest_income = np.max(income)\n",
        "  lowest_income = np.min(income)\n",
        "  lowest_income_percentage = lowest_income / mean_income * 100\n",
        "\n",
        "  #print the results of summary statistics\n",
        "  print(mean_income)\n",
        "  print(std_income)\n",
        "  print(highest_income)\n",
        "  print(lowest_income_percentage)\n",
        "\n",
        "\n",
        "\n",
        "\n",
        "# run the function and test against expected output\n",
        "get_income_stats()"
      ],
      "execution_count": 5,
      "outputs": [
        {
          "output_type": "stream",
          "name": "stdout",
          "text": [
            "63.38\n",
            "13.94\n",
            "81.0\n",
            "34.716796875\n"
          ]
        }
      ]
    },
    {
      "cell_type": "markdown",
      "source": [
        "### Exercise 4 - find income IQR\n",
        "\n",
        "Write a function that will create a numpy array from the `Income` column of the income dataset and print the following:\n",
        "* the 25th percentile\n",
        "* the 75th percentile\n",
        "* the interquartile range\n",
        "\n",
        "Expected output:\n",
        "```\n",
        "62.0\n",
        "73.0\n",
        "11.0\n",
        "```\n"
      ],
      "metadata": {
        "id": "H2BYIMJM-BpJ"
      }
    },
    {
      "cell_type": "code",
      "source": [
        "def get_income_iqr():\n",
        "  # add your code to calculate the interquartile range\n",
        "  # create a numpy array from the Income colunm\n",
        "  income = df['Income'].to_numpy(np.float16)\n",
        "\n",
        "  percentile_25 = np.percentile(income,25)  #calculate the 25th percentile\n",
        "  percentile_75 = np.percentile(income,75) #calculate the 75th percentile\n",
        "  iqr = percentile_75 - percentile_25 #get the IQR as the difference between the 75th & 25th percentiles\n",
        "\n",
        "  #print the results above\n",
        "  print(percentile_25)\n",
        "  print(percentile_75)\n",
        "  print(iqr)\n",
        "\n",
        "\n",
        "\n",
        "get_income_iqr()"
      ],
      "metadata": {
        "id": "2H5BptYk-BYJ",
        "colab": {
          "base_uri": "https://localhost:8080/"
        },
        "outputId": "e3e04aa8-954a-41ff-deff-48c313f0887a"
      },
      "execution_count": 7,
      "outputs": [
        {
          "output_type": "stream",
          "name": "stdout",
          "text": [
            "62.0\n",
            "73.0\n",
            "11.0\n"
          ]
        }
      ]
    },
    {
      "cell_type": "markdown",
      "source": [
        "### Exercise 5 - find outliers\n",
        "\n",
        "Write a function that will create a numpy array from the Income column that will do the following:\n",
        "* calculate the standard deviation, mean, Q1, Q2 and interquartile range of the data (as separate variables)\n",
        "* calculate the upper limit for outliers based on both standard deviation and iqr\n",
        "* calculate the lower limit for outliers based on both standard deviation and iqr\n",
        "* filter four times, once for each outlier type\n",
        "* print the outliers\n",
        "\n",
        "\n",
        "Expected output:\n",
        "```\n",
        "Upper outliers by std: []\n",
        "Lower outliers by std: [22]\n",
        "Upper outliers by iqr: []\n",
        "Lower outliers by iqr: [45 22]\n",
        "```"
      ],
      "metadata": {
        "id": "NdMpUt3yJKTV"
      }
    },
    {
      "cell_type": "code",
      "source": [
        "def find_outliers():\n",
        "  # add your code to calculate the outliers\n",
        "  # create a numpy array from the Income colunm\n",
        "  income = df['Income'].to_numpy(np.float16)\n",
        "\n",
        "\n",
        "  std = np.std(income) #calculate the standard deviation\n",
        "  mean = np.mean(income) #calculate the mean\n",
        "  q1 = np.percentile(income,25) #calculate the 25th percentile\n",
        "  q2 = np.percentile(income,50) #calculate the 50th percentile\n",
        "  q3 = np.percentile(income,75) #calculate the 75th percentile\n",
        "  iqr = q3 - q1 #calculate the IQR\n",
        "  upper_limit_std = mean + (std*2) #calculate the upper limit for outliers based on standard deviation\n",
        "  lower_limit_std = mean - (std*2) #calculate the lower limit for outliers based on standard deviation\n",
        "  upper_limit_iqr = q3 + (iqr*1.5) #calculate the upper limit for outliers based on IQR\n",
        "  lower_limit_iqr = q1 - (iqr*1.5) #calculate the lower limit for outliers based on IQR\n",
        "  upper_outliers_std = income[income > upper_limit_std] #filter the upper outliers based on standard deviation\n",
        "  lower_outliers_std = income[income < lower_limit_std] #filter the lower outliers\n",
        "  upper_outliers_iqr = income[income > upper_limit_iqr] #filter the upper outliers based on IQR\n",
        "  lower_outliers_iqr = income[income < lower_limit_iqr] #filter the lower outliers\n",
        "\n",
        "  #print the result of the above statistics summary\n",
        "  print(\"Upper outliers by std: \",upper_outliers_std)\n",
        "  print(\"Lower outliers by std: \",lower_outliers_std)\n",
        "  print(\"Upper outliers by iqr: \",upper_outliers_iqr)\n",
        "  print(\"Lower outliers by iqr: \",lower_outliers_iqr)\n",
        "\n",
        "\n",
        "\n",
        "find_outliers()"
      ],
      "metadata": {
        "id": "nhnzxYxkJJ5f",
        "colab": {
          "base_uri": "https://localhost:8080/"
        },
        "outputId": "c495f214-731a-406d-d4dc-6e63fdb70a55"
      },
      "execution_count": 10,
      "outputs": [
        {
          "output_type": "stream",
          "name": "stdout",
          "text": [
            "Upper outliers by std:  []\n",
            "Lower outliers by std:  [22.]\n",
            "Upper outliers by iqr:  []\n",
            "Lower outliers by iqr:  [45. 22.]\n"
          ]
        }
      ]
    },
    {
      "cell_type": "markdown",
      "metadata": {
        "id": "QnOKzp1cHAvH"
      },
      "source": [
        "---\n",
        "### Exercise 6 - finding the correlation between two series\n",
        "\n",
        "Let's find out if there is a strong correlation between Age and Income in the income data set.\n",
        "\n",
        "*  create a numpy array from the Age column  \n",
        "*  create a numpy array from the Income column  \n",
        "*  use the np.corrcoef(nparray1, nparray2) function to get the Pearson's Correlation Coefficient (the measure of linear correlation between the two data sets) and store it in a variable called **coef**\n",
        "*  print the correlation coefficient output (see below, it will be a 2x2 matrix)\n",
        "*  print the correlation coefficient (which is at position [0][1] (coef[0][1]))\n",
        "\n",
        "\n",
        "Expected output:  \n",
        "```\n",
        "[[ 1.         -0.14787412]\n",
        " [-0.14787412  1.        ]]\n",
        " -0.1478741157606825\n",
        "\n",
        "```\n",
        "The matrix gives 4 values showing the correlation between:\n",
        "\n",
        "```\n",
        "   |    (Age/Age)        (Age/Income)     |\n",
        "   |    (Income/Age)     (Income/Income)  |\n",
        "```\n",
        "This suggests that income decreases with age (the correlation is negative\n",
        "so as one increases the other decreases) but that the correlation is quite weak (an absolute correlation would be 1 and no correlation would be 0)"
      ]
    },
    {
      "cell_type": "code",
      "metadata": {
        "id": "xXsISkA4HibO",
        "colab": {
          "base_uri": "https://localhost:8080/"
        },
        "outputId": "6212d31d-880f-4459-a882-b5ee95e9e8ad"
      },
      "source": [
        "import pandas as pd\n",
        "import numpy as np\n",
        "\n",
        "def get_correlation():\n",
        "  # add your code below to get the correlation figure for age and salary\n",
        "   # create a numpy array from the Income and age  colunms\n",
        "   age = df['Age'].to_numpy(np.float64)\n",
        "   income = df['Income'].to_numpy(np.float16)\n",
        "\n",
        "   #calculate the coefficient between the 2 arrays(age,income)\n",
        "   coef = np.corrcoef(age,income)\n",
        "   coef1 = (coef[0][1])\n",
        "   print(coef)\n",
        "   print(coef1)\n",
        "\n",
        "\n",
        "\n",
        "\n",
        "# run the function and test against expected output\n",
        "get_correlation()"
      ],
      "execution_count": 12,
      "outputs": [
        {
          "output_type": "stream",
          "name": "stdout",
          "text": [
            "[[ 1.         -0.14787412]\n",
            " [-0.14787412  1.        ]]\n",
            "-0.1478741157606825\n"
          ]
        }
      ]
    },
    {
      "cell_type": "markdown",
      "source": [
        "### Exercise 7 - practicing correlation\n",
        "\n",
        "Repeat exercise 6 but use the Income and Population columns instead.\n",
        "\n",
        "If you have completed the user defined functions worksheet, try writing a function that takes two arrays as parameters and returns the correlation coefficient."
      ],
      "metadata": {
        "id": "dE4b8WzmTs1e"
      }
    },
    {
      "cell_type": "code",
      "source": [
        "import pandas as pd\n",
        "import numpy as np\n",
        "\n",
        "def get_correlation():\n",
        "  # create a numpy array from the Income and population colunms\n",
        "  income = df['Income'].to_numpy(np.float16)\n",
        "  population = df['Population'].to_numpy(np.int16)\n",
        "\n",
        "  #get the correlation between the two arrays\n",
        "  coef = np.corrcoef(income,population)\n",
        "  coef1 = (coef[0][1])\n",
        "\n",
        "  #print the results\n",
        "  print(coef)\n",
        "  print(coef1)\n",
        "\n",
        "\n",
        "\n",
        "get_correlation()\n"
      ],
      "metadata": {
        "id": "CcX9tK51TqNy",
        "colab": {
          "base_uri": "https://localhost:8080/"
        },
        "outputId": "42347dd7-f8ca-4f51-e44a-c4fcb6629a04"
      },
      "execution_count": 13,
      "outputs": [
        {
          "output_type": "stream",
          "name": "stdout",
          "text": [
            "[[1.         0.11644143]\n",
            " [0.11644143 1.        ]]\n",
            "0.11644142628402859\n"
          ]
        }
      ]
    },
    {
      "cell_type": "markdown",
      "metadata": {
        "id": "Bv1G1MJpT1U9"
      },
      "source": [
        "---\n",
        "### Exercise 8 - create a new column in the dataframe from a numpy array\n",
        "\n",
        "**Challenging**\n",
        "\n",
        "Write a function which will calculate expected salaries for all in the income data set after an inflation rate of 3.5% (with results in a new numpy array).\n",
        "\n",
        "Just to show the result, calculate and print the Pearson Correlation Coefficient between the salaries series and the inflated salaries series.  We would expect this to be 1 (ie the inflated salary is always 3.5% higher than the current salary) and the exercise is just meant to show that - the statistic has no relevance.  \n",
        "\n",
        "Create a new column in the dataframe from the new numpy array (so that the dataframe now contains the original salaries and the inflated salaries.  \n",
        "(**Recap**:  *to add a new column, just use* `df['new column name']`)  \n",
        "\n",
        "To assign a numpy array to a pandas column use  \n",
        "`df['new column name'] = numpyarrayname.tolist()`\n",
        "\n",
        "Display the new dataframe and print the correlation coefficient.\n",
        "\n",
        "\n",
        "\n",
        "\n",
        "\n"
      ]
    },
    {
      "cell_type": "code",
      "metadata": {
        "id": "x90cXT8NWD40",
        "colab": {
          "base_uri": "https://localhost:8080/"
        },
        "outputId": "343cf0ee-85b2-48a1-f243-691b50ac4688"
      },
      "source": [
        "import pandas as pd\n",
        "import numpy as np\n",
        "\n",
        "def inflated_salary ():\n",
        "  income = df['Income'].to_numpy(np.float16)\n",
        "  inflated_salary= income * (1 + 0.035) #calculate the inflated salary\n",
        "\n",
        "  #calculate the correlation between salary and inflated salary\n",
        "  coef = np.corrcoef(income,inflated_salary)\n",
        "  coef1 = (coef[0][1])\n",
        "\n",
        "\n",
        "  #Add inflated salary to the dataframe\n",
        "  df['Inflated_salary'] = inflated_salary.tolist()\n",
        "\n",
        "  #display the new dataframe\n",
        "  print(df)\n",
        "  print(coef)\n",
        "  print(coef1)\n",
        "\n",
        "inflated_salary()\n",
        "\n",
        "\n",
        "\n",
        "\n",
        "\n",
        "\n"
      ],
      "execution_count": 9,
      "outputs": [
        {
          "output_type": "stream",
          "name": "stdout",
          "text": [
            "   State  County  Population  Age  Income  Inflated_salary\n",
            "0     TX       1          72   34      65         67.31250\n",
            "1     TX       2          33   42      45         46.59375\n",
            "2     TX       5          25   23      46         47.62500\n",
            "3     TX       6          54   36      65         67.31250\n",
            "4     TX       7          11   42      53         54.87500\n",
            "5     TX       8          28   25      62         64.18750\n",
            "6     TX       9          82   35      66         68.31250\n",
            "7     TX      10           5   40      75         77.62500\n",
            "8     MD      11          61   27      22         22.78125\n",
            "9     MD       2           5   23      69         71.43750\n",
            "10    MD       4          98   25      73         75.56250\n",
            "11    MD       3          64   29      75         77.62500\n",
            "12    MD       2          36   24      65         67.31250\n",
            "13    MD       1          24   25      66         68.31250\n",
            "14    MD       5          34   31      78         80.75000\n",
            "15    MD       6          89   22      81         83.87500\n",
            "16    MD       8          21   25      73         75.56250\n",
            "17    MD       7          21   30      62         64.18750\n",
            "[[1.         0.99999959]\n",
            " [0.99999959 1.        ]]\n",
            "0.9999995931192294\n"
          ]
        }
      ]
    },
    {
      "cell_type": "markdown",
      "metadata": {
        "id": "yQyytEbnZ1lw"
      },
      "source": [
        "# Reflection\n",
        "----\n",
        "\n",
        "## What skills have you demonstrated in completing this notebook?"
      ]
    },
    {
      "cell_type": "markdown",
      "metadata": {
        "id": "MM00hR5aZk1-"
      },
      "source": [
        "Your answer: Utilized Numpy to extract specific columns from a DataFrame, showcasing my ability to manipulate data effectively. By leveraging NumPy, I calculated key statistical metrics such as mean, median, interquartile range (IQR), and identified outliers. Additionally, I demonstrated proficiency in data engineering by adding new columns to a Pandas DataFrame using NumPy arrays. This skill is essential for enhancing datasets with calculated values or derived features, ensuring they are ready for further analysis.\n",
        "\n",
        "Lastly, I calculated the Pearson Correlation Coefficient between two datasets, highlighting my understanding of statistical relationships and the ability to measure the strength and direction of linear associations."
      ]
    },
    {
      "cell_type": "markdown",
      "metadata": {
        "id": "Zgexd27sZ1ly"
      },
      "source": [
        "## What caused you the most difficulty?"
      ]
    },
    {
      "cell_type": "markdown",
      "metadata": {
        "id": "-Y_nrVBwaGXr"
      },
      "source": [
        "Your answer: This notebook was relatively straightforward for me, as statistics is an area that genuinely interests me. Taking the time to thoroughly read and understand the explanations beforehand made it much easier to approach and tackle the challenges effectively."
      ]
    }
  ]
}