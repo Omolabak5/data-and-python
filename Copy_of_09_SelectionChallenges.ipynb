{
  "nbformat": 4,
  "nbformat_minor": 0,
  "metadata": {
    "colab": {
      "provenance": [],
      "include_colab_link": true
    },
    "kernelspec": {
      "name": "python3",
      "display_name": "Python 3"
    }
  },
  "cells": [
    {
      "cell_type": "markdown",
      "metadata": {
        "id": "view-in-github",
        "colab_type": "text"
      },
      "source": [
        "<a href=\"https://colab.research.google.com/github/Omolabak5/data-and-python/blob/main/Copy_of_09_SelectionChallenges.ipynb\" target=\"_parent\"><img src=\"https://colab.research.google.com/assets/colab-badge.svg\" alt=\"Open In Colab\"/></a>"
      ]
    },
    {
      "cell_type": "markdown",
      "metadata": {
        "id": "-QxAKPD8DZfj"
      },
      "source": [
        "# Three selection challenges\n",
        "\n",
        "---\n"
      ]
    },
    {
      "cell_type": "markdown",
      "metadata": {
        "id": "f0R4GYTEFQS-"
      },
      "source": [
        "### Challenge 1 - triangle shape  \n",
        "\n",
        "Write a function called **evaluate_triangle_shape()** which will check if a triangle is equilateral, isosceles or scalene, based on the three side lengths entered by a user (**x**, **y** and **z**).\n",
        "\n",
        "An equilateral triangle is one in which all three sides are equal.\n",
        "A scalene triangle is one that has three unequal sides.\n",
        "An isosceles triangle is one with two equal sides.\n",
        "\n",
        "For example:  \n",
        "\n",
        "A triange with side lengths                                 \n",
        "x: 6                                                                    \n",
        "y: 8                                                                    \n",
        "z: 12                                                                   \n",
        "is a *Scalene triangle*\n",
        "\n",
        "A triangle with side lengths  \n",
        "x:5  \n",
        "y:3   \n",
        "z:5  \n",
        "is an *Isosceles triangle*"
      ]
    },
    {
      "cell_type": "code",
      "metadata": {
        "id": "oBgl4ro1DVL0",
        "colab": {
          "base_uri": "https://localhost:8080/"
        },
        "outputId": "e4eca37f-c4d4-485a-f04e-1a70ea18f857"
      },
      "source": [
        "def evaluate_triangle_shape():\n",
        "    x = input(\"Enter the length of the first side: \")\n",
        "    y = input(\"Enter the length of the second side: \")\n",
        "    z = input(\"Enter the length of the third side: \")\n",
        "    if x == y == z:\n",
        "        print(\"The triangle is equilateral.\")\n",
        "    elif x == y or x == z or y == z:\n",
        "        print(\"The triangle is isosceles.\")\n",
        "    else:\n",
        "        print(\"The triangle is scalene.\")\n",
        "\n",
        "\n",
        "evaluate_triangle_shape()\n"
      ],
      "execution_count": 2,
      "outputs": [
        {
          "output_type": "stream",
          "name": "stdout",
          "text": [
            "Enter the length of the first side: 5\n",
            "Enter the length of the second side: 3\n",
            "Enter the length of the third side: 5\n",
            "The triangle is isosceles.\n"
          ]
        }
      ]
    },
    {
      "cell_type": "markdown",
      "metadata": {
        "id": "hr2EotkqG33l"
      },
      "source": [
        "---\n",
        "### Challenge 2 - which season\n",
        "\n",
        "Write a function called **determine_season()** which will ask the user to enter two integers representing a **month** and **day** and will calculate and print the season for that month and day.\n",
        "\n",
        "Note:  for this exercise the season dates are:\n",
        "*  Winter December 21 to March 20    \n",
        "*  Spring March 21 to June 20  \n",
        "*  Summer June 21 to September 20  \n",
        "*  Autumn September 21 to December 20\n",
        "\n",
        "**Test input for July 31st**:  \n",
        "Input the month (e.g. January, February etc.): 7                     \n",
        "Input the day: 31                                                       \n",
        "\n",
        "**Expected output**:  \n",
        "Season is summer\n",
        "\n",
        "*Note: this will require multiple and/or operators and you should use brackets to help Python know which operations to do first*  \n",
        "\n",
        "*For an extra challenge you can check that the day is valid for the month*"
      ]
    },
    {
      "cell_type": "code",
      "metadata": {
        "id": "cvbfz8nzG4IL",
        "colab": {
          "base_uri": "https://localhost:8080/"
        },
        "outputId": "04de720b-b424-4a1f-d7fb-64a6e3fbaa7a"
      },
      "source": [
        "def determine_season():\n",
        "  month = int(input(\"Enter a number for month :\"))\n",
        "  day = int(input(\"Enter a number for day :\"))\n",
        "  if (month == 12 and day >= 21) or (month == 1 and day <= 31) or (month ==2 and day <= 29) or (month == 3 and day <= 20):\n",
        "    print(\"Season is winter\")\n",
        "  elif (month == 3 and day >= 21) or (month == 4 and day <= 30) or (month == 5 and day <= 31) or (month == 6 and day <=20):\n",
        "    print(\"Season is spring\")\n",
        "  elif (month == 6 and day >= 21) or (month == 7 and day <= 31) or (month == 8 and day <= 31) or (month == 9 and day <= 20):\n",
        "    print(\"Season is summer\")\n",
        "  elif (month == 9 and day >= 21) or (month == 10 and day <= 31) or (month == 11 and day <= 30) or (month == 12 and day <= 20):\n",
        "    print(\"Season is summer\")\n",
        "  elif(month == 2 and day > 29):\n",
        "    print(\"Invalid day\")\n",
        "  elif (month > 12 and day > 31):\n",
        "    print(\"Invalid month and day\")\n",
        "  else:\n",
        "    print(\"Invalid month or day\")\n",
        "\n",
        "determine_season()"
      ],
      "execution_count": 5,
      "outputs": [
        {
          "output_type": "stream",
          "name": "stdout",
          "text": [
            "Enter a number for month :2\n",
            "Enter a number for day :30\n",
            "Invalid day\n"
          ]
        }
      ]
    },
    {
      "cell_type": "markdown",
      "metadata": {
        "id": "2KYUALILDcM9"
      },
      "source": [
        "---\n",
        "### Challenge 3 - password format  \n",
        "\n",
        "Write a function called **check_password_valid()** which will check the validity of a **password** input by a user.\n",
        "\n",
        "Rules for a valid password are:  \n",
        "\n",
        "*  At least 1 letter between [a-z] and 1 letter between [A-Z].\n",
        "*  At least 1 number between [0-9].\n",
        "*  At least 1 character from [$#@].\n",
        "*  Minimum length 6 characters.\n",
        "*  Maximum length 16 characters.  \n",
        "\n",
        "Let the user know if the `password` they have typed is valid and, if not, where was the first error.\n",
        "\n",
        "*Hint:  to test if a set of characters is present in a password String, you can use re.search('[character set]', `password`)*  \n",
        "\n",
        "Example:   \n",
        "*if re.search('[a-z]',`password`):*    \n",
        "if there is at least 1 character a-z in the password, `re.search` **will not be None**\n",
        "\n",
        "You can test if re.search('[a-z]') is not None like this:\n",
        "`if re.search('[a-z]') is not None:`\n",
        "\n",
        "**re** is a pre-written Python function for pattern searching in Strings.  It has been imported for you in the code cell below.  "
      ]
    },
    {
      "cell_type": "code",
      "metadata": {
        "id": "8wBK9IA4BO2e",
        "colab": {
          "base_uri": "https://localhost:8080/"
        },
        "outputId": "a860137d-a17b-4917-e231-cc19dd4d6963"
      },
      "source": [
        "import re\n",
        "\n",
        "# add your check_PasswordValid() function and call below here\n",
        "def check_password_valid():\n",
        "  password = input(\"Enter a password :\")\n",
        "  if len(password) < 6 or len(password) > 16:\n",
        "   print(\"Password is invalid, password lenght must be between 6 and 16\")\n",
        "  elif re.search('[a-z]',password) is None:\n",
        "   print(\"Password is invalid, password must contain at least one a-z\")\n",
        "  elif re.search('[A-Z]',password) is None:\n",
        "    print(\"Password is invalid, password must contain at least one capital letter\")\n",
        "  elif re.search('[0-9]',password) is None:\n",
        "    print(\"Password is invalid, password must contain at least one number\")\n",
        "  elif re.search('[$#@]',password) is None:\n",
        "    print(\"Password is invalid, password must contain at least one special character\")\n",
        "  else:\n",
        "    print(\"Password is valid\")\n",
        "\n",
        "check_password_valid()\n",
        "\n",
        "\n",
        "\n",
        "\n",
        "\n",
        "\n"
      ],
      "execution_count": 1,
      "outputs": [
        {
          "output_type": "stream",
          "name": "stdout",
          "text": [
            "Enter a password :Qonny\n",
            "Password is invalid, password lenght must be between 6 and 16\n"
          ]
        }
      ]
    },
    {
      "cell_type": "markdown",
      "source": [
        "---\n",
        "# Your thoughts on what you have learnt from these challenges  \n",
        "\n",
        "Please add some comments in the box below to reflect on what you have learnt through completing this worksheet, and any problems you encountered while doing so."
      ],
      "metadata": {
        "id": "xr6B589Youcr"
      }
    },
    {
      "cell_type": "code",
      "source": [],
      "metadata": {
        "id": "XuqTfPsw64XN"
      },
      "execution_count": null,
      "outputs": []
    },
    {
      "cell_type": "code",
      "source": [],
      "metadata": {
        "id": "lla8Y0UJ67Nv"
      },
      "execution_count": null,
      "outputs": []
    },
    {
      "cell_type": "markdown",
      "source": [
        "This was quite a bit of a challenge but was really satisfying when I was able to find my way around the exercises thanks to Karen. For the second exercise I played around some constrains: for example I took into congnisant that Febuary can only be 28 or 29 days, therefore, when user enters a day above 29 day for the second month(February) they gets an invalid message. Additionally , I made sure that month should not be above 12 since we only have 12 calender month and days should not be above 31 since the maximum days in a month is 31.  "
      ],
      "metadata": {
        "id": "qIfjax_VovRz"
      }
    }
  ]
}