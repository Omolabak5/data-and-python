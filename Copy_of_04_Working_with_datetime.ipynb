{
  "nbformat": 4,
  "nbformat_minor": 0,
  "metadata": {
    "colab": {
      "provenance": [],
      "include_colab_link": true
    },
    "kernelspec": {
      "name": "python3",
      "display_name": "Python 3"
    },
    "language_info": {
      "name": "python"
    }
  },
  "cells": [
    {
      "cell_type": "markdown",
      "metadata": {
        "id": "view-in-github",
        "colab_type": "text"
      },
      "source": [
        "<a href=\"https://colab.research.google.com/github/Omolabak5/data-and-python/blob/main/Copy_of_04_Working_with_datetime.ipynb\" target=\"_parent\"><img src=\"https://colab.research.google.com/assets/colab-badge.svg\" alt=\"Open In Colab\"/></a>"
      ]
    },
    {
      "cell_type": "markdown",
      "metadata": {
        "id": "7iQyKP-SQiw1"
      },
      "source": [
        "# User-defined functions using datetime library\n",
        "\n",
        "---\n"
      ]
    },
    {
      "cell_type": "markdown",
      "metadata": {
        "id": "Vi93h5I4QnKs"
      },
      "source": [
        "## Watch this presentation and video before starting this worksheet, if not viewed already:\n",
        "\n",
        "[04_Working_with_datetime](https://docs.google.com/presentation/d/e/2PACX-1vSLyCA6CyX5oNWaYmUbMO7h_70BIgqTEfzUCkU13NrUg1K23z3JDjoOxnyySO_thR2EWQDnzUMiZjnE/pub?start=false&loop=false&delayms=3000)"
      ]
    },
    {
      "cell_type": "markdown",
      "metadata": {
        "id": "MIDLi7CNR034"
      },
      "source": [
        "---\n",
        "### Exercise 1 - print current date and time\n",
        "\n",
        "Write a function that will get the date and time now, then print it.  \n",
        "\n",
        "*Hint:  the format has been added for you, the other exercises will follow a similar format.   Always remember to import datetime from datetime as shown below*"
      ]
    },
    {
      "cell_type": "code",
      "metadata": {
        "id": "gS6GJdXbQfHp",
        "colab": {
          "base_uri": "https://localhost:8080/"
        },
        "outputId": "008f86c6-75a1-4cfa-b52c-9770ed421ce6"
      },
      "source": [
        "from datetime import datetime\n",
        "\n",
        "def get_datetime_now():\n",
        "  # add your code to get the current date and time below here\n",
        "  now = datetime.now()\n",
        "  print(now)\n",
        "\n",
        "\n",
        "get_datetime_now()"
      ],
      "execution_count": 1,
      "outputs": [
        {
          "output_type": "stream",
          "name": "stdout",
          "text": [
            "2024-11-03 19:50:28.062386\n"
          ]
        }
      ]
    },
    {
      "cell_type": "markdown",
      "metadata": {
        "id": "Yy24sL0bUtpF"
      },
      "source": [
        "---\n",
        "### Exercise 2 - print the current year\n",
        "\n",
        "Write a function that will get and print the current year.  "
      ]
    },
    {
      "cell_type": "code",
      "metadata": {
        "id": "YqlQqPIqUtyr",
        "colab": {
          "base_uri": "https://localhost:8080/"
        },
        "outputId": "82eb0d60-5323-4eed-fd27-dd802497b43f"
      },
      "source": [
        "from datetime import datetime\n",
        "\n",
        "def get_current_year():\n",
        "  now = datetime.now()\n",
        "  current_year = now.year\n",
        "  print(current_year)\n",
        "\n",
        "\n",
        "get_current_year()\n",
        "\n"
      ],
      "execution_count": 4,
      "outputs": [
        {
          "output_type": "stream",
          "name": "stdout",
          "text": [
            "2024\n"
          ]
        }
      ]
    },
    {
      "cell_type": "markdown",
      "metadata": {
        "id": "FzSVCaJKV1O1"
      },
      "source": [
        "---\n",
        "### Exercise 3 - print the current day of the month\n",
        "\n",
        "Write a function that will get and print the current day of the month.  "
      ]
    },
    {
      "cell_type": "code",
      "metadata": {
        "id": "OP4ZIXBWV1Yj",
        "colab": {
          "base_uri": "https://localhost:8080/"
        },
        "outputId": "5316ae18-ee1d-441e-b632-48f88c4d2e55"
      },
      "source": [
        "from datetime import datetime\n",
        "\n",
        "def get_current_day():\n",
        "  now = datetime.now()\n",
        "  current_day = now.day\n",
        "  print(current_day)\n",
        "\n",
        "\n",
        "get_current_day()\n"
      ],
      "execution_count": 6,
      "outputs": [
        {
          "output_type": "stream",
          "name": "stdout",
          "text": [
            "3\n"
          ]
        }
      ]
    },
    {
      "cell_type": "markdown",
      "metadata": {
        "id": "a8euCtdmWIDE"
      },
      "source": [
        "---\n",
        "### Exercise 4 - create a new date\n",
        "\n",
        "Write a function that will:\n",
        "\n",
        "*  create 3 variables: day, month, year\n",
        "*  assign each variable with a number that is valid for that variable (e.g. month can only be between 1 and 12)\n",
        "*  create a date using these variables\n",
        "*  print the date\n",
        "\n",
        "**Expected output**:  \n",
        "If day is 22, month is 4 and year is 2023 then the output will look like this:  \n",
        "`2023-04-22 00:00:00`\n",
        "\n"
      ]
    },
    {
      "cell_type": "code",
      "metadata": {
        "id": "FbOFnTwnWILN",
        "colab": {
          "base_uri": "https://localhost:8080/"
        },
        "outputId": "46af09fa-c780-42cc-84a8-321ff1de6b84"
      },
      "source": [
        "from datetime import datetime\n",
        "\n",
        "def create_date():\n",
        "  day = 22\n",
        "  month = 4\n",
        "  year = 2023\n",
        "  date = datetime(year, month, day)\n",
        "  print(date)\n",
        "\n",
        "create_date()"
      ],
      "execution_count": 7,
      "outputs": [
        {
          "output_type": "stream",
          "name": "stdout",
          "text": [
            "2023-04-22 00:00:00\n"
          ]
        }
      ]
    },
    {
      "cell_type": "markdown",
      "metadata": {
        "id": "f5SKVuE0WfcE"
      },
      "source": [
        "---\n",
        "### Exercise 5 - create a date and time and use strftime() to print\n",
        "\n",
        "Write a function that asks the user to enter a day, month, year, hour, minute, second (6 numbers which will need to be converted to integers) and will then :  \n",
        "*   create a new datetime with that date and time  \n",
        "*   print the date and time as shown in the expected output below.  \n",
        "\n",
        "**Note:** You will need to join some strings together to create the message. Each part of the date will need to be converted to a string.  Do this with the datetime function strftime:  \n",
        "\n",
        " e.g. `datetime.strftime(date, \"%d\")` for just the day, `datetime.strftime(date, \"%m %Y\")` for the month and year, etc as you can only join strings with strings.  To find the codes for hour, minute and second, as well as other formats of the date values, visit [strftime.org](https://strftime.org/)\n",
        "\n",
        "**Test inputs**:  \n",
        "24  \n",
        "7  \n",
        "2024  \n",
        "17  \n",
        "30  \n",
        "0\n",
        "\n",
        "**Expected output**\n",
        "\n",
        "The set date is 24/7/2024 and the time is 17.30.0"
      ]
    },
    {
      "cell_type": "code",
      "metadata": {
        "id": "gclt-f9-XfdG",
        "colab": {
          "base_uri": "https://localhost:8080/"
        },
        "outputId": "8b8601d3-1e4b-469b-bced-d2b05632f845"
      },
      "source": [
        "from datetime import datetime\n",
        "\n",
        "def convert_datetime_to_string():\n",
        "  day = int(input(\" Please enter a day :\"))\n",
        "  month = int(input(\"Please enter a month :\"))\n",
        "  year = int(input(\"Please enter a year :\"))\n",
        "  hour = int(input(\"Please enter a hour :\"))\n",
        "  minutes = int(input(\"Please enter minutes :\"))\n",
        "  seconds = int(input(\"Please enter seconds :\"))\n",
        "  date = datetime(year, month, day, hour, minutes, seconds)\n",
        "  convert_date = datetime.strftime(date, \"%d/%m/%y\")\n",
        "  convert_time = datetime.strftime(date, \"%H:%M:%S\")\n",
        "  message = \"The\" + \" \" + \"set\" + \" \" + \"date \" + \"is \" + convert_date + \" and \" + \"the \" + \"time \" + \"is \" + convert_time\n",
        "  print(message)\n",
        "\n",
        "convert_datetime_to_string()\n",
        "\n"
      ],
      "execution_count": 10,
      "outputs": [
        {
          "output_type": "stream",
          "name": "stdout",
          "text": [
            " Please enter a day :24\n",
            "Please enter a month :7\n",
            "Please enter a year :2024\n",
            "Please enter a hour :17\n",
            "Please enter minutes :30\n",
            "Please enter seconds :0\n",
            "The set date is 24/07/24 and the time is 17:30:00\n"
          ]
        }
      ]
    },
    {
      "cell_type": "markdown",
      "metadata": {
        "id": "js7fy2HWXfm2"
      },
      "source": [
        "---\n",
        "### Exercise 6 - show the date and time in different formats\n",
        "\n",
        "Write a function that will create the same date as before but will then print it in the following 2 formats (using strftime again)\n",
        "\n",
        "Wed 24 July 2024 at 1730 hours  \n",
        "30 minutes past 5pm on July 24 2024\n",
        "\n",
        "*Hint: use 12 hour clock as decimal and remember that you can convert a string to lower case for pm.*"
      ]
    },
    {
      "cell_type": "code",
      "metadata": {
        "id": "KY1jtf3lX_ps",
        "colab": {
          "base_uri": "https://localhost:8080/"
        },
        "outputId": "ac2e77b3-ab3a-4e57-a1ee-7d11916cd9c3"
      },
      "source": [
        "from datetime import datetime\n",
        "\n",
        "def convert_datetime_to_string():\n",
        "  day = int(input(\" Please enter a day :\"))\n",
        "  month = int(input(\"Please enter a month :\"))\n",
        "  year = int(input(\"Please enter a year :\"))\n",
        "  hour = int(input(\"Please enter a hour :\"))\n",
        "  minutes = int(input(\"Please enter minutes :\"))\n",
        "  date = datetime(year, month, day, hour, minutes)\n",
        "  convert_date = datetime.strftime(date, \"%a %d %B %Y at \")\n",
        "  convert_time = datetime.strftime(date, \"%H%M hours\")\n",
        "  message = convert_date + convert_time\n",
        "  print(message)\n",
        "\n",
        "convert_datetime_to_string()\n"
      ],
      "execution_count": 2,
      "outputs": [
        {
          "output_type": "stream",
          "name": "stdout",
          "text": [
            " Please enter a day :24\n",
            "Please enter a month :7\n",
            "Please enter a year :2024\n",
            "Please enter a hour :17\n",
            "Please enter minutes :30\n",
            "Wed 24 July 2024 at 1730 hours\n"
          ]
        }
      ]
    },
    {
      "cell_type": "code",
      "source": [
        "from datetime import datetime\n",
        "\n",
        "def convert_datetime_to_string():\n",
        "  day = int(input(\" Please enter a day :\"))\n",
        "  month = int(input(\"Please enter a month :\"))\n",
        "  year = int(input(\"Please enter a year :\"))\n",
        "  hour = int(input(\"Please enter a hour :\"))\n",
        "  minutes = int(input(\"Please enter minutes :\"))\n",
        "  date = datetime(year, month, day, hour, minutes)\n",
        "  convert_date = datetime.strftime(date, \"%B %d %Y\")\n",
        "  convert_time = datetime.strftime(date, \"%M minutes past %-I%p on \")\n",
        "  message = convert_time + convert_date\n",
        "  print(message)\n",
        "\n",
        "convert_datetime_to_string()"
      ],
      "metadata": {
        "colab": {
          "base_uri": "https://localhost:8080/"
        },
        "id": "8Ofa728pLZ5U",
        "outputId": "91eb7cdb-4abf-45aa-daa7-630d9f285e8b"
      },
      "execution_count": 4,
      "outputs": [
        {
          "output_type": "stream",
          "name": "stdout",
          "text": [
            " Please enter a day :24\n",
            "Please enter a month :7\n",
            "Please enter a year :2024\n",
            "Please enter a hour :17\n",
            "Please enter minutes :30\n",
            "30 minutes past 5PM on July 24 2024\n"
          ]
        }
      ]
    },
    {
      "cell_type": "markdown",
      "metadata": {
        "id": "9BuRDi08YAO0"
      },
      "source": [
        "---\n",
        "### Exercise 7 - display parts of date/time\n",
        "\n",
        "Write a function that will take a date and print from it the following:  \n",
        "*  given date and time  \n",
        "*  year (in full)\n",
        "*  month (as a number)\n",
        "*  month name\n",
        "*  week number of the year  \n",
        "*  weekday of the week (as a number)  \n",
        "*  day of year  \n",
        "*  day of the month  \n",
        "*  day of week (as a short name)  \n"
      ]
    },
    {
      "cell_type": "code",
      "metadata": {
        "id": "zl-37Ez9ahym",
        "colab": {
          "base_uri": "https://localhost:8080/"
        },
        "outputId": "18568270-41f4-4f47-ce0e-22908265e8ce"
      },
      "source": [
        "from datetime import datetime\n",
        "\n",
        "def convert_datetime_to_string():\n",
        "  year = int(input(\" Please enter a year :\"))\n",
        "  month = int(input(\"Please enter a month :\"))\n",
        "  day = int(input(\"Please enter a day :\"))\n",
        "  hour = int(input(\"Please enter a hour :\"))\n",
        "  minutes = int(input(\"Please enter minutes :\"))\n",
        "  seconds = int(input(\"Please enter seconds :\"))\n",
        "  date = datetime(year, month, day)\n",
        "  date_and_time = datetime.strftime(date, \"%c\")\n",
        "  year_in_full = datetime.strftime(date, \"%Y\")\n",
        "  month_as_number = datetime.strftime(date, \"%m\")\n",
        "  month_name = datetime.strftime(date, \"%B\")\n",
        "  week_number_of_the_year = datetime.strftime(date, \"%U\")\n",
        "  weekday_of_the_week = datetime.strftime(date, \"%w\")\n",
        "  day_of_year = datetime.strftime(date, \"%j\")\n",
        "  day_of_the_month = datetime.strftime(date,\"%d\")\n",
        "  day_of_week = datetime.strftime(date, \"%a\")\n",
        "  print(date_and_time)\n",
        "  print(year_in_full)\n",
        "  print(month_as_number)\n",
        "  print(month_name)\n",
        "  print(week_number_of_the_year)\n",
        "  print(weekday_of_the_week)\n",
        "  print(day_of_year)\n",
        "  print(day_of_the_month)\n",
        "  print(day_of_week)\n",
        "\n",
        "\n",
        "convert_datetime_to_string()\n",
        "\n",
        "\n"
      ],
      "execution_count": 4,
      "outputs": [
        {
          "output_type": "stream",
          "name": "stdout",
          "text": [
            " Please enter a year :2022\n",
            "Please enter a month :1\n",
            "Please enter a day :13\n",
            "Please enter a hour :7\n",
            "Please enter minutes :50\n",
            "Please enter seconds :0\n",
            "Thu Jan 13 00:00:00 2022\n",
            "2022\n",
            "01\n",
            "January\n",
            "02\n",
            "4\n",
            "013\n",
            "13\n",
            "Thu\n"
          ]
        }
      ]
    },
    {
      "cell_type": "code",
      "source": [],
      "metadata": {
        "id": "iVs_VJWpkQb7"
      },
      "execution_count": null,
      "outputs": []
    },
    {
      "cell_type": "markdown",
      "source": [
        "---\n",
        "### Exercise 8 - create a datetime from a string using strptime()\n",
        "\n",
        "Write a function that will:  \n",
        "* create a string to hold a date in the format yyyy:dd:mm\n",
        "* print just the date in the format as shown below:  \n",
        "`day_name day_number short_month year`  \n",
        "\n",
        "Test input:  \n",
        "2023:12:2\n",
        "\n",
        "Expected output:\n",
        "  \n",
        "Sun 12 Feb 2023"
      ],
      "metadata": {
        "id": "Ww3txeHOh7Rm"
      }
    },
    {
      "cell_type": "code",
      "source": [
        "from datetime import datetime\n",
        "\n",
        "def datetime_from_string():\n",
        "  date = \"2023:12:2\"\n",
        "  new_date = datetime.strptime(date, \"%Y:%d:%m\")\n",
        "  expected_date =datetime.strftime(new_date, \"%a %d %b %Y\")\n",
        "  print(expected_date)\n",
        "\n",
        "datetime_from_string()"
      ],
      "metadata": {
        "id": "J0pX60wpiVrM",
        "colab": {
          "base_uri": "https://localhost:8080/"
        },
        "outputId": "c1e8267a-4c30-4883-9108-f1e51f8feb1e"
      },
      "execution_count": 17,
      "outputs": [
        {
          "output_type": "stream",
          "name": "stdout",
          "text": [
            "Sun 12 Feb 2023\n"
          ]
        }
      ]
    },
    {
      "cell_type": "markdown",
      "metadata": {
        "id": "_rpTIoSDaiBj"
      },
      "source": [
        "---\n",
        "### Exercise 9 - next 6 days - a challenge\n",
        "\n",
        "**Scenario**\n",
        "\n",
        "The timedelta function is part of the datetime library and will allow you to create a value to represent a number of days (or months, etc) so that you can create a date in the future (like an expiry date).\n",
        "\n",
        "Watch this [video](https://vimeo.com/989587133/fccf9cb783?share=copy) to see timedelta in use\n",
        "\n",
        "**Your task**\n",
        "\n",
        "Write a function that will take a date and generate the dates of the following 6 days.  It should print each of the 6 days in this format:  \n",
        "\n",
        "e.g.  \n",
        "Friday, May 24 2024  \n",
        "Saturday, May 25 2024  \n",
        "Sunday, May 26 2024  \n",
        "Monday, May 27 2024  \n",
        "Tuesday, May ...\n",
        "\n",
        "*Hint:  to generate the days, use the function datetime.timedelta(), there is a good example of its use [here](https://www.geeksforgeeks.org/python-datetime-timedelta-function/)*\n",
        "\n",
        "DON'T FORGET TO IMPORT timedelta as well as datetime"
      ]
    },
    {
      "cell_type": "code",
      "metadata": {
        "id": "1d-oXqLLb0vX",
        "colab": {
          "base_uri": "https://localhost:8080/"
        },
        "outputId": "f29a9b6d-f2a9-4492-f9cd-34cd82038727"
      },
      "source": [
        "from datetime import datetime, timedelta\n",
        "\n",
        "def next_6_days():\n",
        "  year = int(input(\" Please enter a year :\"))\n",
        "  month = int(input(\"Please enter a month :\"))\n",
        "  day = int(input(\"Please enter a day :\"))\n",
        "  date = datetime(year, month, day)\n",
        "  next_day = date + timedelta(days = 1)\n",
        "  second_day = date + timedelta(days= 2)\n",
        "  third_day = date + timedelta(days= 3)\n",
        "  fourth_day = date + timedelta(days= 4)\n",
        "  fifth_day = date + timedelta(days= 5)\n",
        "  sixth_day = date + timedelta(days= 6)\n",
        "  day1 = datetime.strftime(date, \"%A, %B %d %Y\")\n",
        "  day2 = datetime.strftime(next_day, \"%A, %B %d %Y\")\n",
        "  day3 = datetime.strftime(second_day, \"%A, %B %d %Y\")\n",
        "  day4 = datetime.strftime(third_day, \"%A, %B %d %Y\")\n",
        "  day5 = datetime.strftime(fourth_day, \"%A, %B %d %Y\")\n",
        "  day6 = datetime.strftime(fifth_day, \"%A, %B %d %Y\")\n",
        "  day7 = datetime.strftime(sixth_day, \"%A, %B %d %Y\")\n",
        "  print(day1)\n",
        "  print(day2)\n",
        "  print(day3)\n",
        "  print(day4)\n",
        "  print(day5)\n",
        "  print(day6)\n",
        "  print(day7)\n",
        "\n",
        "next_6_days()\n"
      ],
      "execution_count": 20,
      "outputs": [
        {
          "output_type": "stream",
          "name": "stdout",
          "text": [
            " Please enter a year :2017\n",
            "Please enter a month :5\n",
            "Please enter a day :31\n",
            "Wednesday, May 31 2017\n",
            "Thursday, June 01 2017\n",
            "Friday, June 02 2017\n",
            "Saturday, June 03 2017\n",
            "Sunday, June 04 2017\n",
            "Monday, June 05 2017\n",
            "Tuesday, June 06 2017\n"
          ]
        }
      ]
    },
    {
      "cell_type": "markdown",
      "metadata": {
        "id": "22Rhwx2Sb1Ey"
      },
      "source": [
        "---\n",
        "### Optional extra practice\n",
        "\n",
        "There are some similar and some more challenging exercises [here](https://www.w3resource.com/python-exercises/date-time-exercise/) if you would like to practice more. The site has its own editor."
      ]
    },
    {
      "cell_type": "markdown",
      "source": [
        "---\n",
        "# Takeaways\n",
        "\n",
        "* the datetime library has a number of functions for working with dates\n",
        "* you have used the `datetime` function and `timedelta` function\n",
        "* the `strftime()` function helps you to format parts of the date and time into strings to help format the data into text and the `strptime()` function helps you to create dates with differently organised date strings\n",
        "* changing the format of dates is a common data cleaning task"
      ],
      "metadata": {
        "id": "ebyScSG_hKFV"
      }
    }
  ]
}