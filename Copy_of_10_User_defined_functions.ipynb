{
  "nbformat": 4,
  "nbformat_minor": 0,
  "metadata": {
    "colab": {
      "provenance": [],
      "include_colab_link": true
    },
    "kernelspec": {
      "name": "python3",
      "display_name": "Python 3"
    },
    "language_info": {
      "name": "python"
    }
  },
  "cells": [
    {
      "cell_type": "markdown",
      "metadata": {
        "id": "view-in-github",
        "colab_type": "text"
      },
      "source": [
        "<a href=\"https://colab.research.google.com/github/Omolabak5/data-and-python/blob/main/Copy_of_10_User_defined_functions.ipynb\" target=\"_parent\"><img src=\"https://colab.research.google.com/assets/colab-badge.svg\" alt=\"Open In Colab\"/></a>"
      ]
    },
    {
      "cell_type": "markdown",
      "metadata": {
        "id": "_mb8Es9TZFdY"
      },
      "source": [
        "# User-defined functions\n",
        "\n",
        "---\n",
        "\n",
        "Before you start this worksheet and if you haven't already done so:\n",
        "\n",
        "\n",
        "*   Read the presentation [here](https://docs.google.com/presentation/d/e/2PACX-1vTXmY-fhJQQXou6q5yb03ROswXyBD-mKScguh4mgd2zU07epZ59YOr39b6EPmEa5fkmC7qpfzgmMUvW/pub?start=false&loop=false&delayms=5000&slide=id.p)\n",
        "\n",
        "\n",
        "\n"
      ]
    },
    {
      "cell_type": "markdown",
      "metadata": {
        "id": "yDPndJACZJKA"
      },
      "source": [
        "\n",
        "---\n",
        "## Examples\n",
        "Run the code for each to see what it does.\n",
        "\n",
        "\n",
        "\n",
        "\n"
      ]
    },
    {
      "cell_type": "code",
      "metadata": {
        "id": "BRlxHaF9YtoB",
        "colab": {
          "base_uri": "https://localhost:8080/"
        },
        "outputId": "a49ef197-015a-4246-f17d-5f2d59c8cc71"
      },
      "source": [
        "# a function that takes NO parameters but returns new data collected from the user\n",
        "def get_username():\n",
        "  username = input(\"Enter your username: \")\n",
        "  return username\n",
        "\n",
        "username = get_username()\n",
        "print(username)"
      ],
      "execution_count": null,
      "outputs": [
        {
          "output_type": "stream",
          "name": "stdout",
          "text": [
            "Enter your username: amy\n",
            "amy\n"
          ]
        }
      ]
    },
    {
      "cell_type": "markdown",
      "metadata": {
        "id": "RsSaHvS_bx0i"
      },
      "source": [
        "---\n"
      ]
    },
    {
      "cell_type": "code",
      "metadata": {
        "id": "DraANPGIbd13",
        "colab": {
          "base_uri": "https://localhost:8080/"
        },
        "outputId": "44ec36fd-e20e-4188-c380-2cebeaf9ed49"
      },
      "source": [
        "# a function that takes two number parameters and returns their sum\n",
        "def calculate_sum(num1, num2):\n",
        "  sum = num1 + num2\n",
        "  return sum\n",
        "\n",
        "total = calculate_sum(4, 7)\n",
        "print(total)"
      ],
      "execution_count": null,
      "outputs": [
        {
          "output_type": "stream",
          "name": "stdout",
          "text": [
            "11\n"
          ]
        }
      ]
    },
    {
      "cell_type": "markdown",
      "metadata": {
        "id": "IaybFpHvbziA"
      },
      "source": [
        "---\n"
      ]
    },
    {
      "cell_type": "code",
      "metadata": {
        "id": "pEldozw1bw9K",
        "colab": {
          "base_uri": "https://localhost:8080/"
        },
        "outputId": "29041267-d13f-47bc-b18e-9e0991bfdef0"
      },
      "source": [
        "# a function that takes one numeric parameter and outputs the number as a string in a message\n",
        "def show_score(score):\n",
        "  print(\"Your current score is: \" + str(score) + \"%\")\n",
        "\n",
        "show_score(50)"
      ],
      "execution_count": null,
      "outputs": [
        {
          "output_type": "stream",
          "name": "stdout",
          "text": [
            "Your current score is: 50%\n"
          ]
        }
      ]
    },
    {
      "cell_type": "markdown",
      "metadata": {
        "id": "S54v0BzZfcle"
      },
      "source": [
        "---\n",
        "## Passing data to functions\n",
        "\n",
        "Data is passed to a function through its brackets using parameters. When the function is called, the parameters are added to the function call.\n",
        "\n",
        "Run the function in the cell below and see if you can work out what it does."
      ]
    },
    {
      "cell_type": "code",
      "metadata": {
        "id": "nPaM_x2cg2EI",
        "colab": {
          "base_uri": "https://localhost:8080/"
        },
        "outputId": "ca47a537-c8e0-4566-f5e7-c18c09f7b6f6"
      },
      "source": [
        "# example of a function being given real values (5,7,'+') and reading them as variables to be used within the function- can you work out what it does?\n",
        "def calculate_answer(num1, num2, operator):\n",
        "  if operator == \"+\":\n",
        "     return num1 + num2\n",
        "  elif operator == \"-\":\n",
        "     return num1 - num2\n",
        "  elif operator == \"*\":\n",
        "     return num1 * num2\n",
        "  elif operator == \"/\":\n",
        "     return num1 / num2\n",
        "  else:\n",
        "     return -999999\n",
        "\n",
        "answer = calculate_answer(5,7,\"+\")\n",
        "print(answer)"
      ],
      "execution_count": null,
      "outputs": [
        {
          "output_type": "stream",
          "name": "stdout",
          "text": [
            "12\n"
          ]
        }
      ]
    },
    {
      "cell_type": "markdown",
      "metadata": {
        "id": "2pN0AVaTh-HP"
      },
      "source": [
        "---\n",
        "## Global and local variables\n",
        "\n",
        "The function below demonstrates the scope of global and local variables.\n",
        "\n",
        "Run the function and make sure you understand what is happening."
      ]
    },
    {
      "cell_type": "code",
      "metadata": {
        "id": "Ww0WCrVBhNLm",
        "colab": {
          "base_uri": "https://localhost:8080/"
        },
        "outputId": "23b1df7f-a119-4f90-c7d1-f301d68b6370"
      },
      "source": [
        "def calculate_sum(num1, num2):\n",
        "  # add the parameters together and return the total\n",
        "  total = num1 + num2  # here total is a local variable\n",
        "  print(\"Inside the function, local total\", total)\n",
        "  return total\n",
        "\n",
        "total = 0  # here total is a global variable (declared outside any function)\n",
        "\n",
        "# call the calculate_sum function, storing the result in the global variable\n",
        "new_total = calculate_sum(10, 20)\n",
        "print(\"Outside the function, global total\", total)\n",
        "print(\"Outside the function, global new_total, returned from function\", new_total)"
      ],
      "execution_count": null,
      "outputs": [
        {
          "output_type": "stream",
          "name": "stdout",
          "text": [
            "Inside the function, local total 30\n",
            "Outside the function, global total 0\n",
            "Outside the function, global new_total, returned from function 30\n"
          ]
        }
      ]
    },
    {
      "cell_type": "markdown",
      "metadata": {
        "id": "VQ2bk-Qo7jC7"
      },
      "source": [
        "---\n",
        "# Have a go"
      ]
    },
    {
      "cell_type": "markdown",
      "metadata": {
        "id": "iK9GF4T274Na"
      },
      "source": [
        "---\n",
        "### Exercise 1 - get valid digit\n",
        "\n",
        "Write a function called **input_digit()** which will:\n",
        "*  ask the user for a **number** that must be between 0 and 9\n",
        "*  if the number is between 0 and 9 return the number to be printed by the caller\n",
        "*  otherwise return the message \"That number is not valid\" to be printed by the caller   \n",
        "\n",
        "**Test inputs**:  \n",
        "33  \n",
        "-1  \n",
        "8  \n",
        "\n",
        "**Expected outputs**:  \n",
        "Number is not valid  \n",
        "Number is not valid  \n",
        "8  "
      ]
    },
    {
      "cell_type": "code",
      "metadata": {
        "id": "lwN-VvkH8Skt",
        "colab": {
          "base_uri": "https://localhost:8080/"
        },
        "outputId": "fa703414-288c-4024-d3c3-57a582a6022c"
      },
      "source": [
        "def input_digit():\n",
        "  number = int(input(\"Enter a number between 0 and 9: \"))\n",
        "  if number >= 0 and number <= 9:\n",
        "    return number\n",
        "  else:\n",
        "    return \"Number is not valid\"\n",
        "\n",
        "number = input_digit()\n",
        "print(number)\n",
        "\n"
      ],
      "execution_count": null,
      "outputs": [
        {
          "output_type": "stream",
          "name": "stdout",
          "text": [
            "Enter a number between 0 and 9: 8\n",
            "8\n"
          ]
        }
      ]
    },
    {
      "cell_type": "markdown",
      "metadata": {
        "id": "v-qE3qQ58THx"
      },
      "source": [
        "---\n",
        "### Exercise 2 - input range\n",
        "\n",
        "Write a function called **input_value(min, max)** which will:  \n",
        "*  ask the user for **number** that must be between `min` and `max` and only return the `number` if it is within the limits.  The caller will print the `number`.\n",
        "\n",
        "**Test inputs**:  \n",
        "min = 3  \n",
        "max = 24  \n",
        "1  \n",
        "45  \n",
        "20  \n",
        "\n",
        "**Expected outputs**:  \n",
        "Number is out of range  \n",
        "Number is out of range  \n",
        "20"
      ]
    },
    {
      "cell_type": "code",
      "metadata": {
        "id": "PKAlW0sr9XR1",
        "colab": {
          "base_uri": "https://localhost:8080/"
        },
        "outputId": "9fe8d058-dfe2-4714-c31b-8b4cedc7d08e"
      },
      "source": [
        "def input_value(min,max):\n",
        "  number = int(input(f\"Enter a number between {min} and {max} :\"))\n",
        "  if number >= min and number <= max:\n",
        "    return number\n",
        "  else:\n",
        "    return \"Number is out of range\"\n",
        "\n",
        "number = input_value(3,24)\n",
        "print(number)\n"
      ],
      "execution_count": 16,
      "outputs": [
        {
          "output_type": "stream",
          "name": "stdout",
          "text": [
            "Enter a number between 3 and 24 :20\n",
            "20\n"
          ]
        }
      ]
    },
    {
      "cell_type": "markdown",
      "metadata": {
        "id": "MXhunQBG9XkU"
      },
      "source": [
        "---\n",
        "### Exercise 3 - re-using the function\n",
        "\n",
        "Using the same function as in Exercise 2 above, and with the same numbers for user input, try running it with these function calls:\n",
        "\n",
        "```\n",
        "value1 = input_value(1,10)\n",
        "value2 = input_value(11,20)\n",
        "value3 = input_value(21,30)\n",
        "print(value1, value2, value3)\n",
        "```"
      ]
    },
    {
      "cell_type": "code",
      "metadata": {
        "id": "oVpQJ3ZM9xCJ",
        "colab": {
          "base_uri": "https://localhost:8080/"
        },
        "outputId": "ae61873f-f387-47b9-b9cd-b8f78f3a0e77"
      },
      "source": [
        "def input_value(min,max):\n",
        "  number = int(input(f\"Please enter a number between {min} and {max} :\"))\n",
        "  if number >= min and number <= max:\n",
        "    return number\n",
        "  else:\n",
        "    return \"Number is out of range\"\n",
        "\n",
        "value1 = input_value(1,10)\n",
        "value2 = input_value(11,20)\n",
        "value3 = input_value(21,30)\n",
        "print(value1, value2, value3)\n"
      ],
      "execution_count": 24,
      "outputs": [
        {
          "output_type": "stream",
          "name": "stdout",
          "text": [
            "Please enter a number between 1 and 10 :1\n",
            "Please enter a number between 11 and 20 :45\n",
            "Please enter a number between 21 and 30 :20\n",
            "1 Number is out of range Number is out of range\n"
          ]
        }
      ]
    },
    {
      "cell_type": "markdown",
      "metadata": {
        "id": "P0QwTt7O9xUz"
      },
      "source": [
        "---\n",
        "### Exercise 4 - generate random even number\n",
        "\n",
        "Write a function called **generate_even_number(maximum)** that will generate a random, even **number**, below the maximum and return it to the caller, which will print it.\n",
        "\n",
        "*Hint: the function will need to generate the number, check it is an even number, repeat if not and return the number once it has got an even number*."
      ]
    },
    {
      "cell_type": "code",
      "metadata": {
        "id": "1ccTQxUa-Ok7",
        "colab": {
          "base_uri": "https://localhost:8080/"
        },
        "outputId": "dc081ffa-fffc-4045-a6e1-3d5a70d67a41"
      },
      "source": [
        "def generate_even_number(maximum):\n",
        "  import random\n",
        "  number = random.randint(1,maximum)\n",
        "  if number%2 == 0 and number <= maximum:\n",
        "    return number\n",
        "  else:\n",
        "    return \"odd number\"\n",
        "\n",
        "number = generate_even_number(100)\n",
        "print(number)"
      ],
      "execution_count": 21,
      "outputs": [
        {
          "output_type": "stream",
          "name": "stdout",
          "text": [
            "odd number\n"
          ]
        }
      ]
    },
    {
      "cell_type": "markdown",
      "metadata": {
        "id": "LYLGRytk-Ot6"
      },
      "source": [
        "---\n",
        "### Exercise 5 - biggest of 3 numbers\n",
        "\n",
        "Write a function called **check_largest(num1, num2, num3)** which will:  \n",
        "*  select the largest of `num1`, `num2` and `num3` and store this in a variable called **largest**\n",
        "*  return `largest` to the caller, where it will be printed.\n",
        "\n",
        "**Test inputs**:  \n",
        "check_largest(3,5,8)  \n",
        "check_largest(5,7,2)  \n",
        "check_largest(123,45,122)\n",
        "\n",
        "**Expected outputs**:  \n",
        "8  \n",
        "7  \n",
        "123  "
      ]
    },
    {
      "cell_type": "code",
      "metadata": {
        "id": "S_LeqEVd__Cc",
        "colab": {
          "base_uri": "https://localhost:8080/"
        },
        "outputId": "ef3710aa-f74a-4d0f-fc26-25b064fa4a46"
      },
      "source": [
        "def check_largest(num1,num2,num3):\n",
        "  if num1 > num2 and num1 > num3:\n",
        "    return num1\n",
        "  elif num2 > num1 and num2 > num3:\n",
        "    return num2\n",
        "  else:\n",
        "    return num3\n",
        "\n",
        "largest1 = check_largest(3,5,8)\n",
        "largest2= check_largest(5,7,2)\n",
        "largest3 = check_largest(123,45,122)\n",
        "print(largest1)\n",
        "print(largest2)\n",
        "print(largest3)"
      ],
      "execution_count": 23,
      "outputs": [
        {
          "output_type": "stream",
          "name": "stdout",
          "text": [
            "8\n",
            "7\n",
            "123\n"
          ]
        }
      ]
    },
    {
      "cell_type": "markdown",
      "metadata": {
        "id": "NG2u2VT-CwO6"
      },
      "source": [
        "---\n",
        "### Exercise 6 - reverse a string\n",
        "\n",
        " Write a function called **reverse_string(word)** which will:  \n",
        "\n",
        " *  reverse the letters in the word  \n",
        " *  return the **reversed** `word` for printing\n",
        "\n",
        "[Help if you need it](https://www.w3schools.com/python/python_howto_reverse_string.asp)  \n",
        "\n",
        " **Test input**:  \n",
        " tiger  \n",
        "\n",
        "**Expected output**:  \n",
        " regit\n",
        "\n",
        " **Test input**:  \n",
        " Expected\n",
        "\n",
        " **Expected output**:  \n",
        " detcepxE"
      ]
    },
    {
      "cell_type": "code",
      "metadata": {
        "id": "BFTEfne8APF5",
        "colab": {
          "base_uri": "https://localhost:8080/"
        },
        "outputId": "15486a8a-d3c7-485d-80fe-bb3373e16fbc"
      },
      "source": [
        "def reverse_string(word):\n",
        "  reverse_word = word[::-1]\n",
        "  return reverse_word\n",
        "\n",
        "reverse_word = reverse_string(\"tiger\")\n",
        "reverse_word2 = reverse_string(\"Expected\")\n",
        "print(reverse_word)\n",
        "print(reverse_word2)\n"
      ],
      "execution_count": 27,
      "outputs": [
        {
          "output_type": "stream",
          "name": "stdout",
          "text": [
            "regit\n",
            "detcepxE\n"
          ]
        }
      ]
    },
    {
      "cell_type": "markdown",
      "metadata": {
        "id": "cbrFvknfAO05"
      },
      "source": [
        "---\n",
        "### Exercise 7 - average of a list of numbers\n",
        "\n",
        "Write a function **calculate_average(num_list)** which will calculate the average of the list of numbers given, then return the number to the caller which will print it.  \n",
        "\n",
        "**Test inputs**:   \n",
        "list_1 = [1,2,3,4,5] <br>\n",
        "calculate_average(list_1)\n",
        "\n",
        "list_2 = [10002, 30004, 5005, 3333333, 12345] <br>\n",
        "calculate_average(list_2)  \n",
        "\n",
        "**Expected outputs**:  \n",
        "3.0  \n",
        "678137.8"
      ]
    },
    {
      "cell_type": "code",
      "metadata": {
        "id": "lSHhdyhUBRKr",
        "colab": {
          "base_uri": "https://localhost:8080/"
        },
        "outputId": "2d78261e-67b8-4783-dc77-c61cc63f35c1"
      },
      "source": [
        "def calculate_average(num_list):\n",
        "  total = sum(num_list)\n",
        "  average = total / len(num_list)\n",
        "  return average\n",
        "\n",
        "list_1 = [1,2,3,4,5]\n",
        "list_2 = [10002,30004,5005,3333333,12345]\n",
        "average1 = calculate_average(list_1)\n",
        "average2 = calculate_average(list_2)\n",
        "print(average1)\n",
        "print(average2)"
      ],
      "execution_count": 6,
      "outputs": [
        {
          "output_type": "stream",
          "name": "stdout",
          "text": [
            "3.0\n",
            "678137.8\n"
          ]
        }
      ]
    },
    {
      "cell_type": "markdown",
      "metadata": {
        "id": "x-JvvWUVFvY8"
      },
      "source": [
        "---\n",
        "### Exercise 8 - palindrome  \n",
        "\n",
        "Write a function called **is_palindrome(word)** which will return True if the `word` passed in is a palindrome (ie it reads the same in reverse) and False if not.\n",
        "\n",
        "*Hint:  remember that upper case and lower case letters are not seen as the same by Python, there are [case conversion](https://www.codecademy.com/learn/learn-python-3/modules/learn-python3-strings/cheatsheet) functions you can use to help with this.*\n",
        "\n",
        "**Test input**:  \n",
        "is_palindrome(\"racecar\")  \n",
        "is_palindrome(\"Racecar\")  \n",
        "is_palindrome(\"banana\")  \n",
        "\n",
        "**Expected output**:  \n",
        "True  \n",
        "True  \n",
        "False  "
      ]
    },
    {
      "cell_type": "code",
      "metadata": {
        "id": "OdHYWCJMCwaI",
        "colab": {
          "base_uri": "https://localhost:8080/"
        },
        "outputId": "ff71959f-53e9-4943-aacd-c35a16922201"
      },
      "source": [
        "def is_palindrome(word):\n",
        "  word = word.lower()\n",
        "  if word == word[::-1]:\n",
        "    return True\n",
        "  else:\n",
        "    return False\n",
        "\n",
        "word1 = is_palindrome(\"racecar\")\n",
        "word2 = is_palindrome(\"Racecar\")\n",
        "word3 = is_palindrome(\"banana\")\n",
        "print(word1)\n",
        "print(word2)\n",
        "print(word3)\n"
      ],
      "execution_count": 1,
      "outputs": [
        {
          "output_type": "stream",
          "name": "stdout",
          "text": [
            "True\n",
            "True\n",
            "False\n"
          ]
        }
      ]
    },
    {
      "cell_type": "markdown",
      "metadata": {
        "id": "QPHDjtXXEJ92"
      },
      "source": [
        "---\n",
        "### Exercise 9 - find factorial\n",
        "\n",
        "Write a function called **calculate_factorial(num)** which will:\n",
        "\n",
        "*  if `num` is negative set **factorial** to -1\n",
        "*  if `num` isn't negative, if it is 0 then set `factorial` to 1\n",
        "*  if `num` isn't 0 then calculate `factorial` (multiply the numbers from `num` down to 1 using a loop)\n",
        "*  return `factorial`.   \n",
        "\n",
        "**Test inputs**:  \n",
        "calculate_factorial(5)  \n",
        "calculate_factorial(-5)  \n",
        "calculate_factorial(0)    \n",
        "\n",
        "**Expected outputs**:  \n",
        "120  \n",
        "-1  \n",
        "1    "
      ]
    },
    {
      "cell_type": "code",
      "metadata": {
        "id": "QAln19ReEKH5",
        "colab": {
          "base_uri": "https://localhost:8080/"
        },
        "outputId": "fd728650-c3f1-4332-8161-93908a35ade2"
      },
      "source": [
        "def calculate_factorial(num):\n",
        "  if num < 0:\n",
        "    return -1\n",
        "  elif num == 0:\n",
        "    return 1\n",
        "  else:\n",
        "    total = 1\n",
        "    for i in range(num,0,-1):\n",
        "      total *= i\n",
        "  return total\n",
        "\n",
        "factorial1 = calculate_factorial(5)\n",
        "factorial2 = calculate_factorial(-5)\n",
        "factorial3 = calculate_factorial(0)\n",
        "print(factorial1)\n",
        "print(factorial2)\n",
        "print(factorial3)\n"
      ],
      "execution_count": 8,
      "outputs": [
        {
          "output_type": "stream",
          "name": "stdout",
          "text": [
            "120\n",
            "-1\n",
            "1\n"
          ]
        }
      ]
    },
    {
      "cell_type": "markdown",
      "metadata": {
        "id": "Z58a7qa1BQ6j"
      },
      "source": [
        "---\n",
        "### Exercise 10 - passing data between functions - calculate price and apply discount\n",
        "\n",
        "Write a function called **calculate_price(product_price, num_items)** which will:\n",
        "\n",
        "*  calculate the total cost of the items, from the `product_price` and `num_items`\n",
        "*  return the `total`\n",
        "\n",
        "Write a second function **calculate_discount_price(total_price)** that will:\n",
        "\n",
        "*  ask the user to enter any **discount** they have (this can be 10% or 25% only), if the discount value is invalid, do not apply a discount   \n",
        "*  calculate the price of the items after the discount is applied\n",
        "*  return the `discounted_price` to be printed by the caller.\n",
        "\n",
        "Call the first function, with the given `product_price` and `num_items` and store the returned value in a variable called **total**  \n",
        "\n",
        "Call the second function, with the `total`, store the result in a variable called **discounted_price**, then print `discounted_price`\n",
        "\n",
        "Here is what it would look like:\n",
        "\n",
        "**Test input**:  \n",
        "Test with a product_price of 3.50, 4 items, and enter a discount of 10%   \n",
        "```\n",
        "total = calculate_price(3.50, 4)  \n",
        "discounted_price = calculate_discount_price(total)\n",
        "```   \n",
        "\n",
        "**Expected output**:  \n",
        "Discounted price: £ 12.60\n",
        "\n",
        "**Test input**:  \n",
        "Test with a product_price of 8.99, 10 items, and enter a discount of 50%  \n",
        "```\n",
        "total = calculate_price(8.99, 10)\n",
        "discounted_price = calculate_discount_price(total)\n",
        "```\n",
        "\n",
        "**Expected output**:  \n",
        "Discounted price: £ 89.90  "
      ]
    },
    {
      "cell_type": "code",
      "source": [],
      "metadata": {
        "id": "ZRc11ZzUp822"
      },
      "execution_count": null,
      "outputs": []
    },
    {
      "cell_type": "code",
      "metadata": {
        "id": "Jx0ZSYl0FvjD",
        "colab": {
          "base_uri": "https://localhost:8080/"
        },
        "outputId": "4f92be7f-6b9f-4e44-afc5-b8e49ac5c2b8"
      },
      "source": [
        "def calculate_price(product_price, num_items):\n",
        "  total = product_price * num_items\n",
        "  return total\n",
        "\n",
        "  #we now calculate the discounted price below\n",
        "\n",
        "def calculate_discount_price(total):\n",
        "  discount = int(input(\"Enter a discount of 10% or 25% only: \"))\n",
        "  if discount != 10 and discount != 25:\n",
        "    return total\n",
        "  else:\n",
        "    discounted_price = discount/100 * total\n",
        "    discounted_price = total - discounted_price\n",
        "    return discounted_price\n",
        "\n",
        "total = calculate_price(8.99,10)\n",
        "discounted_price = calculate_discount_price(total)\n",
        "print(discounted_price)\n",
        "\n",
        "\n",
        "\n",
        "\n",
        "\n"
      ],
      "execution_count": 17,
      "outputs": [
        {
          "output_type": "stream",
          "name": "stdout",
          "text": [
            "Enter a discount of 10% or 25% only: 50\n",
            "89.9\n"
          ]
        }
      ]
    },
    {
      "cell_type": "markdown",
      "source": [
        "## Your thoughts on what you have learnt\n",
        "Please add some comments in the box below to reflect on what you have learnt through completing this worksheet, and any problems you encountered while doing so."
      ],
      "metadata": {
        "id": "U_J4qlpgvtWP"
      }
    },
    {
      "cell_type": "markdown",
      "source": [
        "It took me a long time to fully understand the concept of functions in Python. Initially, I misunderstood how to approach using functions. My mistake was trying to directly connect the code I was writing inside the function to the specific problem the function was meant to solve, instead of focusing on what the function itself is designed to do. This approach was incorrect because it limited my understanding of how functions work.\n",
        "\n",
        "The beauty of functions lies in their ability to perform specific tasks or calculations when they are called. Once you define a function, it can be reused to solve problems automatically without rewriting the code. Now that I understand this, I’m starting to appreciate and enjoy working with functions, as they make coding much simpler and more organized."
      ],
      "metadata": {
        "id": "sKMXhunpvuWV"
      }
    }
  ]
}