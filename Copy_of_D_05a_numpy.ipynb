{
  "nbformat": 4,
  "nbformat_minor": 0,
  "metadata": {
    "colab": {
      "provenance": [],
      "include_colab_link": true
    },
    "kernelspec": {
      "name": "python3",
      "display_name": "Python 3"
    },
    "language_info": {
      "name": "python"
    }
  },
  "cells": [
    {
      "cell_type": "markdown",
      "metadata": {
        "id": "view-in-github",
        "colab_type": "text"
      },
      "source": [
        "<a href=\"https://colab.research.google.com/github/Omolabak5/data-and-python/blob/main/Copy_of_D_05a_numpy.ipynb\" target=\"_parent\"><img src=\"https://colab.research.google.com/assets/colab-badge.svg\" alt=\"Open In Colab\"/></a>"
      ]
    },
    {
      "cell_type": "markdown",
      "metadata": {
        "id": "M21YTen340ZU"
      },
      "source": [
        "#Introduction to Numpy\n",
        "\n",
        "---"
      ]
    },
    {
      "cell_type": "markdown",
      "metadata": {
        "id": "MxKEUfvp54QO"
      },
      "source": [
        "\n",
        "## Creating new Numpy Arrays\n",
        "\n",
        "As shown in the presentation, it is convention to import the whole numpy library using an alias:\n",
        "\n",
        "`import numpy as np`\n",
        "\n",
        "Every time you want to use a function from the numpy library you use the syntax:  \n",
        "\n",
        "`np.function_name()`  \n",
        "\n",
        "Create a new numpy array from a Python list of numbers\n",
        "   \n",
        "`arr = np.array([1,2,3])`\n",
        "\n",
        "Or a new numpy matrix from a Python 2 dimensional list of numbers\n",
        "\n",
        "`matrix = np.array([[1,2,3],[4,5,6]])`\n",
        "\n",
        "Create a numpy array from a dataframe column (series):\n",
        "\n",
        "`arr = df['column name'].to_numpy(datatype)`\n",
        "\n",
        "where the datatype matches the data type of the column.\n",
        "\n"
      ]
    },
    {
      "cell_type": "markdown",
      "metadata": {
        "id": "s2HQHeHE6r4n"
      },
      "source": [
        "### Exercise 1 - create a new numpy array to hold the numbers from 1 to 10\n",
        "---\n",
        "\n",
        "Write a function called `make_array()` which will:\n",
        "*   create a list of the numbers 1 to 10     -   *hint: try using range() if you are more confident working with lists*\n",
        "*   create a new numpy array called **new_array** from that list\n",
        "*   print `new_array`\n",
        "\n",
        "Expected output:  \n",
        "`[1 2 3 4 5 6 7 8 9 10] `\n",
        "\n"
      ]
    },
    {
      "cell_type": "code",
      "metadata": {
        "id": "-WWVDSRq7QDN",
        "colab": {
          "base_uri": "https://localhost:8080/"
        },
        "outputId": "47b8095d-7902-4434-947c-34c31f11310a"
      },
      "source": [
        "import numpy as np\n",
        "\n",
        "def make_array():\n",
        "  # add your code below here\n",
        "  #using range , create a list of from 1 to 10\n",
        "  num_list = [i for i in range (1,11)]\n",
        "\n",
        "#create a new numpy array from the num_list above\n",
        "  new_array = np.array([num_list])\n",
        "  print(new_array)\n",
        "\n",
        "\n",
        "\n",
        "\n",
        "\n",
        "\n",
        "\n",
        "\n",
        "# run and test the function against the expected output\n",
        "make_array()"
      ],
      "execution_count": 3,
      "outputs": [
        {
          "output_type": "stream",
          "name": "stdout",
          "text": [
            "[[ 1  2  3  4  5  6  7  8  9 10]]\n"
          ]
        }
      ]
    },
    {
      "cell_type": "markdown",
      "metadata": {
        "id": "X2qc0-nc7qZV"
      },
      "source": [
        "## Setting the number type in memory\n",
        "\n",
        "As a reminder, set the memory type as follows, where **int8** is the datetype you wish to use.\n",
        "\n",
        "`new_array = np.array([1, 2, 3], np.int8)`    \n",
        "\n",
        "\n",
        "---\n",
        "### Exercise 2 - create list of smallish numbers\n",
        "\n",
        "Write a function which will:\n",
        "*   assign the list `[31112, 32321, 24567, 456, 324, 789]` to a variable called **num_list** (which has been done for you already)   \n",
        "*   create a new numpy array called **new_array** from `num_list`, with data size `int16`\n",
        "*   print `new_array`  \n",
        "\n",
        "\n",
        "Expected output:   \n",
        "```\n",
        "[31112 32321 24567 456 324 789]\n",
        "```\n",
        "\n",
        "*As an extra challenge, if you've complete the worksheet on user defined functions, change the function to accept num_list as a parameter, then the function should return the numpy array rather than print it.*"
      ]
    },
    {
      "cell_type": "code",
      "metadata": {
        "id": "XUMfMwhLACzH",
        "colab": {
          "base_uri": "https://localhost:8080/"
        },
        "outputId": "79a30a28-8504-487a-a1cf-a5953d5b903d"
      },
      "source": [
        "import numpy as np\n",
        "\n",
        "def create_new_array():\n",
        "\n",
        "  num_list = [31112, 32321, 24567, 456, 324, 789]\n",
        "  #create a new array with data size int16\n",
        "  new_array = np.array([num_list], np.int16)\n",
        "  #print the new_array\n",
        "  print(new_array)\n",
        "\n",
        "  # add your code below here to turn num_list into a numpy array\n",
        "\n",
        "\n",
        "\n",
        "# run and test the code against the expected output\n",
        "create_new_array()"
      ],
      "execution_count": 4,
      "outputs": [
        {
          "output_type": "stream",
          "name": "stdout",
          "text": [
            "[[31112 32321 24567   456   324   789]]\n"
          ]
        }
      ]
    },
    {
      "cell_type": "markdown",
      "metadata": {
        "id": "oC8rsm3yBLRd"
      },
      "source": [
        "---\n",
        "### Exercise 3 - create a numpy array from a pandas dataframe column\n",
        "\n",
        "Write a function which  will create a numpy array from the Fare column of the titanic dataset.\n",
        "\n",
        "*Recap*:  *the Fare column is df['Fare'] (assuming your dataframe is called df)*\n",
        "\n",
        "*  create a dataframe from the data set in the file at this url:  https://raw.githubusercontent.com/pandas-dev/pandas/master/doc/data/titanic.csv (this has been done for you)\n",
        "*  create a new numpy array called **fare** from the `Fare` column (*remember to specify the data type e.g. np.int32, float64 when using* `df.to_numpy()` *and consider what the datatype might be from looking at the expected output below*)  \n",
        "*  print the `fare` array\n",
        "\n",
        "Expected output:  \n",
        "```\n",
        "array([  7.25  ,  71.2833,   7.925 , ......  23.45  ,  30.    ,   7.75  ])\n",
        "```\n",
        "\n",
        "  "
      ]
    },
    {
      "cell_type": "code",
      "metadata": {
        "id": "QCs2eDFEBhr8",
        "colab": {
          "base_uri": "https://localhost:8080/"
        },
        "outputId": "f87303ff-f905-4924-ac70-fabbbad5d872"
      },
      "source": [
        "import pandas as pd\n",
        "import numpy as np\n",
        "\n",
        "url = \"https://raw.githubusercontent.com/pandas-dev/pandas/master/doc/data/titanic.csv\"\n",
        "df = pd.read_csv(url)\n",
        "\n",
        "def create_fare_series():\n",
        "  # create a numpy array from the Fare column and print it\n",
        "  fare = df['Fare'].to_numpy(np.float64)\n",
        "  print(fare)\n",
        "\n",
        "\n",
        "\n",
        "# run the function and test against the expected output.\n",
        "create_fare_series()"
      ],
      "execution_count": 6,
      "outputs": [
        {
          "output_type": "stream",
          "name": "stdout",
          "text": [
            "[  7.25    71.2833   7.925   53.1      8.05     8.4583  51.8625  21.075\n",
            "  11.1333  30.0708  16.7     26.55     8.05    31.275    7.8542  16.\n",
            "  29.125   13.      18.       7.225   26.      13.       8.0292  35.5\n",
            "  21.075   31.3875   7.225  263.       7.8792   7.8958  27.7208 146.5208\n",
            "   7.75    10.5     82.1708  52.       7.2292   8.05    18.      11.2417\n",
            "   9.475   21.       7.8958  41.5792   7.8792   8.05    15.5      7.75\n",
            "  21.6792  17.8     39.6875   7.8     76.7292  26.      61.9792  35.5\n",
            "  10.5      7.2292  27.75    46.9      7.2292  80.      83.475   27.9\n",
            "  27.7208  15.2458  10.5      8.1583   7.925    8.6625  10.5     46.9\n",
            "  73.5     14.4542  56.4958   7.65     7.8958   8.05    29.      12.475\n",
            "   9.       9.5      7.7875  47.1     10.5     15.85    34.375    8.05\n",
            " 263.       8.05     8.05     7.8542  61.175   20.575    7.25     8.05\n",
            "  34.6542  63.3583  23.      26.       7.8958   7.8958  77.2875   8.6542\n",
            "   7.925    7.8958   7.65     7.775    7.8958  24.15    52.      14.4542\n",
            "   8.05     9.825   14.4583   7.925    7.75    21.     247.5208  31.275\n",
            "  73.5      8.05    30.0708  13.      77.2875  11.2417   7.75     7.1417\n",
            "  22.3583   6.975    7.8958   7.05    14.5     26.      13.      15.0458\n",
            "  26.2833  53.1      9.2167  79.2     15.2458   7.75    15.85     6.75\n",
            "  11.5     36.75     7.7958  34.375   26.      13.      12.525   66.6\n",
            "   8.05    14.5      7.3125  61.3792   7.7333   8.05     8.6625  69.55\n",
            "  16.1     15.75     7.775    8.6625  39.6875  20.525   55.      27.9\n",
            "  25.925   56.4958  33.5     29.125   11.1333   7.925   30.6958   7.8542\n",
            "  25.4667  28.7125  13.       0.      69.55    15.05    31.3875  39.\n",
            "  22.025   50.      15.5     26.55    15.5      7.8958  13.      13.\n",
            "   7.8542  26.      27.7208 146.5208   7.75     8.4042   7.75    13.\n",
            "   9.5     69.55     6.4958   7.225    8.05    10.4625  15.85    18.7875\n",
            "   7.75    31.       7.05    21.       7.25    13.       7.75   113.275\n",
            "   7.925   27.      76.2917  10.5      8.05    13.       8.05     7.8958\n",
            "  90.       9.35    10.5      7.25    13.      25.4667  83.475    7.775\n",
            "  13.5     31.3875  10.5      7.55    26.      26.25    10.5     12.275\n",
            "  14.4542  15.5     10.5      7.125    7.225   90.       7.775   14.5\n",
            "  52.5542  26.       7.25    10.4625  26.55    16.1     20.2125  15.2458\n",
            "  79.2     86.5    512.3292  26.       7.75    31.3875  79.65     0.\n",
            "   7.75    10.5     39.6875   7.775  153.4625 135.6333  31.       0.\n",
            "  19.5     29.7      7.75    77.9583   7.75     0.      29.125   20.25\n",
            "   7.75     7.8542   9.5      8.05    26.       8.6625   9.5      7.8958\n",
            "  13.       7.75    78.85    91.0792  12.875    8.85     7.8958  27.7208\n",
            "   7.2292 151.55    30.5    247.5208   7.75    23.25     0.      12.35\n",
            "   8.05   151.55   110.8833 108.9     24.      56.9292  83.1583 262.375\n",
            "  26.       7.8958  26.25     7.8542  26.      14.     164.8667 134.5\n",
            "   7.25     7.8958  12.35    29.      69.55   135.6333   6.2375  13.\n",
            "  20.525   57.9792  23.25    28.5    153.4625  18.     133.65     7.8958\n",
            "  66.6    134.5      8.05    35.5     26.     263.      13.      13.\n",
            "  13.      13.      13.      16.1     15.9      8.6625   9.225   35.\n",
            "   7.2292  17.8      7.225    9.5     55.      13.       7.8792   7.8792\n",
            "  27.9     27.7208  14.4542   7.05    15.5      7.25    75.25     7.2292\n",
            "   7.75    69.3     55.4417   6.4958   8.05   135.6333  21.075   82.1708\n",
            "   7.25   211.5      4.0125   7.775  227.525   15.7417   7.925   52.\n",
            "   7.8958  73.5     46.9     13.       7.7292  12.     120.       7.7958\n",
            "   7.925  113.275   16.7      7.7958   7.8542  26.      10.5     12.65\n",
            "   7.925    8.05     9.825   15.85     8.6625  21.       7.75    18.75\n",
            "   7.775   25.4667   7.8958   6.8583  90.       0.       7.925    8.05\n",
            "  32.5     13.      13.      24.15     7.8958   7.7333   7.875   14.4\n",
            "  20.2125   7.25    26.      26.       7.75     8.05    26.55    16.1\n",
            "  26.       7.125   55.9    120.      34.375   18.75   263.      10.5\n",
            "  26.25     9.5      7.775   13.       8.1125  81.8583  19.5     26.55\n",
            "  19.2583  30.5     27.75    19.9667  27.75    89.1042   8.05     7.8958\n",
            "  26.55    51.8625  10.5      7.75    26.55     8.05    38.5     13.\n",
            "   8.05     7.05     0.      26.55     7.725   19.2583   7.25     8.6625\n",
            "  27.75    13.7917   9.8375  52.      21.       7.0458   7.5208  12.2875\n",
            "  46.9      0.       8.05     9.5875  91.0792  25.4667  90.      29.7\n",
            "   8.05    15.9     19.9667   7.25    30.5     49.5042   8.05    14.4583\n",
            "  78.2667  15.1    151.55     7.7958   8.6625   7.75     7.6292   9.5875\n",
            "  86.5    108.9     26.      26.55    22.525   56.4958   7.75     8.05\n",
            "  26.2875  59.4      7.4958  34.0208  10.5     24.15    26.       7.8958\n",
            "  93.5      7.8958   7.225   57.9792   7.2292   7.75    10.5    221.7792\n",
            "   7.925   11.5     26.       7.2292   7.2292  22.3583   8.6625  26.25\n",
            "  26.55   106.425   14.5     49.5     71.      31.275   31.275   26.\n",
            " 106.425   26.      26.      13.8625  20.525   36.75   110.8833  26.\n",
            "   7.8292   7.225    7.775   26.55    39.6    227.525   79.65    17.4\n",
            "   7.75     7.8958  13.5      8.05     8.05    24.15     7.8958  21.075\n",
            "   7.2292   7.8542  10.5     51.4792  26.3875   7.75     8.05    14.5\n",
            "  13.      55.9     14.4583   7.925   30.     110.8833  26.      40.125\n",
            "   8.7125  79.65    15.      79.2      8.05     8.05     7.125   78.2667\n",
            "   7.25     7.75    26.      24.15    33.       0.       7.225   56.9292\n",
            "  27.       7.8958  42.4      8.05    26.55    15.55     7.8958  30.5\n",
            "  41.5792 153.4625  31.275    7.05    15.5      7.75     8.05    65.\n",
            "  14.4     16.1     39.      10.5     14.4542  52.5542  15.7417   7.8542\n",
            "  16.1     32.3208  12.35    77.9583   7.8958   7.7333  30.       7.0542\n",
            "  30.5      0.      27.9     13.       7.925   26.25    39.6875  16.1\n",
            "   7.8542  69.3     27.9     56.4958  19.2583  76.7292   7.8958  35.5\n",
            "   7.55     7.55     7.8958  23.       8.4333   7.8292   6.75    73.5\n",
            "   7.8958  15.5     13.     113.275  133.65     7.225   25.5875   7.4958\n",
            "   7.925   73.5     13.       7.775    8.05    52.      39.      52.\n",
            "  10.5     13.       0.       7.775    8.05     9.8417  46.9    512.3292\n",
            "   8.1375  76.7292   9.225   46.9     39.      41.5792  39.6875  10.1708\n",
            "   7.7958 211.3375  57.      13.4167  56.4958   7.225   26.55    13.5\n",
            "   8.05     7.7333 110.8833   7.65   227.525   26.2875  14.4542   7.7417\n",
            "   7.8542  26.      13.5     26.2875 151.55    15.2458  49.5042  26.55\n",
            "  52.       9.4833  13.       7.65   227.525   10.5     15.5      7.775\n",
            "  33.       7.0542  13.      13.      53.1      8.6625  21.       7.7375\n",
            "  26.       7.925  211.3375  18.7875   0.      13.      13.      16.1\n",
            "  34.375  512.3292   7.8958   7.8958  30.      78.85   262.375   16.1\n",
            "   7.925   71.      20.25    13.      53.1      7.75    23.      12.475\n",
            "   9.5      7.8958  65.      14.5      7.7958  11.5      8.05    86.5\n",
            "  14.5      7.125    7.2292 120.       7.775   77.9583  39.6      7.75\n",
            "  24.15     8.3625   9.5      7.8542  10.5      7.225   23.       7.75\n",
            "   7.75    12.475    7.7375 211.3375   7.2292  57.      30.      23.45\n",
            "   7.05     7.25     7.4958  29.125   20.575   79.2      7.75    26.\n",
            "  69.55    30.6958   7.8958  13.      25.9292   8.6833   7.2292  24.15\n",
            "  13.      26.25   120.       8.5167   6.975    7.775    0.       7.775\n",
            "  13.      53.1      7.8875  24.15    10.5     31.275    8.05     0.\n",
            "   7.925   37.0042   6.45    27.9     93.5      8.6625   0.      12.475\n",
            "  39.6875   6.95    56.4958  37.0042   7.75    80.      14.4542  18.75\n",
            "   7.2292   7.8542   8.3     83.1583   8.6625   8.05    56.4958  29.7\n",
            "   7.925   10.5     31.       6.4375   8.6625   7.55    69.55     7.8958\n",
            "  33.      89.1042  31.275    7.775   15.2458  39.4     26.       9.35\n",
            " 164.8667  26.55    19.2583   7.2292  14.1083  11.5     25.9292  69.55\n",
            "  13.      13.      13.8583  50.4958   9.5     11.1333   7.8958  52.5542\n",
            "   5.       9.      24.       7.225    9.8458   7.8958   7.8958  83.1583\n",
            "  26.       7.8958  10.5167  10.5      7.05    29.125   13.      30.\n",
            "  23.45    30.       7.75  ]\n"
          ]
        }
      ]
    },
    {
      "cell_type": "markdown",
      "source": [
        "---\n",
        "### Exercise 4 - print first 5 and last 5 items in numpy array\n",
        "\n",
        "Write a function which will create the same array as in the previous exercise (created from the Fare column in the titanic dataset):\n",
        "\n",
        "*  print the first 5 items in the array (one per line)\n",
        "*  print 5 lines of three dots (ie ...)\n",
        "*  print the last 5 items in the array (one per line)\n",
        "\n",
        "*Hint: You can slice an array from the beggining or the end and then print the values from that slice.*\n",
        "\n",
        "Note: If you have run the cell above in this session, the dataframe **df** will still be available for you to use.\n",
        "\n",
        "**Expected output**:  \n",
        "7.25 <br>\n",
        "71.2833 <br>\n",
        "7.925 <br>\n",
        "53.1 <br>\n",
        "8.05  \n",
        "...  \n",
        "...  \n",
        "...  \n",
        "...  \n",
        "...  \n",
        "13.0 <br>\n",
        "30.0 <br>\n",
        "23.45 <br>\n",
        "30.0 <br>\n",
        "7.75\n",
        "\n"
      ],
      "metadata": {
        "id": "u-eNIkYCNUKU"
      }
    },
    {
      "cell_type": "code",
      "metadata": {
        "id": "uFARauf3FiMf",
        "colab": {
          "base_uri": "https://localhost:8080/"
        },
        "outputId": "f56046be-9f33-4b9f-91a8-eb627dc4bb83"
      },
      "source": [
        "import pandas as pd\n",
        "import numpy as np\n",
        "\n",
        "url = \"https://raw.githubusercontent.com/pandas-dev/pandas/master/doc/data/titanic.csv\"\n",
        "df = pd.read_csv(url)\n",
        "\n",
        "def show_head_tail():\n",
        "  # add your code below here to create a numpy array from the Fare column and print the head and tail, with dots as separators\n",
        "\n",
        "  #get the colunm \"Fare\" from the dataframe column\n",
        "  fare_arr = df['Fare'].to_numpy(np.float64)\n",
        "\n",
        "  #get the first five items from fare\n",
        "  for fare in fare_arr[:5]:\n",
        "    print(fare)\n",
        "\n",
        "  #Loop 5 times for dots separators\n",
        "  for _ in range(5):\n",
        "    print(\"...\")  # Print three dots on each line\n",
        "\n",
        "  #get the last five items from fare\n",
        "  for fare in fare_arr[-5:]:\n",
        "    print(fare)\n",
        "\n",
        "\n",
        "\n",
        "\n",
        "\n",
        "# run the function and test against the expected output.\n",
        "show_head_tail()"
      ],
      "execution_count": 4,
      "outputs": [
        {
          "output_type": "stream",
          "name": "stdout",
          "text": [
            "7.25\n",
            "71.2833\n",
            "7.925\n",
            "53.1\n",
            "8.05\n",
            "...\n",
            "...\n",
            "...\n",
            "...\n",
            "...\n",
            "13.0\n",
            "30.0\n",
            "23.45\n",
            "30.0\n",
            "7.75\n"
          ]
        }
      ]
    },
    {
      "cell_type": "markdown",
      "metadata": {
        "id": "Lg62ACAlLzT8"
      },
      "source": [
        "---\n",
        "### Exercise 5 - increase whole array by 20\n",
        "\n",
        "Write a function which will:\n",
        "*  create a numpy array of 12 numbers\n",
        "*  create a new array adding 20 to each of the items in the first array  \n",
        "*  print the new array\n",
        "\n",
        "Test input:  \n",
        "`[1,2,3,4,5,6,7,8,1,2,3,4]`\n",
        "\n",
        "Expected output:  \n",
        "`[21 22 23 24 25 26 27 28 21 22 23 24]`"
      ]
    },
    {
      "cell_type": "code",
      "metadata": {
        "id": "HloCtcOYMD3W",
        "colab": {
          "base_uri": "https://localhost:8080/"
        },
        "outputId": "e5ad80fa-0dd7-4484-eb4a-12b6a0817f30"
      },
      "source": [
        "import numpy as np\n",
        "\n",
        "def increase_array():\n",
        "  # add your code below to increase all values in an array by 20 and then to call the function\n",
        "\n",
        "  #create numpy array of 12 numbers\n",
        "  nums = np.array([1,2,3,4,5,6,7,8,1,2,3,4])\n",
        "\n",
        "  #add 20 to each of the items in nums and print the new_array\n",
        "  new_array = nums + 20\n",
        "  print(new_array)\n",
        "\n",
        "\n",
        "\n",
        "\n",
        "# run the function and test against the expected output.\n",
        "increase_array()"
      ],
      "execution_count": 5,
      "outputs": [
        {
          "output_type": "stream",
          "name": "stdout",
          "text": [
            "[21 22 23 24 25 26 27 28 21 22 23 24]\n"
          ]
        }
      ]
    },
    {
      "cell_type": "markdown",
      "metadata": {
        "id": "B-p-PF99MECD"
      },
      "source": [
        "\n",
        "---\n",
        "### Exercise 6 - convert Titanic fares into 21st century values\n",
        "\n",
        "Write a function which will:    \n",
        "*  create a numpy array from the Fare column of the Titanic dataframe `df`\n",
        "*  convert the fares into current value (multiply by a factor of 120.7045 - source https://www.in2013dollars.com/uk/inflation/1912?amount=32 *accessed 22/1/2022*)\n",
        "*  sort the converted fares\n",
        "*  print the first (the smallest) and last (greatest) values of the sorted fares.\n",
        "\n",
        "Expected output:  \n",
        "```\n",
        "0.0\n",
        "61840.4399214\n",
        "\n",
        "```\n",
        "\n",
        "\n"
      ]
    },
    {
      "cell_type": "code",
      "metadata": {
        "id": "ahgPUqTjM9it",
        "colab": {
          "base_uri": "https://localhost:8080/"
        },
        "outputId": "7a79fd4f-ac1a-4247-c0c4-e2aa1c62fc7b"
      },
      "source": [
        "import pandas as pd\n",
        "import numpy as np\n",
        "\n",
        "url = \"https://raw.githubusercontent.com/pandas-dev/pandas/master/doc/data/titanic.csv\"\n",
        "df = pd.read_csv(url)\n",
        "\n",
        "def get_current_fares():\n",
        "  # add your code below to get the fares data into a numpy array, convert to today's prices and print stats\n",
        "\n",
        "   #get the colunm \"Fare\" from the dataframe column\n",
        "  fare_arr = df['Fare'].to_numpy(np.float64)\n",
        "  converted_fares = fare_arr * 120.7045 #convert by multiplying all the items in \"fare_arr\" with current values\n",
        "\n",
        "  #sort the converted_fares array by creating a new array\n",
        "  sorted_converted_fares = np.sort(converted_fares)\n",
        "\n",
        "  #print the minimum and maximum values of sorted fares\n",
        "  print(min(sorted_converted_fares))\n",
        "  print(max(sorted_converted_fares))\n",
        "\n",
        "\n",
        "\n",
        "\n",
        "\n",
        "# run the function and test against expected output\n",
        "get_current_fares()"
      ],
      "execution_count": 7,
      "outputs": [
        {
          "output_type": "stream",
          "name": "stdout",
          "text": [
            "0.0\n",
            "61840.4399214\n"
          ]
        }
      ]
    },
    {
      "cell_type": "markdown",
      "source": [
        "### Exercise 7 - filtering an array\n",
        "\n",
        "Write a function that will take a numpy array of 20 random numbers between 1 and 10 use array filtering to print the following:\n",
        "* numbers equal to 5 (arr == 5)\n",
        "* numbers less than or equal to 5 (arr <= 5)\n",
        "* numbers greater than 5 (arr > 5)\n",
        "* numbers not equal to 5 (arr != 5)\n",
        "\n",
        "Expected output:\n",
        "\n",
        "`[5 5]` <br>\n",
        "`[4 5 2 1 3 1 2 4 5 3 3 1]` <br>\n",
        "`[9 8 8 7 6 7 8 9]` <br>\n",
        "`[4 2 9 1 8 3 1 8 2 7 4 3 6 7 3 1 8 9]`\n"
      ],
      "metadata": {
        "id": "7fnQ2fMiKHaZ"
      }
    },
    {
      "cell_type": "code",
      "source": [
        "import numpy as np\n",
        "\n",
        "def filter_an_array():\n",
        "  arr = np.array([4, 5, 2, 9, 1, 8, 3, 1, 8, 2, 7, 4, 5, 3, 6, 7, 3, 1, 8, 9])\n",
        "  # add your code below to filter the array above\n",
        "\n",
        "  #create filters by broadcasting conditional across the array above using a boolean mask\n",
        "  filter1 = arr == 5\n",
        "  filter2 = arr <= 5\n",
        "  filter3 = arr > 5\n",
        "  filter4 = arr!= 5\n",
        "  #print(filter1)\n",
        "  #print(filter2)\n",
        "  #print(filter3)\n",
        "  #print(filter4)\n",
        "\n",
        "  #use the filters to select only the elements that are true and print the results\n",
        "  equals_five = arr[filter1]\n",
        "  print(equals_five)\n",
        "  less_or_equal_five = arr[filter2]\n",
        "  print(less_or_equal_five)\n",
        "  greater_than_five = arr[filter3]\n",
        "  print(greater_than_five)\n",
        "  not_equal_five = arr[filter4]\n",
        "  print(not_equal_five)\n",
        "\n",
        "\n",
        "\n",
        "\n",
        "filter_an_array()"
      ],
      "metadata": {
        "id": "r43N9B5YKOhT",
        "colab": {
          "base_uri": "https://localhost:8080/"
        },
        "outputId": "28892744-99dd-4260-95b9-cfd9f799af03"
      },
      "execution_count": 9,
      "outputs": [
        {
          "output_type": "stream",
          "name": "stdout",
          "text": [
            "[5 5]\n",
            "[4 5 2 1 3 1 2 4 5 3 3 1]\n",
            "[9 8 8 7 6 7 8 9]\n",
            "[4 2 9 1 8 3 1 8 2 7 4 3 6 7 3 1 8 9]\n"
          ]
        }
      ]
    },
    {
      "cell_type": "markdown",
      "source": [
        "### Exercise 8 - How many survivors?\n",
        "\n",
        "The `Survived` column in the titanic dataset contains two possible values: 0 if the person did not survive and 1 if they did.\n",
        "\n",
        "Write a function that will:\n",
        "\n",
        "* create a numpy array from the Survived column of the titanic dataframe `df`\n",
        "* count the length of the array (*Hint: you can use the `len()` function in the same way as you have done for strings and lists*) to find out how many people were on the titanic\n",
        "* filter the array for values greater than 0\n",
        "* find the length of the filtered array and calculate the percentage of survivors, rounded to 1 decimal place\n",
        "* print a statement that says how many people were on the titanic and what percentage survived."
      ],
      "metadata": {
        "id": "miZ1PhtgGHgg"
      }
    },
    {
      "cell_type": "code",
      "source": [
        "import pandas as pd\n",
        "import numpy as np\n",
        "\n",
        "url = \"https://raw.githubusercontent.com/pandas-dev/pandas/master/doc/data/titanic.csv\"\n",
        "df = pd.read_csv(url)\n",
        "\n",
        "def get_survival_rate():\n",
        "  # write your code below to calculate the survival rate of titanic passengers\n",
        "\n",
        "  #get the colunm \"Survived\" from the dataframe column\n",
        "  survived_arr = df['Survived'].to_numpy(np.int16)\n",
        "  people_count = len(survived_arr) #total number of people on titanic\n",
        "  print(people_count)\n",
        "\n",
        "  #create a filter by broadcasting conditional across the array above using a boolean mask\n",
        "  filter = survived_arr > 0\n",
        "  survived_people = survived_arr[filter] #use the filters to select only the elements that are true\n",
        "  survived_count = len(survived_people) #total number of people that survived\n",
        "  percentage_of_survivors = (survived_count/people_count) * 100 #percentage of people that survived\n",
        "  percentage_of_survivors = round(percentage_of_survivors, 2) #round percentage of survivor to 2 decimal places\n",
        "  print(f\"{people_count}  was on the titanic and  {percentage_of_survivors} % survived\" )\n",
        "\n",
        "\n",
        "\n",
        "\n",
        "\n",
        "\n",
        "\n",
        "get_survival_rate()"
      ],
      "metadata": {
        "id": "W9pHMnGkGm66",
        "colab": {
          "base_uri": "https://localhost:8080/"
        },
        "outputId": "b3d5d059-cba8-4c3a-ce03-80d3a8223199"
      },
      "execution_count": 16,
      "outputs": [
        {
          "output_type": "stream",
          "name": "stdout",
          "text": [
            "891\n",
            "891  was on the titanic and  38.38 % survived\n"
          ]
        }
      ]
    },
    {
      "cell_type": "markdown",
      "source": [
        "### Exercise 9 - Passenger Classes\n",
        "\n",
        "The `Pclass` column of the titanic dataset `df` shows the class of each passenger aboard, numbered 1 for first class, 2 for second class and 3 for third.\n",
        "\n",
        "Write a function that will\n",
        "* create a numpy array from the `Pclass` column\n",
        "* filters the array for only 1st class passengers and stores the result in a new variable\n",
        "* prints the number of first class passengers\n",
        "* repeats steps two and three for second and third class passengers\n",
        "\n",
        "Expected output:\n",
        "\n",
        "There were 216 first class passengers <br>\n",
        "There were 184 second class passengers <br>\n",
        "There were 491 third class passengers"
      ],
      "metadata": {
        "id": "NnMFVB6WKKJW"
      }
    },
    {
      "cell_type": "code",
      "source": [
        "import pandas as pd\n",
        "import numpy as np\n",
        "\n",
        "url = \"https://raw.githubusercontent.com/pandas-dev/pandas/master/doc/data/titanic.csv\"\n",
        "df = pd.read_csv(url)\n",
        "\n",
        "\n",
        "def get_class_counts():\n",
        "  # write your code below to calculate the number of passengers in each class\n",
        "\n",
        "  #get the colunm \"Pclass\" from the dataframe column\n",
        "  class_arr = df['Pclass'].to_numpy(np.int8)\n",
        "\n",
        "  #create a filter if pclass is equals 1 for first class\n",
        "  filter1 = class_arr == 1\n",
        "  first_class = class_arr[filter1]  #use the filter to select only the elements that are true\n",
        "  firstclass_passengers = len(first_class) #get total of first class passengers\n",
        "  print(\"There were \", firstclass_passengers,\"first class passengers \" )\n",
        "\n",
        "  #create a filter if pclass is equals 2 for second class\n",
        "  filter2 = class_arr == 2\n",
        "  second_class = class_arr[filter2] #use the filter to select only the elements that are true\n",
        "  secondclass_passengers = len(second_class) #get total of second class passengers\n",
        "  print(\"There were \", secondclass_passengers,\"second class passengers \" )\n",
        "\n",
        "  #create a filter if pclass is equals 3 for second class\n",
        "  filter3 = class_arr == 3\n",
        "  third_class = class_arr[filter3] #use the filter to select only the elements that are true\n",
        "  thirdclass_passengers = len(third_class) #get total of third class passengers\n",
        "  print(\"There were \", thirdclass_passengers,\"third class passengers \" )\n",
        "\n",
        "\n",
        "\n",
        "\n",
        "\n",
        "\n",
        "get_class_counts()"
      ],
      "metadata": {
        "id": "XUTfV3HiKPFo",
        "colab": {
          "base_uri": "https://localhost:8080/"
        },
        "outputId": "e8605d7b-b873-4618-b55f-2f526d966f42"
      },
      "execution_count": 19,
      "outputs": [
        {
          "output_type": "stream",
          "name": "stdout",
          "text": [
            "There were  216 first class passengers \n",
            "There were  184 second class passengers \n",
            "There were  491 third class passengers \n"
          ]
        }
      ]
    },
    {
      "cell_type": "markdown",
      "source": [
        "### Exercise 10 - Survivor Stats\n",
        "\n",
        "When we have arrays that represent different columns of the same dataset, we can create a boolean mask from one array and then apply it as a filter to a different array.\n",
        "\n",
        "Write a function that does the following:\n",
        "* creates separate numpy arrays of the `Pclass` and `Survived` columns of the titanic dataset\n",
        "* creates a boolean mask to filter those that died (value == 0) using the Survived array\n",
        "* apply the filter to the Pclass array, assigning it to a new variable\n",
        "* use filtering in the same way as the previous exercise to find out how many people in each class were aboard the titanic and how many survived\n",
        "* calculate the percentage of people in each class who survived. Do the results surpise you?\n",
        "\n",
        "As an extra challenge, if you have completed the worksheet on user-defined functions and are confident with re-using functions, change the `get_class_counts()` function to return a value and use this in your `get_survivor_class_stats()` function."
      ],
      "metadata": {
        "id": "jhrHl6KnGZUn"
      }
    },
    {
      "cell_type": "code",
      "source": [
        "import pandas as pd\n",
        "import numpy as np\n",
        "\n",
        "url = \"https://raw.githubusercontent.com/pandas-dev/pandas/master/doc/data/titanic.csv\"\n",
        "df = pd.read_csv(url)\n",
        "\n",
        "\n",
        "def get_survivor_class_stats():\n",
        "\n",
        "  # write your code below to calculate the percentage of survivors in each class\n",
        "  #get the colunm \"Pclass\" from the dataframe column\n",
        "  class_arr = df['Pclass'].to_numpy(np.int8)\n",
        "  survived_arr = df['Survived'].to_numpy(np.int16)\n",
        "  filter = survived_arr == 0\n",
        "  nonsurvivor_in_pclass = class_arr[filter] #use the filters to select only the elements that are true\n",
        "  nonsurvivor_in_pclass_count = len(nonsurvivor_in_pclass)\n",
        "  print(nonsurvivor_in_pclass_count)\n",
        "\n",
        "  #create a filter if pclass is equals 1 for first class\n",
        "  filter1 = class_arr == 1\n",
        "  first_class = class_arr[filter1]  #use the filter to select only the elements that are true\n",
        "  firstclass_passengers = len(first_class)\n",
        "  print(firstclass_passengers) #get total of first class passengers\n",
        "\n",
        "  #create a filter if pclass is equals 2 for second class\n",
        "  filter2 = class_arr == 2\n",
        "  second_class = class_arr[filter2] #use the filter to select only the elements that are true\n",
        "  secondclass_passengers = len(second_class) #get total of second class passengers\n",
        "  print(secondclass_passengers )\n",
        "\n",
        "  #create a filter if pclass is equals 3 for third class\n",
        "  filter3 = class_arr == 3\n",
        "  third_class = class_arr[filter3] #use the filter to select only the elements that are true\n",
        "  thirdclass_passengers = len(third_class) #get total of third class passengers\n",
        "  print(thirdclass_passengers)\n",
        "\n",
        "  #filter for those that survived and in first class\n",
        "  filter4 = (survived_arr > 0) & (class_arr == 1)\n",
        "  survivor_firstclass = survived_arr[filter4]\n",
        "  print(len(survivor_firstclass)) #number of survivor in firstclass\n",
        "  percentage_survivor_firstclass = ((len(survivor_firstclass)/firstclass_passengers)) * 100 #percentage of survival\n",
        "  print (f\"{firstclass_passengers}  was on first class and  {percentage_survivor_firstclass} % survived\" )\n",
        "\n",
        "  #filter for those that survived and in secondclass\n",
        "  filter5 = (survived_arr > 0) & (class_arr == 2)\n",
        "  survivor_secondclass = survived_arr[filter5]\n",
        "  print(len(survivor_secondclass)) #number of survivor in second class\n",
        "  percentage_survivor_secondclass = ((len(survivor_secondclass)/secondclass_passengers)) * 100 #percentage of survival\n",
        "  print (f\"{secondclass_passengers}  was on second class and  {percentage_survivor_secondclass} % survived\" )\n",
        "\n",
        "  #filter for those that survived and in third class\n",
        "  filter6 = (survived_arr > 0) & (class_arr == 3)\n",
        "  survivor_thirdclass = survived_arr[filter6]\n",
        "  print(len(survivor_thirdclass)) #number of survivor in third class\n",
        "  percentage_survivor_thirdclass = ((len(survivor_thirdclass)/thirdclass_passengers)) * 100 #percentage of survival\n",
        "  print (f\"{thirdclass_passengers}  was on third class and  {percentage_survivor_thirdclass} % survived\" )\n",
        "\n",
        "  #sur_firstclass_passenger = first_class[filter2]\n",
        "  #print(sur_firstclass_passenger)\n",
        "\n",
        "\n",
        "get_survivor_class_stats()"
      ],
      "metadata": {
        "id": "iDn6D61yGZEN",
        "colab": {
          "base_uri": "https://localhost:8080/"
        },
        "outputId": "218a1389-6255-4fb6-8b36-bd36dceafae6"
      },
      "execution_count": 11,
      "outputs": [
        {
          "output_type": "stream",
          "name": "stdout",
          "text": [
            "549\n",
            "216\n",
            "184\n",
            "491\n",
            "136\n",
            "216  was on first class and  62.96296296296296 % survived\n",
            "87\n",
            "184  was on second class and  47.28260869565217 % survived\n",
            "119\n",
            "491  was on third class and  24.236252545824847 % survived\n"
          ]
        }
      ]
    },
    {
      "cell_type": "markdown",
      "metadata": {
        "id": "yQyytEbnZ1lw"
      },
      "source": [
        "# Reflection\n",
        "----\n",
        "\n",
        "## What skills have you demonstrated in completing this notebook?"
      ]
    },
    {
      "cell_type": "markdown",
      "metadata": {
        "id": "MM00hR5aZk1-"
      },
      "source": [
        "Your answer: I demonstrated data manipulation skills by effectively using NumPy to create, filter, and transform arrays. Also the ability to extract relevant data subsets using logical conditions and array operations, such as applying element-wise arithmetic and filters like (survived_arr > 0) & (class_arr == 1) to analyze specific groups. Additionally, I efficiently handled tasks like sorting arrays, accessing specific slices (e.g., first and last 5 items), and most importantly the ability to create NumPy arrays from other data structures like lists or pandas columns."
      ]
    },
    {
      "cell_type": "markdown",
      "metadata": {
        "id": "Zgexd27sZ1ly"
      },
      "source": [
        "## What caused you the most difficulty?"
      ]
    },
    {
      "cell_type": "markdown",
      "metadata": {
        "id": "-Y_nrVBwaGXr"
      },
      "source": [
        "Exercise 10 was the most challenging for me because it involved filtering data using two conditions. It took longer to figure out the logic, and repeatedly writing similar code for different classes proved to be time-consuming. To improve efficiency, I realize it would be better to use a loop to iterate through the classes and calculate the survival rates. I plan to revisit and optimize this approach at a later time."
      ]
    }
  ]
}