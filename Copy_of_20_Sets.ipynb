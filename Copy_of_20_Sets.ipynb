{
  "cells": [
    {
      "cell_type": "markdown",
      "metadata": {
        "id": "view-in-github",
        "colab_type": "text"
      },
      "source": [
        "<a href=\"https://colab.research.google.com/github/Omolabak5/data-and-python/blob/main/Copy_of_20_Sets.ipynb\" target=\"_parent\"><img src=\"https://colab.research.google.com/assets/colab-badge.svg\" alt=\"Open In Colab\"/></a>"
      ]
    },
    {
      "cell_type": "markdown",
      "metadata": {
        "id": "Qo-Q6pcHz6RY"
      },
      "source": [
        "# Sets\n",
        "\n",
        "Make sure you have watched the presentation on sets here before beginning this worksheet.\n"
      ]
    },
    {
      "cell_type": "markdown",
      "metadata": {
        "id": "NADCANdHRH4-"
      },
      "source": [
        "\n",
        "---\n",
        "\n",
        "### Exercise 1\n",
        "\n",
        "As you learned in the presentation, testing membership of a set is much faster than of a list.\n",
        "\n",
        "To demonstrate this, we can use a function that times how long a membership check takes for a range of list and set lengths, as well as the position of the object within each data structure.\n",
        "\n",
        "The first function:\n",
        "\n",
        "* Uses the `datetime.now()` function to determine the time immediately prior to the membership check and stores it in a variable\n",
        "*   Performs a membership check of `num_to_find` in the `test_data`\n",
        "*   Uses `datetime.now()` again to determine the exact time after the membership check\n",
        "*   Computes the difference between the start and end time\n",
        "*   Prints a message stating the number found and the elapsed time in microseconds.\n",
        "\n",
        "\n",
        "The second function:\n",
        "*   Creates a list and set of the numbers 1 to the specified `range_end` value, inclusive, and stores them in a tuple with the data type name as a string.\n",
        "* Prints a message detailing the range of values and the number being checked for.\n",
        "* For each test range, extracts the data and data type from the tuple and calls the `time_check_membership()` function for the first, last and middle values in the range.\n",
        "\n",
        "\n",
        "TASKS:\n",
        "\n",
        "Call the `compare_membership_check_times` function for each of the following values, e.g. `compare_membership_check_times(100)`, to compare how the membership checks compare across different length sets and lists:\n",
        "* 100\n",
        "* 1000\n",
        "* 10000\n",
        "* 100000\n",
        "* 1000000\n",
        "* 10000000\n",
        "\n",
        "What to you notice about the results?"
      ]
    },
    {
      "cell_type": "code",
      "execution_count": null,
      "metadata": {
        "colab": {
          "base_uri": "https://localhost:8080/"
        },
        "id": "Q3gklyAEHW0Q",
        "outputId": "503de0d2-b605-4eaf-c5ab-e42433051bc6"
      },
      "outputs": [
        {
          "name": "stdout",
          "output_type": "stream",
          "text": [
            "--------------------------------------------------------------------------------\n",
            "Numbers 1 to 100\n",
            "--------------------------------------------------------------------------------\n",
            "List: \n",
            "\tTime taken to find 1: 5 microseconds\n",
            "\tTime taken to find 50: 4 microseconds\n",
            "\tTime taken to find 100: 6 microseconds\n",
            "Set: \n",
            "\tTime taken to find 1: 3 microseconds\n",
            "\tTime taken to find 50: 3 microseconds\n",
            "\tTime taken to find 100: 2 microseconds\n",
            "\n",
            "--------------------------------------------------------------------------------\n",
            "Numbers 1 to 1000\n",
            "--------------------------------------------------------------------------------\n",
            "List: \n",
            "\tTime taken to find 1: 4 microseconds\n",
            "\tTime taken to find 500: 17 microseconds\n",
            "\tTime taken to find 1000: 23 microseconds\n",
            "Set: \n",
            "\tTime taken to find 1: 3 microseconds\n",
            "\tTime taken to find 500: 2 microseconds\n",
            "\tTime taken to find 1000: 5 microseconds\n",
            "\n",
            "--------------------------------------------------------------------------------\n",
            "Numbers 1 to 10000\n",
            "--------------------------------------------------------------------------------\n",
            "List: \n",
            "\tTime taken to find 1: 4 microseconds\n",
            "\tTime taken to find 5000: 106 microseconds\n",
            "\tTime taken to find 10000: 234 microseconds\n",
            "Set: \n",
            "\tTime taken to find 1: 5 microseconds\n",
            "\tTime taken to find 5000: 2 microseconds\n",
            "\tTime taken to find 10000: 3 microseconds\n",
            "\n",
            "--------------------------------------------------------------------------------\n",
            "Numbers 1 to 100000\n",
            "--------------------------------------------------------------------------------\n",
            "List: \n",
            "\tTime taken to find 1: 6 microseconds\n",
            "\tTime taken to find 50000: 6844 microseconds\n",
            "\tTime taken to find 100000: 2275 microseconds\n",
            "Set: \n",
            "\tTime taken to find 1: 4 microseconds\n",
            "\tTime taken to find 50000: 3 microseconds\n",
            "\tTime taken to find 100000: 2 microseconds\n",
            "\n",
            "--------------------------------------------------------------------------------\n",
            "Numbers 1 to 1000000\n",
            "--------------------------------------------------------------------------------\n",
            "List: \n",
            "\tTime taken to find 1: 5 microseconds\n",
            "\tTime taken to find 500000: 16195 microseconds\n",
            "\tTime taken to find 1000000: 40697 microseconds\n",
            "Set: \n",
            "\tTime taken to find 1: 4 microseconds\n",
            "\tTime taken to find 500000: 2 microseconds\n",
            "\tTime taken to find 1000000: 2 microseconds\n",
            "\n",
            "--------------------------------------------------------------------------------\n",
            "Numbers 1 to 10000000\n",
            "--------------------------------------------------------------------------------\n",
            "List: \n",
            "\tTime taken to find 1: 6 microseconds\n",
            "\tTime taken to find 5000000: 262600 microseconds\n",
            "\tTime taken to find 10000000: 606228 microseconds\n",
            "Set: \n",
            "\tTime taken to find 1: 6 microseconds\n",
            "\tTime taken to find 5000000: 2 microseconds\n",
            "\tTime taken to find 10000000: 2 microseconds\n",
            "\n"
          ]
        }
      ],
      "source": [
        "from datetime import datetime\n",
        "\n",
        "def time_check_membership(test_data, num_to_find):\n",
        "\n",
        "  # time membership check\n",
        "  start = datetime.now()\n",
        "  num_to_find in test_data\n",
        "  end = datetime.now()\n",
        "\n",
        "  # calculate time elapsed and print message\n",
        "  duration = end - start\n",
        "  print(f\"\\tTime taken to find {num_to_find}: {duration.microseconds} microseconds\")\n",
        "\n",
        "\n",
        "def compare_membership_check_times(range_end):\n",
        "\n",
        "  # create test data and package in a tuple with the data type name\n",
        "  test_1 = ([i for i in range(1, range_end+1)], \"List\")\n",
        "  test_2 = ({i for i in range(1, range_end+1)}, \"Set\")\n",
        "\n",
        "  print(\"-\" * 80)\n",
        "  print(f\"Numbers 1 to {range_end}\")\n",
        "  print(\"-\" * 80)\n",
        "\n",
        "  # time the membership check for first last and middle numbers in each range\n",
        "  for test in [test_1, test_2]:\n",
        "    data = test[0]\n",
        "    data_type = test[1]\n",
        "    print(f\"{data_type}: \")\n",
        "    for num in [1, range_end//2, range_end]:\n",
        "      time_check_membership(data, num)\n",
        "\n",
        "  print()\n",
        "\n",
        "\n",
        "# ADD YOUR FUNCTION CALLS HERE:\n",
        "\n",
        "compare_membership_check_times(100)\n",
        "compare_membership_check_times(1000)\n",
        "compare_membership_check_times(10000)\n",
        "compare_membership_check_times(100000)\n",
        "compare_membership_check_times(1000000)\n",
        "compare_membership_check_times(10000000)"
      ]
    },
    {
      "cell_type": "markdown",
      "metadata": {
        "id": "LZRgmkeZXx6c"
      },
      "source": [
        "### Exercise 2\n",
        "\n",
        "Because elements in a set are distinct, converting a list into a set is a quick and easy way to find out it contains any duplicate data and retrieve only the unique values.\n",
        "\n",
        "We can determine the number of duplicates in a list by converting to a set and then comparing the length of both.\n",
        "\n",
        "**NOTE** : np.random.seed(42) fixes the way the random numbers are generated so that you are guaranteed to get the same random numbers each time you run the cell. It also means anyone else who runs the same code with the same value for the seed will get the same output.\n",
        "\n",
        "<br>\n",
        "\n",
        "**Task:**\n",
        "* Write **two** functions that take a list of numbers as the only parameter and print the number of duplicates found. Function:\n",
        "    1. Should use only list methods\n",
        "    2. Should use set conversion\n",
        "<br>\n",
        "\n",
        "* Print the first 20 items in `random_numbers` list\n",
        "* Call your first function with the `random_numbers` list\n",
        "* Call your second function with the `random_numbers` list\n",
        "\n",
        "<br>\n",
        "\n",
        "**Expected output:**\n",
        "\n",
        "[52, 93, 15, 72, 61, 21, 83, 87, 75, 75, 88, 100, 24, 3, 22, 53, 2, 88, 30, 38]\n",
        "<br>\n",
        "39<br>\n",
        "39"
      ]
    },
    {
      "cell_type": "code",
      "execution_count": null,
      "metadata": {
        "colab": {
          "base_uri": "https://localhost:8080/"
        },
        "id": "OOmJ0m-UX2Qa",
        "outputId": "ba582e68-b520-4f88-dffb-83d9bd1fb59c"
      },
      "outputs": [
        {
          "output_type": "stream",
          "name": "stdout",
          "text": [
            "[52, 93, 15, 72, 61, 21, 83, 87, 75, 75, 88, 100, 24, 3, 22, 53, 2, 88, 30, 38]\n",
            "39\n",
            "39\n"
          ]
        }
      ],
      "source": [
        "from numpy import random\n",
        "\n",
        "# Set the random seed so results match expected output\n",
        "random.seed(42)\n",
        "\n",
        "# Use this list when you call your functions\n",
        "random_numbers = list(random.randint(1, 101, 100))\n",
        "\n",
        "# add your code here:\n",
        "\n",
        "#function to count duplicate using list\n",
        "def count_duplicates_list(numbers):\n",
        "  unique_numbers = []\n",
        "  duplicates_count = 0\n",
        "  for num in numbers:\n",
        "        if num in unique_numbers:\n",
        "            duplicates_count += 1\n",
        "        else:\n",
        "            unique_numbers.append(num)\n",
        "  print(duplicates_count)\n",
        "\n",
        "#function to count duplicate using set\n",
        "def count_duplicates_set(numbers):\n",
        "  unique_numbers = set(numbers)\n",
        "  duplicates_counts = len(numbers) - len(unique_numbers)\n",
        "  print(duplicates_counts)\n",
        "\n",
        "#call both funtions with the random number counts\n",
        "print(random_numbers[:20])\n",
        "count_duplicates_list(random_numbers)\n",
        "count_duplicates_set(random_numbers)\n",
        "\n",
        "\n",
        "\n"
      ]
    },
    {
      "cell_type": "markdown",
      "metadata": {
        "id": "XCZW9hIYw9e7"
      },
      "source": [
        "## Using Set Methods\n",
        "\n",
        "The most common use of sets is to see where different groups of data overlap.\n",
        "\n",
        "Working with sets is similar to the way social media sites like Facebook model relationships and interactions between people and pages.\n",
        "\n",
        "Run the code in the cell below create the sets you'll be working with.\n",
        "\n",
        "\n"
      ]
    },
    {
      "cell_type": "code",
      "execution_count": null,
      "metadata": {
        "id": "HTe3eCpPmNIw"
      },
      "outputs": [],
      "source": [
        "# Run this code block to create the sets you'll use in the following exercises\n",
        "\n",
        "# set of all friends\n",
        "all_friends = {\n",
        "    'Alice', 'Bob', 'Charlie', 'Diana', 'Ethan', 'Fiona', 'George', 'Hannah',\n",
        "    'Ivy', 'Jack', 'Kevin', 'Liam', 'Mia', 'Noah', 'Olivia', 'Patrick', 'Quinn',\n",
        "    'Rachel', 'Sam', 'Tina', 'Ulysses', 'Victoria', 'Willow', 'Xander', 'Yara',\n",
        "    'Zach', 'Bryan', 'Cara', 'Derek' }\n",
        "\n",
        "# Friends who like hiking\n",
        "hiking_friends = {\n",
        "    'Alice', 'Bob', 'Charlie', 'Diana', 'Ethan', 'Fiona', 'George', 'Hannah',\n",
        "    'Ivy', 'Jack', 'Kevin', 'Liam', 'Mia', 'Noah', 'Olivia', 'Patrick',\n",
        "    'Quinn', 'Rachel', 'Sam', 'Tina', 'Ulysses'\n",
        "}\n",
        "\n",
        "# Friends who enjoy painting\n",
        "painting_friends = {\n",
        "    'Charlie', 'Fiona', 'George', 'Hannah', 'Bob', 'Alice', 'Mia', 'Noah',\n",
        "    'Olivia', 'Patrick', 'Quinn', 'Rachel', 'Sam', 'Tina', 'Ulysses', 'Victoria',\n",
        "    'Willow', 'Xander', 'Yara', 'Zach'\n",
        "}\n",
        "\n",
        "# Friends who are into cooking\n",
        "cooking_friends = {\n",
        "    'Ivy', 'Jack', 'Alice', 'Kevin', 'George', 'Charlie', 'Fiona', 'Noah',\n",
        "    'Olivia', 'Patrick', 'Rachel', 'Sam', 'Tina', 'Ulysses', 'Victoria',\n",
        "    'Willow', 'Xander', 'Yara', 'Zach', 'Diana', 'Ethan'\n",
        "}"
      ]
    },
    {
      "cell_type": "markdown",
      "metadata": {
        "id": "cAPsue6Bmr8K"
      },
      "source": [
        "### Exercise 3\n",
        "\n",
        "Write a function that uses these sets and the sets methods you know to find out and print the following:\n",
        "* Friends who like to hike and paint\n",
        "* Friends who hike but don't cook\n",
        "* Friends who like cooking and painting\n",
        "* Friends who either hike or paint but not both\n",
        "\n",
        "Expected Output:\n",
        "\n",
        "{'Olivia', 'Mia', 'Alice', 'Bob', 'Hannah', 'Tina', 'George', 'Quinn', 'Fiona', 'Patrick', 'Ulysses', 'Sam', 'Charlie', 'Rachel', 'Noah'} <br>\n",
        "{'Mia', 'Bob', 'Hannah', 'Liam', 'Quinn'} <br>\n",
        "{'Xander', 'Alice', 'Mia', 'Hannah', 'Ethan', 'Ivy', 'Ulysses', 'Olivia', 'Bob', 'Jack', 'Charlie', 'Noah', 'Diana', 'George', 'Quinn', 'Sam', 'Rachel', 'Willow', 'Yara', 'Victoria', 'Tina', 'Kevin', 'Fiona', 'Patrick', 'Zach'} <br>\n",
        "{'Xander', 'Ethan', 'Liam', 'Ivy', 'Willow', 'Yara', 'Victoria', 'Kevin', 'Jack', 'Diana', 'Zach'}\n"
      ]
    },
    {
      "cell_type": "code",
      "execution_count": null,
      "metadata": {
        "id": "KM7t9wXS-aTs",
        "colab": {
          "base_uri": "https://localhost:8080/"
        },
        "outputId": "18111ab7-71de-4b6e-cf4c-429a26a113b6"
      },
      "outputs": [
        {
          "output_type": "stream",
          "name": "stdout",
          "text": [
            "{'Patrick', 'Bob', 'Fiona', 'Olivia', 'Alice', 'Mia', 'Tina', 'Ulysses', 'Noah', 'Charlie', 'George', 'Rachel', 'Hannah', 'Quinn', 'Sam'}\n",
            "{'Bob', 'Liam', 'Hannah', 'Quinn', 'Mia'}\n",
            "{'Patrick', 'Fiona', 'Alice', 'Jack', 'Ulysses', 'Kevin', 'George', 'Willow', 'Quinn', 'Sam', 'Mia', 'Xander', 'Charlie', 'Zach', 'Rachel', 'Hannah', 'Ethan', 'Diana', 'Yara', 'Noah', 'Victoria', 'Bob', 'Olivia', 'Tina', 'Ivy'}\n",
            "{'Ethan', 'Diana', 'Yara', 'Jack', 'Kevin', 'Willow', 'Victoria', 'Liam', 'Xander', 'Zach', 'Ivy'}\n"
          ]
        }
      ],
      "source": [
        "# Write your function here\n",
        "\n",
        "def friends_and_hobbies(set_two,set_three,set_four):\n",
        "  hike_and_paint = set_two.intersection(set_three)\n",
        "  hike_not_cooking = set_two.difference(set_four)\n",
        "  cooking_and_painting = set_four.union(set_three)\n",
        "  either_hike_or_paint = set_two.symmetric_difference(set_three)\n",
        "\n",
        "#print the result\n",
        "  print(hike_and_paint)\n",
        "  print(hike_not_cooking)\n",
        "  print(cooking_and_painting)\n",
        "  print(either_hike_or_paint)\n",
        "\n",
        "#call the function\n",
        "friends_and_hobbies(hiking_friends,painting_friends,cooking_friends)\n",
        "\n",
        "\n",
        "\n",
        "\n"
      ]
    },
    {
      "cell_type": "markdown",
      "metadata": {
        "id": "-jLXGpvk9lmJ"
      },
      "source": [
        "### Exercise 4\n",
        "\n",
        "Write a function that uses set methods to find out which members of `all_friends` do not have any hobbies.\n",
        "\n",
        "Expected Output:\n",
        "\n",
        "{'Derek', 'Bryan', 'Cara'}"
      ]
    },
    {
      "cell_type": "code",
      "execution_count": null,
      "metadata": {
        "id": "l0H7yH3c9mTW",
        "colab": {
          "base_uri": "https://localhost:8080/"
        },
        "outputId": "233d8d14-e31c-49ce-894b-d35d53a02967"
      },
      "outputs": [
        {
          "output_type": "stream",
          "name": "stdout",
          "text": [
            "{'Cara', 'Derek', 'Bryan'}\n"
          ]
        }
      ],
      "source": [
        "# Write your function here\n",
        "def friends_no_hobbies(set_one,set_two,set_three,set_four):\n",
        "  no_hobbies = set_one.difference(set_two,set_three,set_four)\n",
        "\n",
        "  #print result\n",
        "  print(no_hobbies)\n",
        "\n",
        "#call the function with provided sets\n",
        "friends_no_hobbies(all_friends,hiking_friends,painting_friends,cooking_friends)\n",
        "\n"
      ]
    },
    {
      "cell_type": "markdown",
      "metadata": {
        "id": "-M8eWYdjvu9p"
      },
      "source": [
        "### Exercise 5\n",
        "\n",
        "Write a function to find out which friends have at least two hobbies.\n",
        "\n",
        "Expected Output:\n",
        "\n",
        "{'Mia', 'Alice', 'Xander', 'Hannah', 'George', 'Ethan', 'Quinn', 'Ivy', 'Ulysses', 'Sam', 'Rachel', 'Willow', 'Yara', 'Olivia', 'Bob', 'Victoria', 'Tina', 'Kevin', 'Jack', 'Fiona', 'Patrick', 'Charlie', 'Noah', 'Diana', 'Zach'}"
      ]
    },
    {
      "cell_type": "code",
      "execution_count": null,
      "metadata": {
        "id": "0jy3HCIHvb0H",
        "colab": {
          "base_uri": "https://localhost:8080/"
        },
        "outputId": "0dccff97-e2a9-4a41-f96a-daa99ecbaaee"
      },
      "outputs": [
        {
          "output_type": "stream",
          "name": "stdout",
          "text": [
            "{'Patrick', 'Ethan', 'Diana', 'Fiona', 'Yara', 'Alice', 'Jack', 'Ulysses', 'Noah', 'Kevin', 'George', 'Willow', 'Quinn', 'Mia', 'Sam', 'Victoria', 'Bob', 'Olivia', 'Tina', 'Xander', 'Charlie', 'Zach', 'Rachel', 'Hannah', 'Ivy'}\n"
          ]
        }
      ],
      "source": [
        "# Write your function here\n",
        "def friends_two_hobbies(set_two,set_three,set_four):\n",
        "  two_hobbies =  ((set_two & set_three) | (set_two & set_four) | (set_three & set_four))\n",
        "\n",
        "  #print result\n",
        "  print(two_hobbies)\n",
        "\n",
        "#call the function with provided set\n",
        "friends_two_hobbies(hiking_friends,painting_friends,cooking_friends)\n",
        "\n",
        "\n"
      ]
    },
    {
      "cell_type": "markdown",
      "metadata": {
        "id": "3CsLuCeWyTxR"
      },
      "source": [
        "### Exercise 6\n",
        "\n",
        "Write a function to find out which friends partake in exactly one of the hobbies.\n",
        "\n",
        "Expected Output:\n",
        "\n",
        "{'Mia', 'Xander', 'Hannah', 'Ethan', 'Liam', 'Quinn', 'Ivy', 'Willow', 'Yara', 'Bob', 'Victoria', 'Kevin', 'Jack', 'Diana', 'Zach'}"
      ]
    },
    {
      "cell_type": "code",
      "execution_count": null,
      "metadata": {
        "id": "dIrXx2ocyTWV",
        "colab": {
          "base_uri": "https://localhost:8080/"
        },
        "outputId": "b8e17c66-12b7-4302-81d1-cb42ba661b7c"
      },
      "outputs": [
        {
          "output_type": "stream",
          "name": "stdout",
          "text": [
            "{'Ethan', 'Diana', 'Yara', 'Jack', 'Kevin', 'Willow', 'Quinn', 'Mia', 'Victoria', 'Bob', 'Liam', 'Xander', 'Zach', 'Hannah', 'Ivy'}\n"
          ]
        }
      ],
      "source": [
        "# Write your function here\n",
        "def friends_one_hobby(set_two,set_three,set_four):\n",
        "  one_hobby =  ((set_two ^ set_three) | (set_two ^ set_four) | (set_three ^ set_four))\n",
        "  print(one_hobby)\n",
        "\n",
        "#call the function with provided set\n",
        "friends_one_hobby(hiking_friends,painting_friends,cooking_friends)\n",
        "\n",
        "\n"
      ]
    },
    {
      "cell_type": "markdown",
      "metadata": {
        "id": "Ci_HX6_iTmEz"
      },
      "source": [
        "## Exam Data\n",
        "\n",
        "---\n",
        "### Exercise 7\n",
        "\n",
        "The exam dataset (url below) contains one row for each student, with demographic information on each, as well as their scores in maths, reading and writing.\n",
        "\n",
        "\"https://raw.githubusercontent.com/lilaceri/Working-with-data-/main/Data%20Sets%20for%20code%20divisio/exams.csv\"\n",
        "\n",
        "We are going to evaluate the data using sets. First, we need to import the data using pandas and store it in a variable called `exam_data`\n",
        "\n",
        "Next, write a function that will:\n",
        "* display the head of `exam_data`\n",
        "* display the info\n",
        "* display a summary of the non-numeric data (Hint: add the argument include='object' to show only the non-numeric data)\n",
        "\n",
        "Finally, call the function to display the summary."
      ]
    },
    {
      "cell_type": "code",
      "execution_count": null,
      "metadata": {
        "id": "fvpRGvnrKWLz",
        "colab": {
          "base_uri": "https://localhost:8080/"
        },
        "outputId": "061cab79-32e0-427e-cdd0-ca096904b476"
      },
      "outputs": [
        {
          "output_type": "stream",
          "name": "stdout",
          "text": [
            "Head of the dataset:\n",
            "   gender ethnicity parental_education         lunch preparation_course  \\\n",
            "0  female   group E       some college  free/reduced               none   \n",
            "1    male   group C       some college      standard          completed   \n",
            "2  female   group B   some high school  free/reduced          completed   \n",
            "3    male   group D   some high school      standard          completed   \n",
            "4  female   group C        high school  free/reduced          completed   \n",
            "\n",
            "   math_score  reading_score  writing_score  \n",
            "0          65             76             71  \n",
            "1          75             72             69  \n",
            "2          62             56             61  \n",
            "3          60             60             59  \n",
            "4          34             54             55  \n",
            "Dataset Info:\n",
            "<class 'pandas.core.frame.DataFrame'>\n",
            "RangeIndex: 1000 entries, 0 to 999\n",
            "Data columns (total 8 columns):\n",
            " #   Column              Non-Null Count  Dtype \n",
            "---  ------              --------------  ----- \n",
            " 0   gender              1000 non-null   object\n",
            " 1   ethnicity           1000 non-null   object\n",
            " 2   parental_education  1000 non-null   object\n",
            " 3   lunch               1000 non-null   object\n",
            " 4   preparation_course  1000 non-null   object\n",
            " 5   math_score          1000 non-null   int64 \n",
            " 6   reading_score       1000 non-null   int64 \n",
            " 7   writing_score       1000 non-null   int64 \n",
            "dtypes: int64(3), object(5)\n",
            "memory usage: 62.6+ KB\n",
            "None\n",
            "Summary of non-numeric data:\n",
            "       gender ethnicity parental_education     lunch preparation_course\n",
            "count    1000      1000               1000      1000               1000\n",
            "unique      2         5                  6         2                  2\n",
            "top      male   group C       some college  standard               none\n",
            "freq      504       313                244       647                638\n"
          ]
        }
      ],
      "source": [
        "import pandas as pd\n",
        "\n",
        "# enter your code to import the data here:\n",
        "url = \"https://raw.githubusercontent.com/lilaceri/Working-with-data-/main/Data%20Sets%20for%20code%20divisio/exams.csv\"\n",
        "exam_data = pd.read_csv(url)\n",
        "\n",
        "\n",
        "# add your function code here:\n",
        "\n",
        "def explore_exam_data(data):\n",
        "    # Display the first few rows of the dataset\n",
        "    print(\"Head of the dataset:\")\n",
        "    print(data.head())\n",
        "\n",
        "    # Display dataset information\n",
        "    print(\"Dataset Info:\")\n",
        "    print(data.info())\n",
        "\n",
        "    # Display a summary of non-numeric data\n",
        "    print(\"Summary of non-numeric data:\")\n",
        "    print(data.describe(include='object'))\n",
        "\n",
        "# Call the function with the exam_data dataset\n",
        "explore_exam_data(exam_data)\n",
        "\n",
        "\n"
      ]
    },
    {
      "cell_type": "markdown",
      "metadata": {
        "id": "Tb4c_KqxVEPr"
      },
      "source": [
        "### Exercise 8\n",
        "\n",
        "The last item you displayed in the exercise above shows how many unique values there are for each of the non-numeric columns in the exam dataset, as well as which one is the most frequently occuring (the mode).\n",
        "\n",
        "Write a function that uses set creation to print the unique values in each of the object datatype columns.\n",
        "\n",
        "Call the function to view the values.\n",
        "\n",
        "Hint: You can use `exam_data.select_dtypes(include='object')` to create a Dataframe of only the object columns. You can then access the column names using the `columns` attribute.\n",
        "\n",
        "Expected output:\n",
        "\n",
        "```\n",
        "{'female', 'male'}\n",
        "{'group C', 'group A', 'group B', 'group E', 'group D'}\n",
        "{\"associate's degree\", 'some high school', \"master's degree\", 'some college', \"bachelor's degree\", 'high school'}\n",
        "{'standard', 'free/reduced'}\n",
        "{'completed', 'none'}\n",
        "```"
      ]
    },
    {
      "cell_type": "code",
      "execution_count": null,
      "metadata": {
        "id": "VBhfSo0OVFRw",
        "colab": {
          "base_uri": "https://localhost:8080/"
        },
        "outputId": "1cd391da-486a-41fe-86b4-7a0164805509"
      },
      "outputs": [
        {
          "output_type": "stream",
          "name": "stdout",
          "text": [
            "Unique values in 'gender': {'male', 'female'}\n",
            "Unique values in 'ethnicity': {'group B', 'group A', 'group E', 'group D', 'group C'}\n",
            "Unique values in 'parental_education': {'some high school', \"associate's degree\", \"bachelor's degree\", 'some college', \"master's degree\", 'high school'}\n",
            "Unique values in 'lunch': {'free/reduced', 'standard'}\n",
            "Unique values in 'preparation_course': {'completed', 'none'}\n"
          ]
        }
      ],
      "source": [
        "# Write your function here\n",
        "\n",
        "\n",
        "def unique_values_in_columns(data):\n",
        "\n",
        "    # Filter only object (non-numeric) columns\n",
        "    object_columns = data.select_dtypes(include='object')\n",
        "\n",
        "    # Iterate through each object column and print its unique values\n",
        "    for column in object_columns:\n",
        "        unique_values = set(object_columns[column])  # Convert unique values to a set\n",
        "        print(f\"Unique values in '{column}': {unique_values}\")\n",
        "\n",
        "# Call the function with the exam_data dataset\n",
        "unique_values_in_columns(exam_data)\n",
        "\n",
        "\n",
        "\n"
      ]
    },
    {
      "cell_type": "markdown",
      "metadata": {
        "id": "tjuuNFz4Xngo"
      },
      "source": [
        "### Exercise 9\n",
        "\n",
        "You will learn more about filtering a pandas Dataframe in the next worksheet.\n",
        "\n",
        "The function started for you below uses filtering to create three dataframes:\n",
        "1. One of students whose parents have earned some type of degree\n",
        "2. One of students who receive free or reduced lunches.\n",
        "3. One of students who completed the preparation course\n",
        "\n",
        "Complete the function to extract the index values of from the three dataframes and convert them into a set.\n",
        "\n",
        "Call the function and assign the result to three variables different variables, named as you feel appropriate.\n",
        "\n",
        "Hint: You can retrieve the index values using a dataframes `index` attribute, e.g `df.index`"
      ]
    },
    {
      "cell_type": "code",
      "execution_count": null,
      "metadata": {
        "id": "-z-hoThAXoGB"
      },
      "outputs": [],
      "source": [
        "def create_exam_sets():\n",
        "  # create set of fields from parental education col that include the word degree\n",
        "  parental_education_fields = set(exam_data['parental_education'])\n",
        "  degree_fields = {i for i in parental_education_fields if 'degree' in i}\n",
        "\n",
        "  # filter dataframe for students in required categories\n",
        "  degree_df = exam_data[exam_data['parental_education'].isin(degree_fields)]\n",
        "  meals_df = exam_data[exam_data['lunch'] == 'free/reduced']\n",
        "  course_df = exam_data[exam_data['preparation_course'] == 'completed']\n",
        "\n",
        "  # add your code here to create the required sets:\n",
        "  degree_df_set = set(degree_df.index)\n",
        "  meals_df_set = set(meals_df.index)\n",
        "  course_df_set = set(course_df.index)\n",
        "\n",
        "\n",
        "  # Return the sets\n",
        "  return degree_df_set, meals_df_set, course_df_set\n",
        "\n",
        "\n",
        "# Call your function here\n",
        "degree_set, meals_set, course_set = create_exam_sets()\n",
        "\n"
      ]
    },
    {
      "cell_type": "markdown",
      "metadata": {
        "id": "okkHxMH_a08A"
      },
      "source": [
        "### Exercise 10\n",
        "\n",
        "Using the sets created above, write a function to find the number of students:\n",
        "* Whose parents have a degree **and** also recieve free meals\n",
        "* Who either completed the preparation course **or** whose parents have a degree but **not both**\n",
        "* Whose parents have a degree **and** who completed the preparation course but **don't** receive free meals.\n",
        "* Who don't have parents with a degree, nor receive free meals, nor completed the preparation course (Hint: You'll need to make a set of all the index values in the `exam_data` dataframe)\n",
        "\n",
        "Expected Output:\n",
        "\n",
        "135 <br>\n",
        "472 <br>\n",
        "90 <br>\n",
        "259\n",
        "\n"
      ]
    },
    {
      "cell_type": "code",
      "execution_count": null,
      "metadata": {
        "id": "B-szl1aZdtBB",
        "colab": {
          "base_uri": "https://localhost:8080/"
        },
        "outputId": "78bef650-193e-4e02-b22e-26cadbc97c0c"
      },
      "outputs": [
        {
          "output_type": "stream",
          "name": "stdout",
          "text": [
            "135\n",
            "472\n",
            "90\n",
            "259\n"
          ]
        }
      ],
      "source": [
        "# Write your function here\n",
        "def find_students(degree_set, meals_set, course_set, total_students):\n",
        "    #Students whose parents have a degree and also receive free meals\n",
        "    degree_and_meals = degree_set & meals_set\n",
        "\n",
        "    #Students who either completed the preparation course or whose parents have a degree but not both\n",
        "    degree_or_course_but_not_both = (degree_set ^ course_set)\n",
        "\n",
        "    #Students whose parents have a degree and who completed the preparation course but don't receive free meals\n",
        "    degree_and_course_no_meals = (degree_set & course_set) - meals_set\n",
        "\n",
        "    #Students who don't have parents with a degree, nor receive free meals, nor completed the preparation course\n",
        "    all_students_set = set(range(total_students))\n",
        "    neither_degree_meals_nor_course = all_students_set - (degree_set | meals_set | course_set)\n",
        "\n",
        "    # Print the results\n",
        "    print(len(degree_and_meals))\n",
        "    print(len(degree_or_course_but_not_both))\n",
        "    print(len(degree_and_course_no_meals))\n",
        "    print(len(neither_degree_meals_nor_course))\n",
        "\n",
        "\n",
        "# Call the function\n",
        "find_students(degree_set, meals_set, course_set, len(exam_data))\n",
        "\n",
        "\n",
        "\n"
      ]
    }
  ],
  "metadata": {
    "colab": {
      "provenance": [],
      "include_colab_link": true
    },
    "kernelspec": {
      "display_name": "Python 3",
      "name": "python3"
    },
    "language_info": {
      "name": "python"
    }
  },
  "nbformat": 4,
  "nbformat_minor": 0
}