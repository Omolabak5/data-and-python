{
  "nbformat": 4,
  "nbformat_minor": 0,
  "metadata": {
    "colab": {
      "provenance": [],
      "include_colab_link": true
    },
    "kernelspec": {
      "name": "python3",
      "display_name": "Python 3"
    },
    "language_info": {
      "name": "python"
    }
  },
  "cells": [
    {
      "cell_type": "markdown",
      "metadata": {
        "id": "view-in-github",
        "colab_type": "text"
      },
      "source": [
        "<a href=\"https://colab.research.google.com/github/Omolabak5/data-and-python/blob/main/Copy_of_15_Lists_Dictionaries_Challenges.ipynb\" target=\"_parent\"><img src=\"https://colab.research.google.com/assets/colab-badge.svg\" alt=\"Open In Colab\"/></a>"
      ]
    },
    {
      "cell_type": "markdown",
      "metadata": {
        "id": "nEJLJX3J9B2k"
      },
      "source": [
        "# Some challenges to help you become more confident with using Lists, Tuples and Dictionaries\n",
        "\n",
        "---\n",
        "\n"
      ]
    },
    {
      "cell_type": "markdown",
      "metadata": {
        "id": "JvV6htgh9Nc1"
      },
      "source": [
        "### Exercise 1 - extending a list\n",
        "\n",
        "There are three ways to extend a list in Python:  \n",
        "*  use `list_name.append(item)`, `list_name.insert(item)`\n",
        "*  concatenate two lists using the + operator (e.g. new_list = list1 + list2)\n",
        "*  use `list1_name.extend(list2_name)`\n",
        "\n",
        "The last method allows us to add all the `list2` items onto `list1` and for the new, extended list to now be `list1`.  `list2` will always be added to the end of `list1`.  \n",
        "\n",
        "If the objective is to add list2 before list1 then use `list2.extend(list1)`\n",
        "\n",
        "Write a function which will:  \n",
        "*  create a list of **years** containing the years 1960, 1970, 1980, 1990, 2000  \n",
        "*  print the list of years  \n",
        "*  calculate how long ago each year was and print the year and how long ago it was (e.g. 1990 was 34 years ago)  *(Hint:  use the datetime library to get the current year)*   \n",
        "*  create a second list, **years2** containing the years 2010 and 2020, extend `years` to include these later years\n",
        "*  create a third list, **years3** containing the years 1930, 1940 and 1950 and extend the` years3` list to include all the years between 1930 and 2020\n",
        "*  print the final list\n",
        "\n",
        "Expected output:  \n",
        "[1960, 1970, 1980, 1990, 2000]  \n",
        "1960 was 64 years ago  \n",
        "1970 was 54 years ago  \n",
        "1980 was 44 years ago  \n",
        "1990 was 34 years ago  \n",
        "2000 was 24 years ago <br>\n",
        "[1930, 1940, 1950, 1960, 1970, 1980, 1990, 2000, 2010, 2020]"
      ]
    },
    {
      "cell_type": "code",
      "metadata": {
        "id": "QAyTVqoO8-08",
        "colab": {
          "base_uri": "https://localhost:8080/"
        },
        "outputId": "601ad855-7781-46ce-a92b-a11189129e75"
      },
      "source": [
        "from datetime import datetime\n",
        "\n",
        "def years_list():\n",
        "  #create the first list and print it\n",
        "  years = [1960, 1970, 1980, 1990, 2000]\n",
        "  print(years)\n",
        "\n",
        "  #to get the current year after importing datetime,\n",
        "  now = datetime.now()\n",
        "  current_year = now.year\n",
        "\n",
        "  #using the for logic , we loop through the years list created above and calculate the diffrence of each from current year\n",
        "  for year in years:\n",
        "    years_ago = current_year - year\n",
        "    print(f\"{year} was {years_ago} years ago\")\n",
        "\n",
        "  #create another list years2\n",
        "  years2 = [2010,2020]\n",
        "\n",
        "  #using the .extend method we extend the years list to now contain items from years2 list\n",
        "  new_years = years.extend(years2)\n",
        "  print(years)\n",
        "\n",
        "  #create another list years3 which would be added to new before adding the updated years list\n",
        "  years3 = [1930,1940,1950]\n",
        "  years3 = years3 + years\n",
        "\n",
        "  #print the new list\n",
        "  print(years3)\n",
        "\n",
        "\n",
        "years_list()\n",
        "\n"
      ],
      "execution_count": 15,
      "outputs": [
        {
          "output_type": "stream",
          "name": "stdout",
          "text": [
            "[1960, 1970, 1980, 1990, 2000]\n",
            "1960 was 64 years ago\n",
            "1970 was 54 years ago\n",
            "1980 was 44 years ago\n",
            "1990 was 34 years ago\n",
            "2000 was 24 years ago\n",
            "[1960, 1970, 1980, 1990, 2000, 2010, 2020]\n",
            "[1930, 1940, 1950, 1960, 1970, 1980, 1990, 2000, 2010, 2020]\n"
          ]
        }
      ]
    },
    {
      "cell_type": "markdown",
      "metadata": {
        "id": "S5iPicFzBzOW"
      },
      "source": [
        "---\n",
        "### Exercise 2 - creating a dictionary from a tuple and three lists\n",
        "\n",
        "Write a function which will create a list of dictionary items using the values in a tuple as the dictionary keys and the values in three corresponding lists as the dictionary values.\n",
        "\n",
        "*  loop through the status items in the tuple called task_status\n",
        "*  for each status, loop through the list with the same name (*Hint:  you can use eval(status) to access the list with the matching name  e.g. for task in eval(status)* )\n",
        "*  each time round this second loop, create a dictionary object with the  key:value pair {status : task}\n",
        "*  add each new dictionary to a list called **project_board** that was created as an empty list before the loops  \n",
        "*  print the project_board list\n",
        "\n",
        "Expected output:  \n",
        "\n",
        "[{'assigned': 'task1'}, {'assigned': 'task2'}, {'assigned': 'task3'}, {'inprogress': 'task4'}, {'inprogress': 'task5'}, {'inprogress': 'task6'}, {'completed': 'task7'}, {'completed': 'task8'}, {'completed': 'task9'}]\n",
        "\n",
        "\n",
        "Copy this code into the cell below to get you started:\n",
        "```\n",
        "def create_project_board():\n",
        "  task_status = (\"assigned\", \"inprogress\", \"completed\")\n",
        "  assigned = ['task1','task2','task3']\n",
        "  inprogress = ['task4','task5','task6']\n",
        "  completed = ['task7','task8','task9']\n",
        "  #  add your code below here\n",
        "\n",
        "\n",
        "\n",
        "\n",
        "create_project_board()\n",
        "```\n"
      ]
    },
    {
      "cell_type": "code",
      "metadata": {
        "id": "KXYOSHY-C7m4",
        "colab": {
          "base_uri": "https://localhost:8080/"
        },
        "outputId": "3f8461d1-612f-4fef-c70d-36db9db71fb3"
      },
      "source": [
        "def create_project_board():\n",
        "  task_status = (\"assigned\", \"inprogress\", \"completed\")\n",
        "  assigned = ['task1','task2','task3']\n",
        "  inprogress = ['task4','task5','task6']\n",
        "  completed = ['task7','task8','task9']\n",
        "  #  add your code below here\n",
        "\n",
        "  #create an empty list\n",
        "  project_board = []\n",
        "\n",
        "  #using the for logic, loop through the tuple task_status. for each \"status\" in tuple create a new record dictionary, status as keys and task as values\n",
        "  for status in task_status:\n",
        "    for task in eval(status):\n",
        "      project_board.append({status:task})\n",
        "  print(project_board)\n",
        "\n",
        "\n",
        "\n",
        "\n",
        "create_project_board()"
      ],
      "execution_count": 16,
      "outputs": [
        {
          "output_type": "stream",
          "name": "stdout",
          "text": [
            "[{'assigned': 'task1'}, {'assigned': 'task2'}, {'assigned': 'task3'}, {'inprogress': 'task4'}, {'inprogress': 'task5'}, {'inprogress': 'task6'}, {'completed': 'task7'}, {'completed': 'task8'}, {'completed': 'task9'}]\n"
          ]
        }
      ]
    },
    {
      "cell_type": "markdown",
      "metadata": {
        "id": "M1BuTu9p19Ma"
      },
      "source": [
        "---\n",
        "### Exercise 3 - names and heights\n",
        "\n",
        "Write a function which will allow a user to enter the names and heights of a set of people and add each set of information as a record (dictionary) to a list. The function will stop collecting names and heights when the user enters \"STOP\" as the name.\n",
        "\n",
        "Then, the function will:  \n",
        "\n",
        "*   calculate the name of the tallest person\n",
        "*   calculate the name of the shortest person\n",
        "*   calculate the average height\n",
        "*   calculate the name of the person who is closest to the average height"
      ]
    },
    {
      "cell_type": "code",
      "source": [],
      "metadata": {
        "id": "r7sQXijU__Dd"
      },
      "execution_count": null,
      "outputs": []
    },
    {
      "cell_type": "code",
      "metadata": {
        "id": "reuyww3e18uv",
        "colab": {
          "base_uri": "https://localhost:8080/"
        },
        "outputId": "e45b4c7e-2e4e-4c40-f46d-1a48dcf17b55"
      },
      "source": [
        "def names_and_heights():\n",
        "\n",
        "  #create an empty list to store a set of information as dictionary\n",
        "  names_and_heights = []\n",
        "\n",
        "  #using the while loop, user input a name as keys and height as values until user enter's \"STOP\" to break the loop. Each new entry is added as record to names_and_heights list.\n",
        "  while True:\n",
        "    name = input(\"Please enter a name : \")\n",
        "    if name == \"STOP\":\n",
        "      break\n",
        "    height = float(input(\"Please enter a height : \"))\n",
        "    names_and_heights.append({\"name\":name , \"height\":height})\n",
        "  print(names_and_heights)\n",
        "  name_list = [] #create a new list for all the names record\n",
        "\n",
        "  #using the for logic, look through the names_and_heights list created initially and append each name to the new name_list.\n",
        "  for record in names_and_heights:\n",
        "    if \"name\" in record:\n",
        "      name_list.append(record[\"name\"])\n",
        "  print(name_list)\n",
        "  height_list = [] #create a separate list for all heights record\n",
        "\n",
        "  #using the for logic, look through the names_and_heights list created initially and append each height to the new name_list.\n",
        "  for record in names_and_heights:\n",
        "    if \"height\" in record:\n",
        "      height_list.append(record[\"height\"])\n",
        "  print(height_list)\n",
        "  tallest_person = height_list.index(max(height_list)) #calculate the tallest person height by using the .index position of the maximum height in height list\n",
        "  tallest_person_name = name_list[tallest_person] #get the name of the person that falls under the position of the max. height\n",
        "  print(\"The tallest person is\" ,tallest_person_name)\n",
        "\n",
        "  #calculate the tallest person height by using the .index position of the minimum height in height_list\n",
        "  #get the name of the person that falls under the position of the min. height\n",
        "  shortest_person = height_list.index(min(height_list))\n",
        "  shortest_person_name = name_list[shortest_person]\n",
        "  print(\"The shortest person is\",shortest_person_name)\n",
        "\n",
        "  #calculate the average height using sum and len(height_list)\n",
        "  average_height = sum(height_list) / len(height_list)\n",
        "\n",
        "\n",
        "  print(\"The average height is\", average_height)\n",
        "\n",
        "\n",
        "names_and_heights()"
      ],
      "execution_count": 26,
      "outputs": [
        {
          "output_type": "stream",
          "name": "stdout",
          "text": [
            "Please enter a name : wale\n",
            "Please enter a height : 5.7\n",
            "Please enter a name : qoddy\n",
            "Please enter a height : 5.4\n",
            "Please enter a name : amy\n",
            "Please enter a height : 4.4\n",
            "Please enter a name : STOP\n",
            "[{'name': 'wale', 'height': 5.7}, {'name': 'qoddy', 'height': 5.4}, {'name': 'amy', 'height': 4.4}]\n",
            "['wale', 'qoddy', 'amy']\n",
            "[5.7, 5.4, 4.4]\n",
            "The tallest person is wale\n",
            "The shortest person is amy\n",
            "The average height is 5.166666666666667\n"
          ]
        }
      ]
    },
    {
      "cell_type": "markdown",
      "source": [
        "## How can you sort a dictionary?\n",
        "\n",
        "It is not possible to sort a dictionary in the same way as a list (e.g. `list_name.sort()`) as we would need to be able to specify which values in the dictionary we want to sort on.\n",
        "\n",
        "The names and heights dictionary could be sorted on name, or on height.\n",
        "\n"
      ],
      "metadata": {
        "id": "sSZvT5qsGThh"
      }
    },
    {
      "cell_type": "markdown",
      "source": [
        "## Your thoughts on what you have learnt\n",
        "Please add some comments in the box below to reflect on what you have learnt through completing this worksheet, and any problems you encountered while doing so."
      ],
      "metadata": {
        "id": "-hXBSpyHwJvm"
      }
    },
    {
      "cell_type": "markdown",
      "source": [
        "The first two exercises were relatively straightforward, but the final one proved to be quite challenging. The task involved calculating height statistics from dictionary records stored in a list. To solve this, I converted the keys and values of each dictionary into separate lists. This allowed me to determine the indexes of the minimum and maximum heights. Using these indexes, I was then able to identify the names of the individuals corresponding to those positions.\n",
        "\n",
        "I’m aware there are more efficient ways to accomplish this, but for now, I focused on applying my current knowledge of Python to tackle the problem. It was both a learning opportunity and a test of my understanding of the fundamentals."
      ],
      "metadata": {
        "id": "ktYJQmNjwK7H"
      }
    }
  ]
}