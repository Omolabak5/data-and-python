{
  "nbformat": 4,
  "nbformat_minor": 0,
  "metadata": {
    "colab": {
      "provenance": [],
      "include_colab_link": true
    },
    "kernelspec": {
      "name": "python3",
      "display_name": "Python 3"
    },
    "language_info": {
      "name": "python"
    }
  },
  "cells": [
    {
      "cell_type": "markdown",
      "metadata": {
        "id": "view-in-github",
        "colab_type": "text"
      },
      "source": [
        "<a href=\"https://colab.research.google.com/github/Omolabak5/data-and-python/blob/main/Copy_of_05_Lists_and_loops.ipynb\" target=\"_parent\"><img src=\"https://colab.research.google.com/assets/colab-badge.svg\" alt=\"Open In Colab\"/></a>"
      ]
    },
    {
      "cell_type": "markdown",
      "metadata": {
        "id": "Z-M-RCWATK71"
      },
      "source": [
        "# Lists and loops\n",
        "\n",
        "Before you start this worksheet and if you haven't already done so:\n",
        "*  read through the presentation on lists and loops [here](https://docs.google.com/presentation/d/e/2PACX-1vTg0q3OltgMwr3iwva73lGbErHyM_PS31NS4unSy63XbSvcFzORKfpxmwGxgjRTEcUiwRkWMLHvhhUs/pub?start=false&loop=false&delayms=3000)\n",
        "\n",
        "*  watch the video on Lists [here](https://vimeo.com/991481470/9dfc58427a?share=copy)\n",
        "\n",
        "*  watch the video on List functions and methods [here](https://vimeo.com/991514290/f36a924759?share=copy)"
      ]
    },
    {
      "cell_type": "markdown",
      "metadata": {
        "id": "Ft0dXl7fUuaK"
      },
      "source": [
        "---\n",
        "### Exercise 1 - manage list of categories\n",
        "\n",
        "Write a function, **print_categories()** which will:\n",
        "*  create the list **categories_list** and assign the following list [\"well being\", \"local events\", \"community events\", \"families and parents\", \"jobs and volunteering\" ]\n",
        "*  print the length of the list `categories`\n",
        "*  print the list\n",
        "\n",
        "## Test\n",
        "The expected output is:\n",
        "\n",
        "```\n",
        "5\n",
        "[\"well being\",\"local events\",\"community events\",\"families and parents\", \"jobs and volunteering\"]\n",
        "```"
      ]
    },
    {
      "cell_type": "code",
      "source": [
        "def print_categories():\n",
        "  categories_list = [\"well being\", \"local events\", \"community events\", \"families and parents\", \"jobs and volunteering\" ]\n",
        "  length_of_list = len(categories_list)\n",
        "  print(length_of_list)\n",
        "  print(categories_list)\n",
        "\n",
        "\n",
        "print_categories()\n",
        "\n"
      ],
      "metadata": {
        "id": "QQSxE92IVlHg",
        "colab": {
          "base_uri": "https://localhost:8080/"
        },
        "outputId": "85ddc2b8-a36b-493b-bdf6-24c982c62ac8"
      },
      "execution_count": 2,
      "outputs": [
        {
          "output_type": "stream",
          "name": "stdout",
          "text": [
            "5\n",
            "['well being', 'local events', 'community events', 'families and parents', 'jobs and volunteering']\n"
          ]
        }
      ]
    },
    {
      "cell_type": "markdown",
      "source": [
        "---\n",
        "### Exercise 2 - change item in list\n",
        "\n",
        "Write a function, **change_categories()** which will:\n",
        "*  create the same list (**categories list**)\n",
        "*  amend the **first item** in the list so it reads **well-being**\n",
        "*  print the list\n",
        "\n",
        "*Hint: each item in the list is identified by its position, starting from 0, so the first item in the list is at categories_list[0]*\n",
        "\n",
        "**Expected Output**\n",
        "\n",
        "```\n",
        "['well-being','local events','community events','families and parents','jobs and volunteering']\n",
        "```"
      ],
      "metadata": {
        "id": "9YkKNJNrfYiy"
      }
    },
    {
      "cell_type": "code",
      "source": [
        "def change_categories():\n",
        "  categories_list = [\"well being\", \"local events\", \"community events\", \"families and parents\", \"jobs and volunteering\" ]\n",
        "  categories_list[0] = \"well-being\"\n",
        "  print(categories_list)\n",
        "\n",
        "change_categories()"
      ],
      "metadata": {
        "id": "ryPTakrmgeDj",
        "colab": {
          "base_uri": "https://localhost:8080/"
        },
        "outputId": "85927341-6a5d-4290-c60c-4bb6306fd173"
      },
      "execution_count": 3,
      "outputs": [
        {
          "output_type": "stream",
          "name": "stdout",
          "text": [
            "['well-being', 'local events', 'community events', 'families and parents', 'jobs and volunteering']\n"
          ]
        }
      ]
    },
    {
      "cell_type": "markdown",
      "source": [
        "---\n",
        "### Exercise 3 - add to list of categories\n",
        "\n",
        "Write a function, **add_category()** which will:  \n",
        "*  create the same `categories_list` again\n",
        "*  create a new variable called new_category and assign the value \"learning\"\n",
        "*  append the new category  (called **new_category**) to the list.   \n",
        "_Hint: use `.append(new_category)`_\n",
        "*  print the list of categories\n",
        "\n",
        "## Test:\n",
        "\n",
        "The expected output is that the original list is printed with the new category added to the end.\n",
        "\n",
        "```\n",
        "[\"well being\",\"local events\",\"community events\",\"families and parents\", \"jobs and volunteering\", \"learning\"]\n",
        "```"
      ],
      "metadata": {
        "id": "KpOFEmxJTnXk"
      }
    },
    {
      "cell_type": "code",
      "metadata": {
        "id": "P2HnCG9pb1BS",
        "colab": {
          "base_uri": "https://localhost:8080/"
        },
        "outputId": "bd629c19-e58a-410a-ef42-506c0a9b55ac"
      },
      "source": [
        "def add_category():\n",
        "  categories_list = [\"well being\", \"local events\", \"community events\", \"families and parents\", \"jobs and volunteering\" ]\n",
        "  new_category = \"learning\"\n",
        "  categories_list.append(new_category)\n",
        "  print(categories_list)\n",
        "\n",
        "add_category()"
      ],
      "execution_count": 4,
      "outputs": [
        {
          "output_type": "stream",
          "name": "stdout",
          "text": [
            "['well being', 'local events', 'community events', 'families and parents', 'jobs and volunteering', 'learning']\n"
          ]
        }
      ]
    },
    {
      "cell_type": "markdown",
      "metadata": {
        "id": "yNWg08k6bXv0"
      },
      "source": [
        "---\n",
        "### Exercise 4 - create list of locations\n",
        "\n",
        "Write a function **show_locations()** which will:\n",
        "*  create a new list **notice_locations** and add at least 6 locations to the list e.g. Dartford, Medway, Maidstone, Edinburgh, Glasgow, ...\n",
        "*  print the length of the list\n",
        "*  print the first and last items\n",
        "*  print the first three items\n",
        "*  print the last three items\n",
        "\n",
        "\n",
        "## Test\n",
        "An example of the list might be:\n",
        "\n",
        "Edinburgh  \n",
        "Glasgow  \n",
        "Dartford  \n",
        "Medway  \n",
        "Maidstone  \n",
        "Motherwell  "
      ]
    },
    {
      "cell_type": "code",
      "source": [
        "def  show_locations():\n",
        "  notice_locations = [\"Dartford\", \"Medway\", \"Maidstone\", \"Edinburgh\", \"Glasgow\", \"Motherwell\"]\n",
        "  length_of_list = len(notice_locations)\n",
        "  first_and_last_items = (notice_locations[0], notice_locations[-1])\n",
        "  first_three_items = notice_locations[:3]\n",
        "  last_three_items = notice_locations[-3:]\n",
        "  print(length_of_list)\n",
        "  print(first_and_last_items)\n",
        "  print(first_three_items)\n",
        "  print(last_three_items)\n",
        "\n",
        "show_locations()\n",
        "\n",
        "\n"
      ],
      "metadata": {
        "id": "KGJJyOB3VyEK",
        "colab": {
          "base_uri": "https://localhost:8080/"
        },
        "outputId": "dfaa4ed7-38bd-4f5b-f16e-18fe3559c298"
      },
      "execution_count": 19,
      "outputs": [
        {
          "output_type": "stream",
          "name": "stdout",
          "text": [
            "6\n",
            "('Dartford', 'Motherwell')\n",
            "['Dartford', 'Medway', 'Maidstone']\n",
            "['Edinburgh', 'Glasgow', 'Motherwell']\n"
          ]
        }
      ]
    },
    {
      "cell_type": "markdown",
      "source": [
        "---\n",
        "### Exercise 5 - create list of user preferences\n",
        "\n",
        "Write a function **user_locations()** which will:\n",
        "*  create a new list **user_locations** and assign the list [\"Dartford\",\"Medway\",\"Maidstone\",\"Dover\",\"Medway\",\"Tunbridge Wells\",\"Medway\",\"Dover\"]\n",
        "*  create a variable called **medway_count** and assign the frequency of \"Medway\" in the `user_locations` list\n",
        "*  create a variable called **dover_count** and assign the frequency of \"Dover\" in the `user_locations` list\n",
        "*  create a variable called **dartford_count** and assign the frequency of \"Dartford\" in the `user_locations` list\n",
        "*  create a variable called **top_locations** and assign a list of the three counts stored in the variable\n",
        "*  print the `top_locations` list\n",
        "\n",
        "## Test\n",
        "\n",
        "The expected output is:\n",
        "\n",
        "```\n",
        "[3,2,1]\n",
        "```\n",
        "\n"
      ],
      "metadata": {
        "id": "ddvD-szJXcPo"
      }
    },
    {
      "cell_type": "code",
      "source": [
        "def  user_locations():\n",
        "  user_locations = [\"Dartford\",\"Medway\",\"Maidstone\",\"Dover\",\"Medway\",\"Tunbridge Wells\",\"Medway\",\"Dover\"]\n",
        "  medway_count = user_locations.count(\"Medway\")\n",
        "  dover_count = user_locations.count(\"Dover\")\n",
        "  dartford_count = user_locations.count(\"Dartford\")\n",
        "  top_locations = [medway_count, dover_count, dartford_count]\n",
        "  print(top_locations)\n",
        "\n",
        "user_locations()"
      ],
      "metadata": {
        "id": "JA68Wc96Xe9K",
        "colab": {
          "base_uri": "https://localhost:8080/"
        },
        "outputId": "cd2cacb6-a2f2-46ac-f1ed-730fe162b57d"
      },
      "execution_count": 1,
      "outputs": [
        {
          "output_type": "stream",
          "name": "stdout",
          "text": [
            "[3, 2, 1]\n"
          ]
        }
      ]
    },
    {
      "cell_type": "markdown",
      "source": [
        "---\n",
        "### Exercise 6 - get the position of a named element in a list\n",
        "\n",
        "Write a function **get_position()** which will:\n",
        "*  create a new list **categories** with the following items: `['well being', 'local events', 'community events', 'families and parents', 'jobs and volunteering']`\n",
        "*  create a new variable called position and assign it the position of the element `\"community events\"` in the list  \n",
        "_Hint:  you can use `.index(category)`_\n",
        "*  print the `position`\n",
        "\n",
        "\n",
        "## Test:\n",
        "Following the instructions above the expected output is:  \n",
        "2  \n",
        "*(\"community events\" is third in the list and has the position 2)*"
      ],
      "metadata": {
        "id": "uXSu5zXVbslG"
      }
    },
    {
      "cell_type": "code",
      "source": [
        "def get_position():\n",
        "  categories = ['well being', 'local events', 'community events', 'families and parents', 'jobs and volunteering']\n",
        "  position = categories.index(\"community events\")\n",
        "  print(position)\n",
        "\n",
        "get_position()"
      ],
      "metadata": {
        "id": "-6nNePNWbuad",
        "colab": {
          "base_uri": "https://localhost:8080/"
        },
        "outputId": "ef2af9a2-9733-4bba-d2de-a6ae710dd1ef"
      },
      "execution_count": 2,
      "outputs": [
        {
          "output_type": "stream",
          "name": "stdout",
          "text": [
            "2\n"
          ]
        }
      ]
    },
    {
      "cell_type": "markdown",
      "source": [
        "---\n",
        "# Iterating through a list with a `for` loop\n",
        "\n",
        "Examples\n",
        "\n",
        "**Print each item in the list on a new line**\n",
        "```\n",
        "for category in categories_list:\n",
        "  print(category)\n",
        "```\n",
        "**Add 0.5 on to each sea_level (maybe as a universal adjustment), then print it**\n",
        "```\n",
        "for level in sea_levels:\n",
        "   adjusted_level = level + 0.5\n",
        "   print(adjusted_level)\n",
        "```  \n",
        "\n",
        "*Notice that the code below the `for` loop is indented.  All code that is indented to the same level is part of the loop and will run everytime round the loop.*"
      ],
      "metadata": {
        "id": "UGUOB3jiZ7Ge"
      }
    },
    {
      "cell_type": "markdown",
      "source": [
        "---\n",
        "### Exercise 7 - print the sea_levels list using a loop\n",
        "\n",
        "Write a function **show_sea_levels()** which will:\n",
        "*  create a new list **sea_levels** with the following items: `[0.952755905, 1.173228345, 0.464566929, 0.66535433, 1.464566928, 1.393700786, 1.255905511, 1.03543307, 1.118110235, 1.181102361]`\n",
        "*  use a for loop to print each number on a new line\n",
        "\n",
        "\n",
        "## Test:\n",
        "Following the instructions above the expected output is:  \n",
        "```\n",
        "0.952755905\n",
        "1.173228345\n",
        "0.464566929\n",
        "0.66535433\n",
        "1.464566928\n",
        "1.393700786\n",
        "1.255905511\n",
        "1.03543307\n",
        "1.118110235\n",
        "1.181102361\n",
        "```"
      ],
      "metadata": {
        "id": "rxH09eBofm_j"
      }
    },
    {
      "cell_type": "code",
      "source": [
        "def show_sea_levels():\n",
        "  sea_levels = [0.952755905, 1.173228345, 0.464566929, 0.66535433, 1.464566928, 1.393700786, 1.255905511, 1.03543307, 1.118110235, 1.181102361]\n",
        "  for level in sea_levels:\n",
        "    print(level)\n",
        "\n",
        "show_sea_levels()"
      ],
      "metadata": {
        "id": "uJ4N9d9eSTbg",
        "colab": {
          "base_uri": "https://localhost:8080/"
        },
        "outputId": "f36d38d4-572c-4c4b-8d88-0561ec5dbb11"
      },
      "execution_count": 3,
      "outputs": [
        {
          "output_type": "stream",
          "name": "stdout",
          "text": [
            "0.952755905\n",
            "1.173228345\n",
            "0.464566929\n",
            "0.66535433\n",
            "1.464566928\n",
            "1.393700786\n",
            "1.255905511\n",
            "1.03543307\n",
            "1.118110235\n",
            "1.181102361\n"
          ]
        }
      ]
    },
    {
      "cell_type": "markdown",
      "source": [
        "---\n",
        "### Exercise 8 - remove an item from a list\n",
        "\n",
        "Write a function **remove_category()** which will:\n",
        "*  create a new list **categories_list** with the following items: `[\"well being\", \"local events\", \"community events\", \"families and parents\", \"jobs and volunteering\", \"learning\"]`\n",
        "*  remove the 'community events' element from the list  \n",
        "   *Hint: removing an item is like appending an item, e.g. `categories_list.remove(\"local events\")`* )\n",
        "*  print the list using a loop\n",
        "\n",
        "\n",
        "## Test:\n",
        "Following the instructions above the expected output is:  \n",
        "```\n",
        "well being\n",
        "local events\n",
        "families and parents\n",
        "jobs and volunteering\n",
        "learning\n",
        "```"
      ],
      "metadata": {
        "id": "TY41GMp1ds2P"
      }
    },
    {
      "cell_type": "code",
      "source": [
        "def remove_category():\n",
        "  categories_list = [\"well being\", \"local events\", \"community events\", \"families and parents\", \"jobs and volunteering\", \"learning\"]\n",
        "  categories_list.remove(\"community events\")\n",
        "  for category in categories_list:\n",
        "    print(category)\n",
        "\n",
        "remove_category()"
      ],
      "metadata": {
        "id": "e5cgRvmyfGiE",
        "colab": {
          "base_uri": "https://localhost:8080/"
        },
        "outputId": "f9cf6df9-82f5-4b72-bddd-f1deadba5dd4"
      },
      "execution_count": 4,
      "outputs": [
        {
          "output_type": "stream",
          "name": "stdout",
          "text": [
            "well being\n",
            "local events\n",
            "families and parents\n",
            "jobs and volunteering\n",
            "learning\n"
          ]
        }
      ]
    },
    {
      "cell_type": "markdown",
      "source": [
        "---\n",
        "### Exercise 9 - print a list as a set of rounded numbers\n",
        "\n",
        "Write a function **show_sea_levels_2dp()** which will:\n",
        "*  create a new list **sea_levels** with the following items: `[0.952755905, 1.173228345, 0.464566929, 0.66535433, 1.464566928, 1.393700786, 1.255905511, 1.03543307, 1.118110235, 1.181102361]`\n",
        "*  use a for loop to round each number to 2 decimal places, then print it\n",
        "\n",
        "## Test:\n",
        "Following the instructions above the expected output is:  \n",
        "```\n",
        "0.95\n",
        "1.17\n",
        "0.46\n",
        "0.67\n",
        "1.46\n",
        "1.39\n",
        "1.26\n",
        "1.04\n",
        "1.12\n",
        "1.18\n",
        "```\n"
      ],
      "metadata": {
        "id": "hfyc8T6vgwCY"
      }
    },
    {
      "cell_type": "code",
      "source": [
        "def show_sea_levels_2dp():\n",
        "  sea_levels = [0.952755905, 1.173228345, 0.464566929, 0.66535433, 1.464566928, 1.393700786, 1.255905511, 1.03543307, 1.118110235, 1.181102361]\n",
        "  for level in sea_levels:\n",
        "    rounded_level = round(level, 2)\n",
        "    print(rounded_level)\n",
        "\n",
        "show_sea_levels_2dp()\n",
        "\n",
        "show_sea_levels_2dp()"
      ],
      "metadata": {
        "id": "PKiJmc22hQ8P",
        "colab": {
          "base_uri": "https://localhost:8080/"
        },
        "outputId": "13587013-fa57-4b4c-8d3e-8c8b6028820e"
      },
      "execution_count": 5,
      "outputs": [
        {
          "output_type": "stream",
          "name": "stdout",
          "text": [
            "0.95\n",
            "1.17\n",
            "0.46\n",
            "0.67\n",
            "1.46\n",
            "1.39\n",
            "1.26\n",
            "1.04\n",
            "1.12\n",
            "1.18\n",
            "0.95\n",
            "1.17\n",
            "0.46\n",
            "0.67\n",
            "1.46\n",
            "1.39\n",
            "1.26\n",
            "1.04\n",
            "1.12\n",
            "1.18\n"
          ]
        }
      ]
    },
    {
      "cell_type": "markdown",
      "source": [
        "--\n",
        "### Exercise 10 - interrogate a list of integers\n",
        "\n",
        "Write a function called **describe_num_list()** which will:  \n",
        "*  create a variable called **num_list** and assign a list of whole numbers (you can choose how many, and which numbers to include in the list)\n",
        "*  create a variable to hold the **length** of `num_list`\n",
        "*  create a variable to hold the **sum** of the items in `num_list`  \n",
        "*  print the **largest** number in `num_list`  \n",
        "*  print the **smallest** number in `num_list`  \n",
        "*  calculate the **average** of the numbers in `num_list` (you will already have the information you need to do this) and print it."
      ],
      "metadata": {
        "id": "HZd3r7DfcmiU"
      }
    },
    {
      "cell_type": "code",
      "source": [
        "def describe_num_list():\n",
        "  num_list = [38, 31, 7, 2]\n",
        "  length_of_list = len(num_list)\n",
        "  sum_of_list = sum(num_list)\n",
        "  largest_number = max(num_list)\n",
        "  smallest_number = min(num_list)\n",
        "  average_of_list = sum_of_list / length_of_list\n",
        "  print(largest_number)\n",
        "  print(smallest_number)\n",
        "  print(average_of_list)\n",
        "\n",
        "describe_num_list()"
      ],
      "metadata": {
        "id": "FUWyOH-VdLSx",
        "colab": {
          "base_uri": "https://localhost:8080/"
        },
        "outputId": "990e0873-7a6b-4633-df25-43cd88323bb1"
      },
      "execution_count": 7,
      "outputs": [
        {
          "output_type": "stream",
          "name": "stdout",
          "text": [
            "38\n",
            "2\n",
            "19.5\n"
          ]
        }
      ]
    },
    {
      "cell_type": "markdown",
      "source": [
        "---\n",
        "# Takeaways\n",
        "\n",
        "*  lists are data objects containing a set of data items, usually of the same type and stores them together\n",
        "*  we can access any item in a list if we know its position (index) using list[index]\n",
        "*  we can access parts of a list by using a start and end index [start:end]\n",
        "*  there are functions that will get information about lists (len, max, min, sum, etc)\n",
        "*  lists have built-in functions called methods that often allow them to make changes to themselves (e.g. .append, .remove, .sort, .index)\n",
        "*  lists are easy to process with `for` loops, which can work through the list from start to end, operating on each item in turn.\n",
        "*  to create a `for` loop, use `for item in listname:` and indent all the instructions that will be repeated below this line."
      ],
      "metadata": {
        "id": "cMU3y_iFz3A4"
      }
    }
  ]
}