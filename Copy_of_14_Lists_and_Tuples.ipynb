{
  "nbformat": 4,
  "nbformat_minor": 0,
  "metadata": {
    "colab": {
      "provenance": [],
      "include_colab_link": true
    },
    "kernelspec": {
      "name": "python3",
      "display_name": "Python 3"
    },
    "language_info": {
      "name": "python"
    }
  },
  "cells": [
    {
      "cell_type": "markdown",
      "metadata": {
        "id": "view-in-github",
        "colab_type": "text"
      },
      "source": [
        "<a href=\"https://colab.research.google.com/github/Omolabak5/data-and-python/blob/main/Copy_of_14_Lists_and_Tuples.ipynb\" target=\"_parent\"><img src=\"https://colab.research.google.com/assets/colab-badge.svg\" alt=\"Open In Colab\"/></a>"
      ]
    },
    {
      "cell_type": "markdown",
      "metadata": {
        "id": "Z-M-RCWATK71"
      },
      "source": [
        "# Lists and tuples challenge exercises\n",
        "\n",
        "The code below will create two lists and a tuple.\n",
        "*   the first list contains 1000 random numbers between 1 and 100\n",
        "*   the second list is of random length (up to 5000) and each item is one of the 9 characteristics that are protected under the Equality Act in the UK.\n",
        "*   the tuple contains the 9 protected characteristics\n",
        "\n",
        "Before you start the exercises, run the code below.  It will generate the lists and tuple so that you can use them in the exercises.  If you need to recreate the lists again (because you have changed them and need to work on the originals, just run this cell again).\n",
        "\n",
        "***Note:***  *a list variable contains a reference to the start of the list in memory, rather than storing the list itself.  This means that if you assign the list to another variable (to make a copy), it will only copy across the reference.  If you change the copy, you change the original list.*\n",
        "\n",
        "*If you need to make a copy of the list you will could use a loop to create a new list and copy all items across.*"
      ]
    },
    {
      "cell_type": "code",
      "metadata": {
        "id": "BDRckXeQXFMT"
      },
      "source": [
        "from random import randint, choice\n",
        "\n",
        "def get_num_list():\n",
        "  num_list = [randint(1,100) for n in range(1000)]\n",
        "  return num_list\n",
        "\n",
        "def get_protected_characteristics():\n",
        "  characteristics_tuple = ('age','disability','gender reassignment','marriage and civil partnership','pregnancy and maternity','race','religion or belief','sex','sexual orientation')\n",
        "  return characteristics_tuple\n",
        "\n",
        "def get_protected_characteristic_list(protected_characteristics):\n",
        "  char_list = [choice(protected_characteristics) for ch in range(5000)]\n",
        "  return char_list\n",
        "\n",
        "nums = get_num_list()\n",
        "protected_characteristics = get_protected_characteristics()\n",
        "characteristics = get_protected_characteristic_list(protected_characteristics)"
      ],
      "execution_count": 2,
      "outputs": []
    },
    {
      "cell_type": "markdown",
      "metadata": {
        "id": "xXT38-4ZV45n"
      },
      "source": [
        "## The exercises below will use the lists:  \n",
        "*   **nums** (a list of 1000 random numbers, each number is between 0 and 100)\n",
        "*   **characteristics** (a list of 5000 random protected_characteristics)\n",
        "\n",
        "and the tuple:\n",
        "*  **protected_characteristics** (the 9 protected characteristics identified in the Equality Act)\n",
        "\n",
        "## You can run the cell above any number of times to generate new lists."
      ]
    },
    {
      "cell_type": "markdown",
      "metadata": {
        "id": "Ft0dXl7fUuaK"
      },
      "source": [
        "---\n",
        "### Exercise 1 - list head, tail and shape\n",
        "\n",
        "Write a function, **describe_list()** which will:\n",
        "*  print the length of the list `nums`\n",
        "*  print the first 10 items in `nums`  \n",
        "*  print the last 5 items in `nums`\n",
        "\n",
        "Expected output (the two lists will contained different values to those shown belows since they are randomly generated):\n",
        "\n",
        "1000 \\\n",
        "[78, 49, 81, 48, 79, 55, 76, 26, 75, 43] \\\n",
        "[59, 42, 84, 62, 18] \\"
      ]
    },
    {
      "cell_type": "code",
      "metadata": {
        "id": "jUcZD7mmTJdA",
        "colab": {
          "base_uri": "https://localhost:8080/"
        },
        "outputId": "57112c07-65c7-4891-918a-eb7db0fe9d8d"
      },
      "source": [
        "def describe_list(list):\n",
        "\n",
        "  #print the lenght, first 10 items and last 5 items of the list \"nums\"\n",
        "  print(len(list))\n",
        "  print(list[0:10])\n",
        "  print(list[-5:])\n",
        "\n",
        "\n",
        "describe_list(nums)"
      ],
      "execution_count": 22,
      "outputs": [
        {
          "output_type": "stream",
          "name": "stdout",
          "text": [
            "1000\n",
            "[56, 39, 66, 59, 28, 92, 28, 61, 5, 13]\n",
            "[9, 13, 40, 34, 86]\n"
          ]
        }
      ]
    },
    {
      "cell_type": "markdown",
      "metadata": {
        "id": "yNWg08k6bXv0"
      },
      "source": [
        "---\n",
        "### Exercise 2 - show tuple items\n",
        "\n",
        "Write a function which will:\n",
        "*   use a loop to print each protected characteristics from the `protected_characteristics` tuple.\n",
        "\n",
        "Expected output:\n",
        "\n",
        "age\\\n",
        "disability\\\n",
        "gender reassignment\\\n",
        "marriage and civil partnership\\\n",
        "pregnancy and maternity\\\n",
        "race\\\n",
        "religion or belief\\\n",
        "sex\\\n",
        "sexual orientation"
      ]
    },
    {
      "cell_type": "code",
      "metadata": {
        "id": "P2HnCG9pb1BS",
        "colab": {
          "base_uri": "https://localhost:8080/"
        },
        "outputId": "bd8031ee-f40d-47d5-88ef-cf73d3adc5bc"
      },
      "source": [
        "def show_characteristics(tuple):\n",
        "\n",
        "  #using the for logic we print each record in the tuple \"protected_characteristics\" seperately.\n",
        "  for record in tuple:\n",
        "    print(record)\n",
        "\n",
        "show_characteristics(protected_characteristics)"
      ],
      "execution_count": 23,
      "outputs": [
        {
          "output_type": "stream",
          "name": "stdout",
          "text": [
            "age\n",
            "disability\n",
            "gender reassignment\n",
            "marriage and civil partnership\n",
            "pregnancy and maternity\n",
            "race\n",
            "religion or belief\n",
            "sex\n",
            "sexual orientation\n"
          ]
        }
      ]
    },
    {
      "cell_type": "markdown",
      "metadata": {
        "id": "RTSuQZs4b1JU"
      },
      "source": [
        "---\n",
        "### Exercise 3 - list a random subset\n",
        "\n",
        "Write a function which will:\n",
        "*  calculate the position of the middle item in the `characteristics` list   \n",
        "(*Hint: use len() to help with this*)\n",
        "*  calculate the position of the item that is 5 places before the middle item\n",
        "*  calculate the position of the item that is 5 places after the middle item\n",
        "*  print the part of the list that includes the items from 5 places before to 5 places after.  \n",
        "\n",
        "Expected output:  \n",
        "Your list will include 11 items."
      ]
    },
    {
      "cell_type": "code",
      "metadata": {
        "id": "OwhFnH2kdC11",
        "colab": {
          "base_uri": "https://localhost:8080/"
        },
        "outputId": "8b3b8272-2ab6-4290-a255-bbf5f33aa061"
      },
      "source": [
        "def get_random_subset(list):\n",
        "\n",
        "  #calculating the position of the middle item in the characteristics list, we get the lenght of the list then use floor division since we don't want remainder, I added + 1 to that as the list is even number.\n",
        "  middle = (len(list) // 2)\n",
        "  before = middle - 5 #from the middle position to get 5 places before minus 5 from the middle position we got above.\n",
        "  after = middle + 6 #to get 5 places after middle position, we need to add 6 to the middle position we got above.\n",
        "  print(list[before:after]) #using the \"before\" and \"after\" for the indexes, we print the part of the characteristics list.\n",
        "\n",
        "get_random_subset(characteristics)"
      ],
      "execution_count": 21,
      "outputs": [
        {
          "output_type": "stream",
          "name": "stdout",
          "text": [
            "['sexual orientation', 'race', 'sex', 'religion or belief', 'pregnancy and maternity', 'age', 'marriage and civil partnership', 'religion or belief', 'marriage and civil partnership', 'age', 'pregnancy and maternity']\n"
          ]
        }
      ]
    },
    {
      "cell_type": "markdown",
      "metadata": {
        "id": "KS0x3oFNePI9"
      },
      "source": [
        "---\n",
        "### Exercise 4 - create a copy\n",
        "\n",
        "Write a function which will: use a for loop to create a copy of the `nums` list:\n",
        "\n",
        "*   create a new, empty, list called **new_nums**  (*Hint: an empty list is [ ]*)\n",
        "*   use a for loop which uses the following syntax:  `for num in nums:`\n",
        "*   each time round the loop append `num` to `new_nums`  ( *`new_nums.append(num)`*)\n",
        "*   print the first 10 items of `new_nums`\n",
        "*   print the first 10 items of `nums`\n",
        "*   print the length of both lists"
      ]
    },
    {
      "cell_type": "code",
      "metadata": {
        "id": "mpK1Ip3we-uC",
        "colab": {
          "base_uri": "https://localhost:8080/"
        },
        "outputId": "1ce2bbff-dde4-41bb-8de5-8de7488b6f42"
      },
      "source": [
        "def create_copy(list):\n",
        "\n",
        "  new_nums = [] #this is the empty list \"new_num\"\n",
        "  for num in list:  #having created a list called \"nums\", I used the \"for logic\" to add the numbers in the list to the new list \"new_nums\" anytime it loop through numbers in nums list.\n",
        "    new_nums.append(num)\n",
        "\n",
        "#print the first 10 of the nums list and new_nums list.\n",
        "  print(new_nums[0:10])\n",
        "  print(nums[0:10])\n",
        "\n",
        "#print the lenght of both lists.\n",
        "  print(len(new_nums))\n",
        "  print(len(nums))\n",
        "\n",
        "#call the function using the nums list as parameters.\n",
        "create_copy(nums)"
      ],
      "execution_count": 22,
      "outputs": [
        {
          "output_type": "stream",
          "name": "stdout",
          "text": [
            "[18, 81, 67, 66, 28, 81, 61, 100, 96, 4]\n",
            "[18, 81, 67, 66, 28, 81, 61, 100, 96, 4]\n",
            "1000\n",
            "1000\n"
          ]
        }
      ]
    },
    {
      "cell_type": "markdown",
      "metadata": {
        "id": "deUIFWjRe-3G"
      },
      "source": [
        "\n",
        "---\n",
        "### Exercise 5 - count the occurrence of age in characteristics\n",
        "\n",
        "Write a function which will use the list method:\n",
        "\n",
        "`num_items = list_name.count(item)`\n",
        "\n",
        "to count the number of occurrences of 'age' in the `characteristics` list.  Print the result.\n",
        "\n",
        "Expected output:\n",
        "\n",
        "493"
      ]
    },
    {
      "cell_type": "code",
      "metadata": {
        "id": "b9TrHQ9hfoIU",
        "colab": {
          "base_uri": "https://localhost:8080/"
        },
        "outputId": "1e0df96f-3fc9-45b0-8543-2355ed7b4742"
      },
      "source": [
        "def count_age(list):\n",
        "\n",
        "  #using the .count method, I count the frequency of \"age\" in the characteristics list\n",
        "  num_items = list.count(\"age\")\n",
        "  print(num_items) #print the number of occurence of \"age\"\n",
        "\n",
        "count_age(characteristics)"
      ],
      "execution_count": 26,
      "outputs": [
        {
          "output_type": "stream",
          "name": "stdout",
          "text": [
            "518\n"
          ]
        }
      ]
    },
    {
      "cell_type": "markdown",
      "metadata": {
        "id": "zm2VI5RmfoSy"
      },
      "source": [
        "---\n",
        "### Exercise 6 - sort the nums list\n",
        "\n",
        "Write a function which will:\n",
        "*   call the function `get_num_list()` and store the result in a new list called **sort_nums**\n",
        "*   print the first, and last, 20 items in the `sort_nums` list\n",
        "*   use the `list_name.sort()` method to sort the `sort_nums` list into ascending order\n",
        "*   print the first, and last, 20 items again  \n",
        "*   use the `list_name.sort()` method again to sort the `sort_nums` list into descending order\n",
        "*   print the first, and last, 20 items again"
      ]
    },
    {
      "cell_type": "code",
      "metadata": {
        "id": "Fksgpj9JgWDs",
        "colab": {
          "base_uri": "https://localhost:8080/"
        },
        "outputId": "7378d606-5d94-48de-c31b-e7f184755ddf"
      },
      "source": [
        "\n",
        "def sort_num_list():\n",
        "\n",
        "  #call the function get_num_list() and have result stored in sort_nums\n",
        "  sort_nums = get_num_list()\n",
        "\n",
        "  #print the first 20 and last 20 of the sort_num list\n",
        "  print(sort_nums[0:20])\n",
        "  print(sort_nums[-20:])\n",
        "\n",
        "  #using the .sort(), the sort_num list is sorted into ascending order\n",
        "  sort_nums.sort()\n",
        "\n",
        "  #after sorting, the first 20 and last 20 items will be printed\n",
        "  print(sort_nums[0:20])\n",
        "  print(sort_nums[-20:])\n",
        "\n",
        "  #using the .sort(reverse=True) we sort the sort_num list into descending order\n",
        "  sort_nums.sort(reverse=True)\n",
        "\n",
        "  #after sort into descending order,the first and the last 20 items will be printed\n",
        "  print(sort_nums[0:20])\n",
        "  print(sort_nums[-20:])\n",
        "\n",
        "sort_num_list()"
      ],
      "execution_count": 4,
      "outputs": [
        {
          "output_type": "stream",
          "name": "stdout",
          "text": [
            "[4, 8, 39, 70, 63, 54, 8, 47, 42, 6, 92, 2, 4, 74, 42, 42, 55, 80, 31, 15]\n",
            "[28, 98, 30, 13, 92, 12, 56, 33, 19, 6, 49, 96, 52, 5, 46, 1, 77, 19, 65, 25]\n",
            "[1, 1, 1, 1, 1, 1, 2, 2, 2, 2, 2, 2, 2, 2, 2, 2, 2, 3, 3, 3]\n",
            "[99, 99, 99, 99, 99, 99, 99, 99, 100, 100, 100, 100, 100, 100, 100, 100, 100, 100, 100, 100]\n",
            "[100, 100, 100, 100, 100, 100, 100, 100, 100, 100, 100, 100, 99, 99, 99, 99, 99, 99, 99, 99]\n",
            "[3, 3, 3, 2, 2, 2, 2, 2, 2, 2, 2, 2, 2, 2, 1, 1, 1, 1, 1, 1]\n"
          ]
        }
      ]
    },
    {
      "cell_type": "markdown",
      "metadata": {
        "id": "_OF-Xuj1UrW0"
      },
      "source": [
        "---\n",
        "### Exercise 7 - get statistics (max(), min(), sum() )\n",
        "\n",
        "Write a function which will:\n",
        "*   print the maximum and minimum numbers in the `nums` list  \n",
        "*   print the sum of the `nums` list\n",
        "*   calculate and print the average of the `nums` list (using `len()` to help)"
      ]
    },
    {
      "cell_type": "code",
      "metadata": {
        "id": "9YmYMenZVGod",
        "colab": {
          "base_uri": "https://localhost:8080/"
        },
        "outputId": "dd173f16-df27-460c-ed48-ef9115845ac5"
      },
      "source": [
        "def get_statistics(list):\n",
        "\n",
        "  print(max(list))\n",
        "  print(min(list))\n",
        "  print(sum(list))\n",
        "  average_list = (sum(list)) / len(list)\n",
        "  print(average_list)\n",
        "\n",
        "get_statistics(nums)"
      ],
      "execution_count": 5,
      "outputs": [
        {
          "output_type": "stream",
          "name": "stdout",
          "text": [
            "100\n",
            "1\n",
            "49359\n",
            "49.359\n"
          ]
        }
      ]
    },
    {
      "cell_type": "markdown",
      "metadata": {
        "id": "Mn4tHQ_KVbHa"
      },
      "source": [
        "---\n",
        "### Exercise 8 - percentage difference\n",
        "\n",
        "Write a function which will:\n",
        "*   generate a new list called **ex8_nums** using `get_num_list()`\n",
        "*   calculate and print the percentage difference between the first number in each list (as a percentage of the number in the `nums` list)  \n",
        "(*Hint*:  subtract the first number in `ex8_nums` from the first number in `nums`, divide the difference by the first number in `nums` and multiply by 100)\n",
        "*   calculate and print the percentage difference between the last numbers in each list in the same way\n",
        "*   calculate and print the percentage difference between the middle numbers in each list in the same way.\n",
        "*   calculate and print the percentage difference between the sums of each list in the same way"
      ]
    },
    {
      "cell_type": "code",
      "metadata": {
        "id": "nJCQjZIeZL0e",
        "colab": {
          "base_uri": "https://localhost:8080/"
        },
        "outputId": "0bd71b18-ddf6-446c-a8db-3ce1f7e16115"
      },
      "source": [
        "def get_percentage_difference(list):\n",
        "\n",
        "  #generate a new list by calling the function get_num_list()\n",
        "  ex8_nums = get_num_list()\n",
        "\n",
        "  #get the difference of the first number which is the [0] index , between the old list i.e \"nums\" and the new list \"ex8_nums\"\n",
        "  difference = (list[0]) - ex8_nums[0]\n",
        "\n",
        "  #find the percentage difference and print it\n",
        "  difference_percentage = (difference/list[0]) * 100\n",
        "  print(difference_percentage)\n",
        "\n",
        "  #get the difference of the last number between the old list and the new list\n",
        "  difference1 = (list[-1]) - ex8_nums[-1]\n",
        "  #find the percentage difference and print it\n",
        "  difference_percentage1 = (difference1/list[-1]) * 100\n",
        "  print(difference_percentage1)\n",
        "\n",
        "  #get the difference of the middle number between the old list and new list\n",
        "  difference2 = (list[len(list)//2]) - ex8_nums[len(ex8_nums)//2]\n",
        "  #find the percentage difference and print it\n",
        "  difference2_percentage = (difference2/list[len(list)//2]) * 100\n",
        "  print(difference2_percentage)\n",
        "\n",
        "   #get the difference of the sum of the old list and new list\n",
        "  difference3 = sum(list) - sum(ex8_nums)\n",
        "  #find the percentage difference and print it\n",
        "  difference3_percentage = (difference3/sum(list)) * 100\n",
        "  print(difference3_percentage)\n",
        "\n",
        "#add the \"nums\" list as the parameter and call the function\n",
        "get_percentage_difference(nums)\n",
        ""
      ],
      "execution_count": 14,
      "outputs": [
        {
          "output_type": "stream",
          "name": "stdout",
          "text": [
            "87.2340425531915\n",
            "-91.30434782608695\n",
            "72.0\n",
            "-2.3906481087542293\n"
          ]
        }
      ]
    },
    {
      "cell_type": "markdown",
      "metadata": {
        "id": "HNs3lZmYawFO"
      },
      "source": [
        "---\n",
        "### Exercise 9 - characteristic counts\n",
        "\n",
        "Write a function which will:\n",
        "*  iterate through the `protected_characteristics` tuple and for each **characteristic**:\n",
        "*   *   count the number of occurrences of that `characteristic` in the `characteristics` list\n",
        "*   *   print the `protected_characteristic` and the **count**  \n",
        "\n",
        "Example expected output:\n",
        "\n",
        "age 100  \n",
        "disability 120  \n",
        "gender reassignment 120  \n",
        "marriage and civil partnership 111  \n",
        "pregnancy and maternity 103  \n",
        "race 106  \n",
        "religion or belief 95  \n",
        "sex 110  \n",
        "sexual orientation 113  \n",
        "\n",
        "Extra learning:  you can read [here](https://thispointer.com/python-how-to-pad-strings-with-zero-space-or-some-other-character/) how to justify the printed characteristic so that the output is organised into two columns as shown below:  \n",
        "![tabulated output](https://drive.google.com/uc?id=1CCXfX6K5ZeDefnq7vUsqxCDmqvcfY8Mz)\n",
        "\n",
        "\n",
        "\n"
      ]
    },
    {
      "cell_type": "code",
      "metadata": {
        "id": "GURT11albqUs",
        "colab": {
          "base_uri": "https://localhost:8080/"
        },
        "outputId": "f6f22862-caf7-4c56-f159-f20a857d605a"
      },
      "source": [
        "def characters_count(list,tuple):\n",
        "\n",
        "  #using the for logic, for each characteristics in tuple , count the characteristic in the list.\n",
        "  for characteristic in tuple:\n",
        "    count = list.count(characteristic)\n",
        "\n",
        "    #print each characteristic and it count/frequency\n",
        "    print(characteristic, count)\n",
        "\n",
        "#call the function, the parameters for list = characteristics and the parameters for tuple = protested_characteristics\n",
        "characters_count(characteristics,protected_characteristics)"
      ],
      "execution_count": 15,
      "outputs": [
        {
          "output_type": "stream",
          "name": "stdout",
          "text": [
            "age 565\n",
            "disability 579\n",
            "gender reassignment 582\n",
            "marriage and civil partnership 559\n",
            "pregnancy and maternity 577\n",
            "race 521\n",
            "religion or belief 580\n",
            "sex 533\n",
            "sexual orientation 504\n"
          ]
        }
      ]
    },
    {
      "cell_type": "markdown",
      "metadata": {
        "id": "9Po7yQj-ds38"
      },
      "source": [
        "---\n",
        "### Exercise 10 - characteristics statistics\n",
        "\n",
        "Assuming that the `characteristics` list may have been taken from a study of cases that have been taken to court in relation to the Equality Act.  \n",
        "\n",
        "Write a function which will:\n",
        "\n",
        "*   find the most common characteristic resulting in court action, from this population\n",
        "*   print this in a message, e.g. The characteristic with the highest number of court cases is:  *characteristic*\n",
        "*   print the list of `protected_characteristics`, on one line if possible - see [here](https://www.geeksforgeeks.org/print-lists-in-python-4-different-ways/)\n",
        "*   ask the user to enter a characteristic that they would like to see statistics on and use a while loop to continue until the user has entered a valid characteristic\n",
        "*   print the characteristic, its frequency and the percentage that this frequency is of the whole population."
      ]
    },
    {
      "cell_type": "code",
      "metadata": {
        "id": "uk_I5z7UgbDs",
        "colab": {
          "base_uri": "https://localhost:8080/"
        },
        "outputId": "401fc7ef-40fb-4746-8d31-8f9e9f238621"
      },
      "source": [
        "def characteristics_statistics(list,tuple):\n",
        "\n",
        "  #set max_count to 0\n",
        "  max_count = 0\n",
        "\n",
        "  #using the for logic, for each characteristic in the tuple count the number it occurs in the list\n",
        "  for characteristic in tuple:\n",
        "    count = list.count(characteristic)\n",
        "    #loop through the characteristic in the list if its frequency is greater than the max_count it gets replaced by the new characteristics with the highest frequency\n",
        "    if count > max_count:\n",
        "      max_count = count\n",
        "      max_characteristic = characteristic\n",
        "  print(\"The characteristic with the highest number of court cases is:\", max_characteristic)\n",
        "  #for characteristics in tuple:\n",
        "    #print(characteristics, end=' ')\n",
        "  print(*tuple, sep =', ')\n",
        "\n",
        "  #using the while loop user input a characteristics , if characteristics entered in tuple break loop and count it's frequency using .count method.\n",
        "  while True:\n",
        "    user_characteristics = input(\"Enter a characteristic that you would like to see statistics on: \")\n",
        "    if user_characteristics in tuple:\n",
        "      count = list.count(user_characteristics)\n",
        "\n",
        "      #after counting , get the percentage of occurence to the list length\n",
        "      percentage = (count/len(list)) * 100\n",
        "      print(user_characteristics, count, percentage)\n",
        "      break\n",
        "\n",
        "      #if user did not enter a valid characteristics\n",
        "    else:\n",
        "      print(\"Please enter a valid characteristic\")\n",
        "\n",
        "\n",
        "\n",
        "\n",
        "#call the function adding the parameters\n",
        "characteristics_statistics(characteristics,protected_characteristics)"
      ],
      "execution_count": 15,
      "outputs": [
        {
          "output_type": "stream",
          "name": "stdout",
          "text": [
            "The characteristic with the highest number of court cases is: sex\n",
            "age, disability, gender reassignment, marriage and civil partnership, pregnancy and maternity, race, religion or belief, sex, sexual orientation\n",
            "Enter a characteristic that you would like to see statistics on: race\n",
            "race 532 10.639999999999999\n"
          ]
        }
      ]
    },
    {
      "cell_type": "markdown",
      "source": [],
      "metadata": {
        "id": "rATgLyxowihN"
      }
    },
    {
      "cell_type": "markdown",
      "source": [
        "## Your thoughts on what you have learnt\n",
        "Please add some comments in the box below to reflect on what you have learnt through completing this worksheet, and any problems you encountered while doing so."
      ],
      "metadata": {
        "id": "0keHaFx_wiBW"
      }
    },
    {
      "cell_type": "markdown",
      "source": [
        "Working on this worksheet felt like I had missed a prior lesson due to the level of challenge it presented—but in the best way possible. It pushed me to deepen my understanding of lists and tuples, as well as their practical applications in data analysis.  \n",
        "\n",
        "One highlight was learning about the `while` loop, which I encountered while solving Exercise 10. This was a new and rewarding experience for me. Overall, the worksheet stretched my abilities, expanding both my problem-solving skills and my knowledge of data analysis techniques."
      ],
      "metadata": {
        "id": "dad3IXdBHjnq"
      }
    }
  ]
}