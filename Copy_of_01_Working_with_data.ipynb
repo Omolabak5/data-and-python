{
  "nbformat": 4,
  "nbformat_minor": 0,
  "metadata": {
    "colab": {
      "provenance": [],
      "include_colab_link": true
    },
    "kernelspec": {
      "name": "python3",
      "display_name": "Python 3"
    }
  },
  "cells": [
    {
      "cell_type": "markdown",
      "metadata": {
        "id": "view-in-github",
        "colab_type": "text"
      },
      "source": [
        "<a href=\"https://colab.research.google.com/github/Omolabak5/data-and-python/blob/main/Copy_of_01_Working_with_data.ipynb\" target=\"_parent\"><img src=\"https://colab.research.google.com/assets/colab-badge.svg\" alt=\"Open In Colab\"/></a>"
      ]
    },
    {
      "cell_type": "markdown",
      "metadata": {
        "id": "hfYzBHsYgy0C"
      },
      "source": [
        "# Working with data\n",
        "---\n",
        "\n",
        "Before you start this worksheet and if you haven't already done so:\n",
        "\n",
        "\n",
        "*   Read the presentation on working with data [here](https://docs.google.com/presentation/d/e/2PACX-1vSpwD5J56fvIW4xoD85CSGvtPkrEzBWTwO52jV0lsi_1F6hrhp5jV3kLYwEvcBsKNihjq84b-7nnJLM/pub?start=false&loop=false&delayms=5000&slide=id.p) and refer back to it whenever you need to\n",
        "*   Watch the video on functions [here](https://www.youtube.com/watch?v=_jR98aZoU0M)\n",
        "\n",
        "\n"
      ]
    },
    {
      "cell_type": "markdown",
      "source": [
        "### Exercise 1 - numerical data - whole numbers (_int_)\n",
        "The cell below contains a **function** that:\n",
        "\n",
        "*  creates a variable called **num** to store a whole number with value 3  \n",
        " `num = int(3)`\n",
        "*  creates a new, second variable called **num_plus_one** to hold the result of adding 1 to `num`  \n",
        "`num_plus_one = num + 1`\n",
        "*  prints the new data  \n",
        "`print(num_plus_one)`\n",
        "\n",
        "If the function has been written properly, it will print 4 (this is the test).  \n",
        "\n",
        "Run the function (click on the play button in the top left corner of the code box)."
      ],
      "metadata": {
        "id": "v01oO9HGbHAQ"
      }
    },
    {
      "cell_type": "code",
      "metadata": {
        "id": "4oPwx_yTf-yt",
        "collapsed": true,
        "colab": {
          "base_uri": "https://localhost:8080/"
        },
        "outputId": "f32b4d65-6ecf-494e-b816-6ce04495ad1d"
      },
      "source": [
        "def add_one():\n",
        "  # code instructions added below here, and indented to show that they belong to the function\n",
        "  num = int(2)\n",
        "  num_plus_one = num + 1\n",
        "  print(num_plus_one)\n",
        "\n",
        "\n",
        "add_one()"
      ],
      "execution_count": 5,
      "outputs": [
        {
          "output_type": "stream",
          "name": "stdout",
          "text": [
            "3\n"
          ]
        }
      ]
    },
    {
      "cell_type": "markdown",
      "source": [
        "### Have a play with this function\n",
        "\n",
        "1. Change the number called num to the number 345, run the code and it should print 346.\n",
        "2. Change num to another number, run the code and check that it prints the correct answer\n",
        "3.  Change num to \"two\" (written exactly as it is).  Run the code - it will crash and show the error message \"ValueError: invalid literal for int() with base 10: 'two'\" at the bottom of the error text.  This means that it couldn't process the data as it was a word rather than a number.  Change it to the number 2 and the code should run and give the answer 3"
      ],
      "metadata": {
        "id": "iWrE70yKdnFe"
      }
    },
    {
      "cell_type": "markdown",
      "metadata": {
        "id": "apeD48hhB1Ns"
      },
      "source": [
        "----\n",
        "### Exercise 2 - processing numerical data using decimal numbers (_float_)\n",
        "\n",
        "Have a go at writing this function (the code is included to help you).  \n",
        "*  create two variables **num1** and **num2** and assign them each a whole number  \n",
        "`num1 = float(28.5)` and `num2 = float(32.67)`   \n",
        "*  create a third variable **total** which will store the sum of num1 + num2    \n",
        "`total = num1 + num2`  \n",
        "*  print the total  \n",
        "`print(total)`    \n",
        "\n",
        "Run the function to test that you get the **expected output 61.17**.  \n",
        "\n",
        "Then change the value of one of the numbers and run the code again to get a new total."
      ]
    },
    {
      "cell_type": "code",
      "metadata": {
        "id": "T6WtdKMiCGh-",
        "colab": {
          "base_uri": "https://localhost:8080/"
        },
        "outputId": "ed4d5013-98b8-46d2-ca0d-df8b3c74743e"
      },
      "source": [
        "def calculate_total():\n",
        "  # add your code below here\n",
        "  num1 = float (345)\n",
        "  num2 = float(32.67)\n",
        "  total = num1 + num2\n",
        "  print(total)\n",
        "\n",
        "\n",
        "\n",
        "\n",
        "\n",
        "\n",
        "\n",
        "calculate_total()"
      ],
      "execution_count": 8,
      "outputs": [
        {
          "output_type": "stream",
          "name": "stdout",
          "text": [
            "377.67\n"
          ]
        }
      ]
    },
    {
      "cell_type": "markdown",
      "source": [
        "### Have a play with this function\n",
        "\n",
        "1. Change the number called num1 to the number 345, run the code and it should print 377.67.\n",
        "2. Change num2 to another  (either a whole number or a decimal number - floats can cope with both), run the code and check that it prints the correct answer\n",
        "3.  Change num2 back to float(43.67) and change num1 to \"56.7\" (written with the quotes and without float infront - e.g. num1 = \"56.7\" ).  Run the code - it will crash and show the error message \"TypeError: can only concatenate str (not \"float\") to str\" at the bottom of the error text.  This means that it couldn't process the data as it was trying to add a word and a number (the \" \" identifies it as text).  Change it to the number 2 and the code should run and give the answer 34.67."
      ],
      "metadata": {
        "id": "8t-0-qT-hc3q"
      }
    },
    {
      "cell_type": "markdown",
      "metadata": {
        "id": "Vc435xArCR41"
      },
      "source": [
        "---\n",
        "### Exercise 3 - categorical data - text\n",
        "*  create a variable called **name** and assign it the value \"Billy\" with the quotes  \n",
        "`name = \"Billy\"`\n",
        "*  create a variable called **age** and assign it the value \"18\" with the quotes  \n",
        "`age = \"18\"`  \n",
        "* create a variable called **message** and assign it the value of all the parts of the message joined together  \n",
        "`message = \"Hello \" + name + \" you are \" + age + \" years old.\"`\n",
        "*  print the message  \n",
        "`print(message)`\n",
        "\n",
        "**Expected output**:  \n",
        "Hello Billy you are 18 years old"
      ]
    },
    {
      "cell_type": "markdown",
      "source": [],
      "metadata": {
        "id": "HYIvOAKmv_Mw"
      }
    },
    {
      "cell_type": "code",
      "metadata": {
        "id": "EmO5dR9nCYpE",
        "colab": {
          "base_uri": "https://localhost:8080/"
        },
        "outputId": "30297b74-e682-49ad-ceac-118d5eb91dcd"
      },
      "source": [
        "def show_message():\n",
        "  # add your code below here\n",
        "  name = \"Indira\"\n",
        "  age = str(25)\n",
        "  message = \"Hello \" + name + \" you are \" + age + \" years old.\"\n",
        "  print(message)\n",
        "\n",
        "show_message()"
      ],
      "execution_count": 14,
      "outputs": [
        {
          "output_type": "stream",
          "name": "stdout",
          "text": [
            "Hello Indira you are 25 years old.\n"
          ]
        }
      ]
    },
    {
      "cell_type": "markdown",
      "source": [
        "### Have a play with this function\n",
        "\n",
        "1. Change the name to \"Indira\", run the code to see the change.\n",
        "2. Change age to another number,  run the code and check that it prints the correct answer\n",
        "3. Change age to 25 (written without the quotes, so it is a number).  Run the code - it will crash and show the error message \"TypeError: can only concatenate str (not \"int\") to str\" at the bottom of the error text.  This means that it couldn't join the text together as the age was a number and not text.  \n",
        "\n",
        "When adding things together, the variables must be of the same type. Try this:  change *age = 25* to *age = str(25)*.  It should now work correctly and give the message \"Hello Indira you are 25 years old.\""
      ],
      "metadata": {
        "id": "Q1MLSdNajK_r"
      }
    },
    {
      "cell_type": "markdown",
      "source": [
        "---\n",
        "### Exercise 4 - numerical data collected from the user\n",
        "\n",
        "The cell below contains the same **function** used in Exercise 1 but this time the data will come from the user as a keyboard input rather than generated by the code, and it will add 5 instead of 1:\n",
        "\n",
        "*  creates a variable called **num** to store a whole number entered from the keyboard  \n",
        "`num = int(input(\"Please enter a whole number: \"))`\n",
        "*  creates a new, second variable called **num_plus_five** to hold the result of adding 5 to `num` (as in Exercise 1)  \n",
        "*  prints the new data (as in Exercise 1)  \n",
        "\n",
        "If the function has been written properly, and you have entered 3 when asked (press enter after you've inputted the number), it will print **8** (this is the **expected output**).  \n",
        "\n",
        "Run the function (click on the play button in the top left corner of the code box)."
      ],
      "metadata": {
        "id": "4jEQF7QmkizQ"
      }
    },
    {
      "cell_type": "code",
      "source": [
        "def add_five():\n",
        "  # add your code, indented, below here\n",
        "  num = int(input(\"Please enter a whole number : \"))\n",
        "  num_plus_five = num + 5\n",
        "  print(num_plus_five)\n",
        "\n",
        "add_five()"
      ],
      "metadata": {
        "id": "-oThcTPtnAtS",
        "colab": {
          "base_uri": "https://localhost:8080/"
        },
        "outputId": "85712c97-06e8-479e-a04f-be7a9ea58543"
      },
      "execution_count": 17,
      "outputs": [
        {
          "output_type": "stream",
          "name": "stdout",
          "text": [
            "Please enter a whole number : 16\n",
            "21\n"
          ]
        }
      ]
    },
    {
      "cell_type": "markdown",
      "source": [
        "### Have a play with this function\n",
        "\n",
        "1. Run the code with a different whole number entered.\n",
        "2. Run the code with a decimal number entered (it should crash with a message saying \"ValueError\" as it can't convert the number from the keyboard if it doesn't look like a whole number)"
      ],
      "metadata": {
        "id": "ceMBgp-boGCa"
      }
    },
    {
      "cell_type": "markdown",
      "source": [
        "----\n",
        "### Exercise 5 - processing numerical data using decimal numbers (_float_) entered by the user\n",
        "\n",
        "Have a go at writing this function (the code is included to help you).  \n",
        "*  create two variables **num1** and **num2** and ask the user to enter a whole number for each  \n",
        "`num1 = float(input(\"Please enter a decimal number: \"))` and `num2 = float(input(\"Please enter a decimal number: \"))`   \n",
        "*  create a third variable **total** which will store the sum of num1 + num2    \n",
        "`total = num1 + num2`  \n",
        "*  print the total  \n",
        "`print(total)`    \n",
        "\n",
        "Run the function to test that you get the **expected output 61.17** when inputting the values 28.5 and 32.67.  "
      ],
      "metadata": {
        "id": "tm5zebNmnAcB"
      }
    },
    {
      "cell_type": "code",
      "source": [
        "def calculate_float_total():\n",
        "  # add your code, indented, below here\n",
        "  num1 = float(input(\"please enter a decimal number: \"))\n",
        "  num2  = float(input(\"please enter a decimal number: \"))\n",
        "  total = num1 + num2\n",
        "  print(total)\n",
        "\n",
        "\n",
        "calculate_float_total()"
      ],
      "metadata": {
        "id": "O65Io7C1n4u6",
        "colab": {
          "base_uri": "https://localhost:8080/"
        },
        "outputId": "1a84ea87-fc41-4dd7-f8be-3f92e292b3be"
      },
      "execution_count": 2,
      "outputs": [
        {
          "output_type": "stream",
          "name": "stdout",
          "text": [
            "please enter a decimal number: 28.5\n",
            "please enter a decimal number: 32.67\n",
            "61.17\n"
          ]
        }
      ]
    },
    {
      "cell_type": "markdown",
      "source": [
        "### Have a play with this function\n",
        "\n",
        "1. Try different decimal numbers and check that you get the expected output.\n",
        "2. Try entering whole numbers - it should still work as it just assumes the decimal point with .00 if it isn't there.\n",
        "3. Try entering words rather than numbers, you will get a ValueError"
      ],
      "metadata": {
        "id": "PK1mBZ-iqA0r"
      }
    },
    {
      "cell_type": "markdown",
      "source": [
        "---\n",
        "### Exercise 6 - categorical data - text and numbers from the keyboard\n",
        "*  create a variable called **name** and ask the user to enter a name on the keyboard  \n",
        "`name = input(\"Please enter a name: \")`\n",
        "*  create a variable called **age** and ask the user to enter an age on the keyboard  \n",
        "`age = input(\"Please enter an age: \"`)  \n",
        "* create a variable called **message** and assign it the value of all the parts of the message joined together  \n",
        "`message = \"Hello \" + name + \" you are \" + age + \" years old.\"`\n",
        "*  print the message  \n",
        "`print(message)`\n",
        "\n",
        "**Expected output if user enters Billy and 18**:  \n",
        "Hello Billy you are 18 years old"
      ],
      "metadata": {
        "id": "Pz_EpCuAqldF"
      }
    },
    {
      "cell_type": "code",
      "source": [
        "def show_message_with_keyboard_input():\n",
        "  # add your code below here\n",
        "  name = input (\"Please enter a name: \")\n",
        "  age = input (\"Please enter an age: \")\n",
        "  message = \"Hello \" + name + \" you are \" + age + \" years old.\"\n",
        "  print(message)\n",
        "\n",
        "show_message_with_keyboard_input()"
      ],
      "metadata": {
        "id": "Ayc-P3ZAreHm",
        "colab": {
          "base_uri": "https://localhost:8080/"
        },
        "outputId": "513b0e2c-d7c2-4a89-b64b-ab53ab5fc790"
      },
      "execution_count": 4,
      "outputs": [
        {
          "output_type": "stream",
          "name": "stdout",
          "text": [
            "Please enter a name: Wale\n",
            "Please enter an age: thirty\n",
            "Hello Wale you are thirty years old.\n"
          ]
        }
      ]
    },
    {
      "cell_type": "markdown",
      "source": [
        "### Have a play with this function\n",
        "\n",
        "1. Try different names and ages and check that you get the expected output.\n",
        "2. Try entering a word for the age - it should still work as it is just expecting some text for the age (but the output will not make sense)."
      ],
      "metadata": {
        "id": "Yu7dvfJLrZbE"
      }
    },
    {
      "cell_type": "markdown",
      "source": [
        "# Working with Files\n",
        "\n",
        "Three files have been created for you to use. You will need to upload them to the worksheet before you can work on them.\n",
        "\n",
        "The code to read the files is already added to the functions and it will be similar for any other functions you write where a text file is the data source.\n",
        "\n",
        "### Getting the files into the worksheet\n",
        "\n",
        "1. Download the zipped folder from this link: https://drive.google.com/file/d/1FIc4R39_6GC2Cbg7srRweNMTZI7HDj7m/view?usp=drive_link\n",
        "\n",
        "2. Unzip the files on your computer.\n",
        "\n",
        "3. Click on the folder icon in the left navigation pane ![](https://drive.google.com/uc?id=1qI1Z5UN9ybqpbd6g0HTvkzgwJuJBBGqW)\n",
        "\n",
        "4. Create a folder - right click next to the root folder icon to get the menu - name the folder \"worksheet_data\" ![](https://drive.google.com/uc?id=1jyDilrUxuiHS5h2-spOrxIkjMzeHVbWp)\n",
        "\n",
        "5. Click on the upload icon and upload the three files in the folder you unzipped (whole_number.txt, decimal_numbers.txt, message_info.txt)\n",
        "\n",
        "6. Drag each of the 3 files into the worksheet_data folder.\n",
        "\n",
        "You are now ready to use the files.  They are only here while the worksheet is open.  If you close it and open it again another time you will need to upload the files again.  Later we will access file directly online.\n"
      ],
      "metadata": {
        "id": "YVrmqW9NgtSp"
      }
    },
    {
      "cell_type": "markdown",
      "source": [
        "---\n",
        "### Exercise 7 - numerical data collected from a file\n",
        "\n",
        "The cell below contains the same **function** used in Exercise 1 but this time the data will come from file input rather than generated by the code, and it will add 5 instead of 1.  The first bullet point has been completed for you but you will need to add the rest of the code. When completed, the function:\n",
        "\n",
        "*  opens the file called `whole_number.txt` (which is in the `worksheet_data` folder:  \n",
        "`with open(\"worksheet_data/whole_number.txt\", \"r\") as datafile:`  \n",
        "in read-only mode, `\"r\"`, and gives it an alias name, **`datafile`**\n",
        "*  creates a variable called **num** to store a whole number read from `datafile`  \n",
        "`num = int(datafile.readline())`\n",
        "*  creates a new, second variable called **num_plus_five** to hold the result of adding 5 to `num` (as in Exercise 1)  \n",
        "*  prints the new data (as in Exercise 1)  \n",
        "\n",
        "If the function has been written properly, and you have accessed the correct file, it will print **8** (this is the **expected output**).  \n",
        "\n",
        "Run the function (click on the play button in the top left corner of the code box)."
      ],
      "metadata": {
        "id": "pSG6lH23sFjz"
      }
    },
    {
      "cell_type": "code",
      "source": [
        "def add_five_to_file_num():\n",
        "  with open(\"worksheet_data/decimal_numbers.txt\", \"r\") as datafile:\n",
        "    # add your code below, indented to align with the hash at the start of this comment\n",
        "    num = float(datafile.readline())\n",
        "    num_plus_five = num + 5\n",
        "    print(num_plus_five)\n",
        "\n",
        "add_five_to_file_num()"
      ],
      "metadata": {
        "id": "__be8y8cxl12",
        "colab": {
          "base_uri": "https://localhost:8080/"
        },
        "outputId": "a4a5edfc-9c08-4fa7-8b3d-92c4e77c610a"
      },
      "execution_count": 8,
      "outputs": [
        {
          "output_type": "stream",
          "name": "stdout",
          "text": [
            "10.6\n"
          ]
        }
      ]
    },
    {
      "cell_type": "markdown",
      "source": [
        "### Have a play with this function\n",
        "\n",
        "1. Try using the file `decimal_numbers.txt`, which contains 2 decimal numbers rather than one whole number.  To do this, just change the name of the file from `whole_number.txt` to `decimal_numbers.txt`."
      ],
      "metadata": {
        "id": "kkOyC_cv1cr4"
      }
    },
    {
      "cell_type": "markdown",
      "source": [
        "----\n",
        "### Exercise 8 - processing numerical data using decimal numbers (_float_) entered by the user\n",
        "\n",
        "Have a go at writing this function (the code is included to help you, and is set to read from the `decimal_numbers.txt` file).  \n",
        "*  open the file `decimal_numbers.txt`, in read-only mode, with the alias `datafile` (the code is included for you)   \n",
        "*  create two variables **num1** and **num2** and ask the user to enter a whole number for each  \n",
        "`num1 = float(datafile.readline())` and `num2 = float(datafile.readline())`   \n",
        "*  create a third variable **total** which will store the sum of num1 + num2    \n",
        "`total = num1 + num2`  \n",
        "*  print the total  \n",
        "`print(total)`    \n",
        "\n",
        "Run the function to test that you get the **expected output 39.6**.  "
      ],
      "metadata": {
        "id": "7ZjDKrrz2qwY"
      }
    },
    {
      "cell_type": "code",
      "source": [
        "def calculate_floats_from_file_total():\n",
        "  with open(\"worksheet_data/decimal_numbers.txt\", \"r\") as datafile:\n",
        "    # add your code below, indented to align with the hash at the start of this comment\n",
        "    num1 = float(datafile.readline())\n",
        "    num2 = float((datafile.readline()))\n",
        "    total = num1 + num2\n",
        "    print(total)\n",
        "\n",
        "\n",
        "calculate_floats_from_file_total()"
      ],
      "metadata": {
        "id": "HcG9NBbQ52-T",
        "colab": {
          "base_uri": "https://localhost:8080/"
        },
        "outputId": "cf67b888-f639-46de-d436-40b8c861bf34"
      },
      "execution_count": 9,
      "outputs": [
        {
          "output_type": "stream",
          "name": "stdout",
          "text": [
            "39.6\n"
          ]
        }
      ]
    },
    {
      "cell_type": "markdown",
      "source": [
        "### Have a play with this function\n",
        "\n",
        "1. Try adding a third variable called `num3` and read the data from the file.  You will get a ValueError as there are no more numbers in the file to be read."
      ],
      "metadata": {
        "id": "i5HcwDrj6R25"
      }
    },
    {
      "cell_type": "markdown",
      "source": [
        "---\n",
        "### Exercise 9 - categorical data - text and numbers from a file\n",
        "*  open the file `message_info.txt` in read-only mode, giving it the alias `datafile` (code is included for you)\n",
        "*  create a variable called **name** and ask the user to enter a name on the keyboard  \n",
        "`name = datafile.readline()`\n",
        "*  create a variable called **age** and ask the user to enter an age on the keyboard  \n",
        "`age = datafile.readline()`  \n",
        "* create a variable called **message** and assign it the value of all the parts of the message joined together  \n",
        "`message = \"Hello \" + name + \" you are \" + age + \" years old.\"`\n",
        "*  print the message  \n",
        "`print(message)`\n",
        "\n",
        "**Expected output if user enters Billy and 18**:  \n",
        "```\n",
        "Hello Billy\n",
        " you are 18\n",
        " years old\n",
        "```\n",
        "The different output is because the file data will have a new line after each piece of data.  This can be removed but we won't do that now.\n",
        "\n"
      ],
      "metadata": {
        "id": "k1FaS6737IFy"
      }
    },
    {
      "cell_type": "code",
      "source": [
        "def show_message_with_file_data():\n",
        "  with open(\"worksheet_data/message_info.txt\", \"r\") as datafile:\n",
        "    # add your code below, indented to align with the hash at the start of this comment\n",
        "    name = datafile.readline()\n",
        "    age = datafile.readline()\n",
        "    message = \" Hello \" + name + \" you are \" + age + \" years old.\"\n",
        "    print(message)\n",
        "\n",
        "show_message_with_file_data()"
      ],
      "metadata": {
        "id": "yevW1oL77cIC",
        "colab": {
          "base_uri": "https://localhost:8080/"
        },
        "outputId": "2fbc4a8b-b9d4-4d2b-a587-93914df4c73f"
      },
      "execution_count": 10,
      "outputs": [
        {
          "output_type": "stream",
          "name": "stdout",
          "text": [
            " Hello Billy\n",
            " you are 18\n",
            " years old.\n"
          ]
        }
      ]
    },
    {
      "cell_type": "markdown",
      "source": [
        "### Have a play with this function\n",
        "\n",
        "1. Try changing the file so that you read the `decimal_numbers.txt` file instead.  This file also has two pieces of data, and it is also text data, so the code should work but the output will look strange."
      ],
      "metadata": {
        "id": "f4Eu7_q77vQu"
      }
    },
    {
      "cell_type": "markdown",
      "source": [
        "---\n",
        "# Takeaways from this worksheet\n",
        "\n",
        "* coding is a valuable skill\n",
        "* coding is useful for repetitive data tasks and processing that is non-standard\n",
        "* data can be collected from a range of sources, including self-generated, from users or from files\n",
        "* python code should be organised into functions, this is good practice\n",
        "* you can add comments to code\n",
        "* int() and float() are numeric data types and you should convert to the right data type when you create data for a new variable.\n",
        "* strings are indicated by \"\" but you can use str() to force data to be text\n",
        "* errors are nothing to be worried about, they help you to learn and will eventually help you to write better code.\n",
        "\n"
      ],
      "metadata": {
        "id": "JdDQgdx09aqu"
      }
    },
    {
      "cell_type": "markdown",
      "source": [
        "---\n",
        "# Your thoughts on what you have learnt\n",
        "Please add some comments in the box below to reflect on what you have learnt through completing this worksheet, and any problems you encountered while doing so."
      ],
      "metadata": {
        "id": "1CuoB0eiU5O7"
      }
    },
    {
      "cell_type": "markdown",
      "source": [],
      "metadata": {
        "id": "wCLjjj6NVOVE"
      }
    }
  ]
}