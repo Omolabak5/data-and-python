{
  "nbformat": 4,
  "nbformat_minor": 0,
  "metadata": {
    "colab": {
      "provenance": [],
      "include_colab_link": true
    },
    "kernelspec": {
      "name": "python3",
      "display_name": "Python 3"
    },
    "language_info": {
      "name": "python"
    }
  },
  "cells": [
    {
      "cell_type": "markdown",
      "metadata": {
        "id": "view-in-github",
        "colab_type": "text"
      },
      "source": [
        "<a href=\"https://colab.research.google.com/github/Omolabak5/data-and-python/blob/main/Copy_of_13_Working_with_Dictionaries.ipynb\" target=\"_parent\"><img src=\"https://colab.research.google.com/assets/colab-badge.svg\" alt=\"Open In Colab\"/></a>"
      ]
    },
    {
      "cell_type": "markdown",
      "metadata": {
        "id": "AiiF1h2X4PHP"
      },
      "source": [
        "# Dictionaries\n",
        "\n",
        "---\n",
        "\n",
        "A **dictionary** is a collection of dissimilar data stored together in one *record*. Each item of data has a  (or key) that describes its paired value.  \n",
        "\n",
        "Create a dictionary object by declaring the set of keys and values, e.g.:\n",
        "\n",
        "```\n",
        "   transport = {\n",
        "       \"type\":\"bus\",\n",
        "       \"num_passengers\":72,\n",
        "       \"colour\":\"blue\",\n",
        "       \"fuel\":\"diesel\"\n",
        "   }\n",
        "```\n",
        "\n",
        "To access a value in a dictionary, use its key:  \n",
        "\n",
        "```\n",
        "transport_type = transport[\"type\"]\n",
        "transport_colour = transport[\"colour\"]\n",
        "```\n",
        "\n",
        "To change a value in a dictionary, assign a new value to the key:  \n",
        "```\n",
        "transport[\"type\"] = \"coach\"\n",
        "transport[\"fuel\"] = \"petrol\"\n",
        "```\n",
        "\n",
        "\n",
        "To add a new key/value pair to a dictionary, simply assign a value to a new key:  \n",
        "```\n",
        "transport[\"seats\"] = 54\n",
        "```\n",
        "\n",
        "The transport dictionary will now look like this:  \n",
        "```\n",
        "   transport = {\n",
        "       \"type\":\"coach\",\n",
        "       \"num_passengers\":72,\n",
        "       \"colour\":\"blue\",\n",
        "       \"fuel\":\"petrol\",\n",
        "       \"seats\":54\n",
        "   }\n",
        "```\n",
        "\n"
      ]
    },
    {
      "cell_type": "markdown",
      "metadata": {
        "id": "1uZ5kNWB6CqK"
      },
      "source": [
        "---\n",
        "### Exercise 1 - print dictionary\n",
        "\n",
        "Write a function which will:  \n",
        "\n",
        "*  create an empty dictionary for a person (name, age and postcode, with values \"\", 0 and \"\", respectively.)\n",
        "*  ask the user for name, age and postcode and assign the values to the correct keys in the dictionary  \n",
        "*  print the dictionary\n",
        "\n",
        "Test input:  \n",
        "Jack Jones  \n",
        "16  \n",
        "AB5 3DF  \n",
        "\n",
        "Expected output:  \n",
        "```{'name':'Jack Jones', 'age':16, 'postcode':'AB5 3DF'}```"
      ]
    },
    {
      "cell_type": "code",
      "metadata": {
        "id": "Ac7VQTj94Mrc",
        "colab": {
          "base_uri": "https://localhost:8080/"
        },
        "outputId": "5d157f15-8c29-4701-ad97-841a39496f6a"
      },
      "source": [
        "def print_dictionary():\n",
        "  #We create an empty dictionary using the format above.\n",
        "  person = {\n",
        "      \"name\":\"\",\n",
        "      \"age\":0,\n",
        "      \"postcode\":\"\"\n",
        "  }\n",
        "  #Rather than asssigning values to the key in dictionary we created, user will input the value\n",
        "  person[\"name\"] = input(\"please enter your name :\")\n",
        "  person[\"age\"] = int(input(\"Please enter your age :\"))\n",
        "  person[\"postcode\"] = input(\"Please enter your postcode :\")\n",
        "  print(person)\n",
        "\n",
        "print_dictionary()"
      ],
      "execution_count": 2,
      "outputs": [
        {
          "output_type": "stream",
          "name": "stdout",
          "text": [
            "please enter your name :Jack Jones\n",
            "Please enter your age :16\n",
            "Please enter your postcode :AB5 3DF\n",
            "{'name': 'Jack Jones', 'age': 16, 'postcode': 'AB5 3DF'}\n"
          ]
        }
      ]
    },
    {
      "cell_type": "markdown",
      "metadata": {
        "id": "0OtNqNKv7WKm"
      },
      "source": [
        "---\n",
        "### Exercise 2 - create a dictionary\n",
        "\n",
        "Write a function that will create two dictionaries,without values:  \n",
        "\n",
        "1.  person (with keys firstname, surname, birthdate, postcode)  \n",
        "2.  car (with key/value pairs as follows:  make - Vauxhall, model - Corsa, engine_size - 1199, fuel_type - unleaded, num_doors - 4)  \n",
        "\n",
        "*   ask the user to enter the values for the person dictionary  \n",
        "*   print, on one line, the person's name from the person dictionary and the make of the car from the car dictionary.\n",
        "\n",
        "Test input:  \n",
        "Jack  \n",
        "Jones  \n",
        "2005/02/02    \n",
        "AB5 3DF  \n",
        "\n",
        "Expected output:  \n",
        "Jack Jones Vauxhall"
      ]
    },
    {
      "cell_type": "code",
      "metadata": {
        "id": "ZyqhaBCC-GdI",
        "colab": {
          "base_uri": "https://localhost:8080/"
        },
        "outputId": "fd5a9827-5b6d-4197-d2f6-a2ef34c72dc3"
      },
      "source": [
        "def create_dictionary():\n",
        "\n",
        "  #create the 2 dictionaries for person and car but person will be empty\n",
        "  person = {\n",
        "      \"firstname\" : \"\",\n",
        "      \"surname\" : \"\",\n",
        "      \"birthdate\" : \"\",\n",
        "      \"postcode\" : \"\",\n",
        "  }\n",
        "  car = {\n",
        "      \"make\" : \"Vauxhall\",\n",
        "      \"model\" : \"Corsa\",\n",
        "      \"engine_size\" : 1199,\n",
        "      \"fuel_type\" : \"unleaded\",\n",
        "      \"num_doors\" : 4\n",
        "  }\n",
        "  #user will need to input the values for key in person dictionary\n",
        "\n",
        "  person[\"firstname\"] = input(\"Please enter your first name :\")\n",
        "  person[\"surname\"] = input(\"Please enter your surname :\")\n",
        "  person[\"birthdate\"] =input(\"Please enter your birthdate :\")\n",
        "  person[\"postcode\"] = input(\"Please enter your postcode :\")\n",
        "  print(person[\"firstname\"],person[\"surname\"], car[\"make\"])\n",
        "\n",
        "create_dictionary()"
      ],
      "execution_count": 5,
      "outputs": [
        {
          "output_type": "stream",
          "name": "stdout",
          "text": [
            "Please enter your first name :Jack\n",
            "Please enter your surname :Jones\n",
            "Please enter your birthdate :2005/02/02\n",
            "Please enter your postcode :AB5 3DF\n",
            "Jack Jones Vauxhall\n"
          ]
        }
      ]
    },
    {
      "cell_type": "markdown",
      "metadata": {
        "id": "gYuuOUYw-G4I"
      },
      "source": [
        "---\n",
        "### Exercise 3 - check dictionary values\n",
        "\n",
        "Write a new function which will:\n",
        "\n",
        "*  set up the same two dictionaries as in Exercise 2  \n",
        "*  ask the user to enter the details to complete the person record  \n",
        "*  calculate the person's age  \n",
        "*  if the person is under 17 then print a message to say that they can't buy a car as they are too young to drive\n",
        "*  else if the person is under 25 then print a message to say that an engine size under 1200 is recommended  \n",
        "*  ask the user to enter the make of car that the person is looking for  \n",
        "*  if the user enters the same make as that stored in the car record, then print a message to say that you have one car of that make in stock and print all the details of the car that you have the record for\n",
        "*  else (if the user enters any other car make) then print a message to say sorry that you don't have any cars of that make in stock\n",
        "*  print a message to say that the user can get more details for stockists in the <user's postcode> area if they call 01234567890\n",
        "*  print a message to say \"Thank you <user's name> for using our site\"  \n",
        "\n",
        "Test input:  \n",
        "Jack  \n",
        "Jones  \n",
        "2009/02/02  \n",
        "AB5 3DF  \n",
        "Vauxhall  \n",
        "\n",
        "Expected output:  \n",
        "You are too young to drive\n",
        "\n",
        "Test input:  \n",
        "John  \n",
        "Jones  \n",
        "2003/02/02  \n",
        "AB5 3DF  \n",
        "Vauxhall\n",
        "\n",
        "Expected output:  \n",
        "An engine size under 1200 is recommended.  \n",
        "We have one Vauxhall in stock, details:  \n",
        "Make - Vauxhall    \n",
        "Model - Corsa    \n",
        "Engine size - 1199  \n",
        "Fuel type - unleaded   \n",
        "Number of doors - 4  \n",
        "You can get more details of stockists near AB5 3DF on 01234567890.  \n",
        "Thank you John Jones for using our site.     \n",
        "\n",
        "Test input:  \n",
        "John  \n",
        "Jones  \n",
        "2003/02/02  \n",
        "AB5 3DF  \n",
        "Ford  \n",
        "\n",
        "Expected output:  \n",
        "An engine size under 1200 is recommended.  \n",
        "Sorry, we don't have any of that make in stock.  \n"
      ]
    },
    {
      "cell_type": "code",
      "metadata": {
        "id": "Wp9Il2JG_hDh",
        "colab": {
          "base_uri": "https://localhost:8080/"
        },
        "outputId": "1fd0d2df-0321-4f4b-cd7f-ad6f42c446e4"
      },
      "source": [
        "from datetime import datetime\n",
        "def create_dictionary():\n",
        "\n",
        "  #create the 2 dictionaries for person and car but person will be empty\n",
        "  person = {\n",
        "      \"firstname\" : \"\",\n",
        "      \"surname\" : \"\",\n",
        "      \"birthdate\" : \"\",\n",
        "      \"postcode\" : \"\",\n",
        "  }\n",
        "  #create second dictionary for \"car\", with keys/values, attributes of the car\n",
        "  car = {\n",
        "      \"make\" : \"Vauxhall\",\n",
        "      \"model\" : \"Corsa\",\n",
        "      \"engine_size\" : 1199,\n",
        "      \"fuel_type\" : \"unleaded\",\n",
        "      \"num_doors\" : 4\n",
        "  }\n",
        "   #user will need to input the values for key in \"person\" dictionary\n",
        "\n",
        "  person[\"firstname\"] = input(\"Please enter your first name :\")\n",
        "  person[\"surname\"] = input(\"Please enter your surname :\")\n",
        "  person[\"birthdate\"] =input(\"Please enter your birthdate :\")\n",
        "  person[\"postcode\"] = input(\"Please enter your postcode :\")\n",
        "\n",
        "  #datetime has already been imported so we can get the current year, also get the person age by subtracting their year of birth from current year\n",
        "  now = datetime.now()\n",
        "  current_year = now.year\n",
        "\n",
        "  #to get \"person\" age we have to change the birth date year to interger after extracting it from the birthdate that was inputed by the user\n",
        "  #count from the first number inputed which represent 0 position to the first 4 numbers [0:4]\n",
        "  year = int(person[\"birthdate\"][0:4])\n",
        "  age = current_year - year\n",
        "\n",
        "  #using the if logic, I add a contraint to if user is <17 and elif logic if user is <25.\n",
        "  if age < 17:\n",
        "    print(\"You can't buy a car, you are too young to drive\")\n",
        "  elif age < 25:\n",
        "    print(\"An engine size under 1200 is recommended\")\n",
        "    make = input(\"Please enter the make of car that you are looking for :\")\n",
        "    if make == car[\"make\"]:\n",
        "      print(\"We have one Vauxhall in stock, details :\")\n",
        "\n",
        "      for record in car:   #used the for logic here to print all the record if the make inputed by user is same as the make we have in dictionary\n",
        "       print(record,\"-\",car[record])\n",
        "      print(\"You can get more details of stockists near\",person[\"postcode\"],\"on 01234567890\")\n",
        "      print(\"Thank you\",person[\"firstname\"],person[\"surname\"],\"for using our site\")\n",
        "    if make != car[\"make\"]:\n",
        "      print(\"An engine size under 1200 is recommended.\")\n",
        "      print(\"Sorry, we don't have any of that make in stock. \")\n",
        "\n",
        "\n",
        "    #print(\"Make - \",car[\"make\"])\n",
        "    #print(\"Model - \",car[\"model\"])\n",
        "    #print(\"Engine size - \",car[\"engine_size\"])\n",
        "    #print(\"Fuel type - \",car[\"fuel_type\"])\n",
        "    #print()\n",
        "\n",
        "create_dictionary()"
      ],
      "execution_count": 4,
      "outputs": [
        {
          "output_type": "stream",
          "name": "stdout",
          "text": [
            "Please enter your first name :John\n",
            "Please enter your surname :Jones\n",
            "Please enter your birthdate :2003/02/02\n",
            "Please enter your postcode :AB5 3DF\n",
            "An engine size under 1200 is recommended\n",
            "Please enter the make of car that you are looking for :Ford\n",
            "An engine size under 1200 is recommended.\n",
            "Sorry, we don't have any of that make in stock. \n"
          ]
        }
      ]
    },
    {
      "cell_type": "markdown",
      "metadata": {
        "id": "I6dUiRwn7Gkg"
      },
      "source": [
        "---\n",
        "### Exercise 4 - print keys and values\n",
        "\n",
        "Two dictionaries have been created below.  You can print a list of the dictionary's keys using `dictionary_name.keys()` and the values using `dictionary_name.values()`\n",
        "\n",
        "Write a function which will accept a dictionary as a parameter and will:  \n",
        "*  print the dictionary keys as a list   \n",
        "*  print the dictionary values as a list  \n",
        "\n",
        "*Hint*:  you will need to cast the keys as a list (`list(dictionary_name.keys()`)  and do the same for the values.\n",
        "\n",
        "**Expected Output**\n",
        "\n",
        "Input: english_scores  \n",
        "Output:\n",
        "['Andy', 'Angela']  \n",
        "[95, 53]  \n",
        "\n",
        "Input: maths_scores  \n",
        "Output:  \n",
        "['Andy', 'Angela']  \n",
        "[58, 72]\n",
        "\n",
        "\n",
        "\n"
      ]
    },
    {
      "cell_type": "code",
      "metadata": {
        "id": "FApOckhJEsMs",
        "colab": {
          "base_uri": "https://localhost:8080/"
        },
        "outputId": "7a1f43a0-e750-42e3-9c1b-7eed4bf9d971"
      },
      "source": [
        "def display_dictionary(scores):\n",
        "  #first we need to turn the dictionary keys/values to list to be accepted as parameter\n",
        "\n",
        "  key_list = list(scores.keys())\n",
        "  value_list = list(scores.values())\n",
        "\n",
        "  #we can then print the dictionary\n",
        "  print(scores.keys())\n",
        "  print(scores.values())\n",
        "\n",
        "\n",
        "#Add the test input list as parameters , then call the function.\n",
        "english_scores = {'Andy': 95, 'Angela': 53}\n",
        "maths_scores = {'Andy': 58, 'Angela': 72}\n",
        "#display_dictionary(english_scores)\n",
        "display_dictionary(maths_scores)"
      ],
      "execution_count": 2,
      "outputs": [
        {
          "output_type": "stream",
          "name": "stdout",
          "text": [
            "dict_keys(['Andy', 'Angela'])\n",
            "dict_values([58, 72])\n"
          ]
        }
      ]
    },
    {
      "cell_type": "markdown",
      "metadata": {
        "id": "segSpkmBFSJl"
      },
      "source": [
        "---\n",
        "### Exercise 5 - add field\n",
        "\n",
        "Write a function which will:\n",
        "\n",
        "*  create a new dictionary called **science_scores** with values of 0 for both Andy and Angela\n",
        "*  update Andy's score for science to 73 and Angela's score to 73   \n",
        "*  create a new key/value pair by adding another learner to the `science_scores`  dictionary (George has a score of 55)    \n",
        "*  print the `science_scores` dictionary to check results  \n",
        "\n",
        "Expected Output\n",
        "\n",
        "{'Andy': 73, 'Angela': 73, 'George': 55}"
      ]
    },
    {
      "cell_type": "code",
      "metadata": {
        "id": "BL1JM-Z7Gttf",
        "colab": {
          "base_uri": "https://localhost:8080/"
        },
        "outputId": "71608559-86a2-48b6-f105-a523b2077631"
      },
      "source": [
        "def science_scores():\n",
        "\n",
        "  #creating a dictionary keys but no values\n",
        "  science_scores = {\n",
        "      \"Andy\" : 0,\n",
        "      \"Angela\" : 0\n",
        "  }\n",
        "\n",
        "  #we add values to the keys also add a new key/value pair(George =55) to the dictionary\n",
        "  science_scores[\"Andy\"] = 73\n",
        "  science_scores[\"Angela\"] = 73\n",
        "  science_scores[\"George\"] = 55\n",
        "  print(science_scores)\n",
        "\n",
        "science_scores()"
      ],
      "execution_count": 3,
      "outputs": [
        {
          "output_type": "stream",
          "name": "stdout",
          "text": [
            "{'Andy': 73, 'Angela': 73, 'George': 55}\n"
          ]
        }
      ]
    },
    {
      "cell_type": "markdown",
      "metadata": {
        "id": "_Vzv0zlHGt-C"
      },
      "source": [
        "---\n",
        "### Exercise 6 - loop through keys/value pairs\n",
        "\n",
        "Write a function which will use a *for* loop to print the each key/value pair in the science dictionary (recreate this dictionary in this function)\n",
        "\n",
        "*(Hint: you can iterate through the key/value pairs in the dictionary in the same way as you iterate through a loop (e.g. for record in dictionary) and print the record (which is the key) and its value)*\n",
        "\n",
        "Expected output:  \n",
        "\n",
        "Andy 73  \n",
        "Angela 73  \n",
        "George 55  "
      ]
    },
    {
      "cell_type": "code",
      "metadata": {
        "id": "JL40_-W-Hxnt",
        "colab": {
          "base_uri": "https://localhost:8080/"
        },
        "outputId": "e3ab5e8f-e6d1-486f-cccd-f305ac67f423"
      },
      "source": [
        "def loop_science_scores():\n",
        "\n",
        "  #we first create a dictionary with keys/values\n",
        "  science_scores = {\n",
        "      \"Andy\" : 73,\n",
        "      \"Angela\" : 73,\n",
        "      \"George\" : 55\n",
        "      }\n",
        "  #using the \"for logic\" to print the record(keys/values) in the dictionary\n",
        "  for record in science_scores:\n",
        "    print(record, science_scores[record])\n",
        "\n",
        "loop_science_scores()"
      ],
      "execution_count": 14,
      "outputs": [
        {
          "output_type": "stream",
          "name": "stdout",
          "text": [
            "Andy 73\n",
            "Angela 73\n",
            "George 55\n"
          ]
        }
      ]
    },
    {
      "cell_type": "markdown",
      "metadata": {
        "id": "G9wamxzRJdrE"
      },
      "source": [
        "---\n",
        "### Exercise 7 - generate new dictionary  \n",
        "\n",
        "Write a functions which will:\n",
        "*  create a new dictionary where the keys are numbers between 1 and 15 (both included) and the values are square of keys\n",
        "*  print the dictionary\n",
        "* HINT: You can create an empty dictionary by assiging the variable name to empty curly brackets, e.g. `new_dictionary = {}`\n",
        "\n",
        "Expected output:  \n",
        "{1: 1, 2: 4, 3: 9, 4: 16, 5: 25, 6: 36, 7: 49, 8: 64, 9: 81, 10: 100, 11: 121, 12: 144, 13: 169, 14: 196, 15: 225}"
      ]
    },
    {
      "cell_type": "code",
      "metadata": {
        "id": "1-LI-LVrJ--N",
        "colab": {
          "base_uri": "https://localhost:8080/"
        },
        "outputId": "eeda8540-6ced-4159-f947-97f9572d4d21"
      },
      "source": [
        "def generate_dictionary():\n",
        "\n",
        "  #we create an empty dictionary\n",
        "  new_dictionary = {}\n",
        "  for i in range(1,16): #loop fron 1 to 15\n",
        "  #for each \"i\" which represent the keys , the values assign will be the square of the keys \"i**2\", this will give us the new dictionary.\n",
        "   new_dictionary[i] = i**2\n",
        "  print(new_dictionary)\n",
        "\n",
        "\n",
        "generate_dictionary()"
      ],
      "execution_count": 9,
      "outputs": [
        {
          "output_type": "stream",
          "name": "stdout",
          "text": [
            "{1: 1, 2: 4, 3: 9, 4: 16, 5: 25, 6: 36, 7: 49, 8: 64, 9: 81, 10: 100, 11: 121, 12: 144, 13: 169, 14: 196, 15: 225}\n"
          ]
        }
      ]
    },
    {
      "cell_type": "markdown",
      "metadata": {
        "id": "t0y4mefwJ_jQ"
      },
      "source": [
        "---\n",
        "### Exercise 8 - colour dictionary  \n",
        "\n",
        "Write a function which will:  \n",
        "*  create a new dictionary record called colour_codes with the values 'red' - '#FF0000', 'green' - '#008000', 'black' - '#000000', 'white' - '#FFFFFF'\n",
        "*  add a new colour code:  'blue' - '#0000FF'    \n",
        "*  remove the colours black and white from the dictionary\n",
        "*  print the updated dictionary\n",
        "\n",
        "*Hint:  there is a list of methods [here](https://www.w3schools.com/python/python_ref_dictionary.asp)*  \n",
        "\n",
        "Expected output:\n",
        "\n",
        "{'red': '#FF0000', 'green': '#008000', 'blue': '#0000FF'}"
      ]
    },
    {
      "cell_type": "code",
      "metadata": {
        "id": "yod1mUNOMeWg",
        "colab": {
          "base_uri": "https://localhost:8080/"
        },
        "outputId": "3c165c41-e268-4423-ce5a-5dcc423eb718"
      },
      "source": [
        "def colour_dictionary():\n",
        "\n",
        "  #create the dictionary with keys/values.\n",
        "  colour_codes = {\n",
        "      \"red\" : \"#FF0000\",\n",
        "      \"green\" : \"#008000\",\n",
        "      \"black\" : \"#000000\",\n",
        "      \"white\" : \"#FFFFFF\"\n",
        "  }\n",
        "  #adding a new pair of key/value , which is blue.\n",
        "  colour_codes[\"blue\"] = \"#0000FF\"\n",
        "\n",
        "  #remove black and white from the initial dictionary and print the updated dictionary.\n",
        "  colour_codes.pop(\"black\")\n",
        "  colour_codes.pop(\"white\")\n",
        "  print(colour_codes)\n",
        "\n",
        "colour_dictionary()"
      ],
      "execution_count": 10,
      "outputs": [
        {
          "output_type": "stream",
          "name": "stdout",
          "text": [
            "{'red': '#FF0000', 'green': '#008000', 'blue': '#0000FF'}\n"
          ]
        }
      ]
    },
    {
      "cell_type": "markdown",
      "metadata": {
        "id": "gjos_0vuMeyS"
      },
      "source": [
        "---\n",
        "### Exercise 9 - item tuples  \n",
        "\n",
        "Write a function which will:  \n",
        "*  create a new dictionary containing the colour codes for red, green, blue, black and white\n",
        "*  print the key/value pairs of a dictionary as a list of tuples  \n",
        "\n",
        "*Hint:  iterate through colour_codes.items()*\n",
        "\n",
        "Expected output:\n",
        "\n",
        "[('red', '#FF0000'), ('green', '#008000'), ('blue', '#0000FF'), ('black', '#000000'), ('white', '#000000')]"
      ]
    },
    {
      "cell_type": "code",
      "metadata": {
        "id": "EzuMkUypOKTY",
        "colab": {
          "base_uri": "https://localhost:8080/"
        },
        "outputId": "a0f0421e-ffa0-45b2-a574-1117689fe8da"
      },
      "source": [
        "def colour_dictionary():\n",
        "\n",
        "  #create a dictionary with colour&code as key/values\n",
        "  colour_codes = {\n",
        "      \"red\" : \"#FF0000\",\n",
        "      \"green\" : \"#008000\",\n",
        "      \"black\" : \"#000000\",\n",
        "      \"white\" : \"#FFFFFF\"\n",
        "  }\n",
        "  #by using list, we are able to turn the dictionary to list of tuples. Also use .items() to print the keys and values of the dictionary.\n",
        "  print(list(colour_codes.items()))\n",
        "\n",
        "\n",
        "colour_dictionary()\n",
        "\n"
      ],
      "execution_count": 3,
      "outputs": [
        {
          "output_type": "stream",
          "name": "stdout",
          "text": [
            "[('red', '#FF0000'), ('green', '#008000'), ('black', '#000000'), ('white', '#FFFFFF')]\n"
          ]
        }
      ]
    },
    {
      "cell_type": "markdown",
      "metadata": {
        "id": "Jw1ot10cOc6r"
      },
      "source": [
        "---\n",
        "### Exercise 10 - check if empty\n",
        "Taken from w3resouce.com  \n",
        "\n",
        "Write a function which will check if a dictionary is empty or not\n",
        "\n",
        "*Hint:  you can use bool(dictionary_name), if the dictionary is empty then bool(dictionary_name will be false)*\n",
        "\n",
        "Test 1 sample data:\n",
        "{}\n",
        "\n",
        "Expected output:\n",
        "Dictionary is empty  \n",
        "\n",
        "Test 2 sample data:  \n",
        "{\"name\":\"Groucho\", \"occupation\":\"comedian\"}\n",
        "\n",
        "Expected output:  \n",
        "Dictionary is not empty"
      ]
    },
    {
      "cell_type": "code",
      "metadata": {
        "id": "7UdM1TfwRqnt",
        "colab": {
          "base_uri": "https://localhost:8080/"
        },
        "outputId": "0fc84f3a-3b93-4f56-9c5f-20dbfbe44d1c"
      },
      "source": [
        "def check_dictionary(dict):\n",
        "#I used the bool(dictionary_name) and if logic to check dictionary when empty or not.\n",
        "  #if dict == {}:\n",
        "  if bool(dict) == False:\n",
        "    print(\"Dictionary is empty\")\n",
        "  else:\n",
        "    bool(dict) == True\n",
        "    print(\"Dictionary is not empty\")\n",
        "\n",
        "#add the sample data then recall the function to test.\n",
        "\n",
        "sample_data1 = {}\n",
        "#sample_data2 = {\"name\":\"Groucho\", \"occupation\":\"comedian\"}\n",
        "check_dictionary(sample_data1)\n",
        "#check_dictionary(sample_data2)\n"
      ],
      "execution_count": 12,
      "outputs": [
        {
          "output_type": "stream",
          "name": "stdout",
          "text": [
            "Dictionary is empty\n"
          ]
        }
      ]
    },
    {
      "cell_type": "markdown",
      "source": [
        "## Your thoughts on what you have learnt\n",
        "Please add some comments in the box below to reflect on what you have learnt through completing this worksheet, and any problems you encountered while doing so."
      ],
      "metadata": {
        "id": "EXYfVV1hv8U-"
      }
    },
    {
      "cell_type": "markdown",
      "source": [
        "\n",
        "As much as this worksheet was not as challenging as I initially presumed, Exercise 2 required me to revisit a previous worksheet where I worked with the datetime module. This helped reinforce my understanding and practice of handling date-related tasks.\n",
        "\n",
        "Additionally, when instructed to print the details of the car, I learned a more efficient way to achieve this. Instead of using the old method: print(\"Make - \",car[\"make\"])\n",
        "    print(\"Model - \",car[\"model\"])\n",
        "    print(\"Engine size - \",car[\"engine_size\"])\n",
        "    print(\"Fuel type - \",car[\"fuel_type\"])\n",
        "    print()\n",
        "\n",
        "I made used on the \"for loop\" which make it easier: for record in car:\n",
        "                                                 print(record,\"-\",car[record])\n",
        "This made the code shorter, easier to read, and more adaptable, especially if additional attributes are added to the car dictionary.\n",
        "lastly, with each worksheet completed my confidence in using python as a data analysis tool increases.                                                 \n"
      ],
      "metadata": {
        "id": "e_295aNvv9U2"
      }
    }
  ]
}